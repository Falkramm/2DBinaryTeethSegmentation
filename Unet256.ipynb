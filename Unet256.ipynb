{
  "cells": [
    {
      "cell_type": "code",
      "source": [
        "import tensorflow as tf\n",
        "device_name = tf.test.gpu_device_name()\n",
        "if device_name != '/device:GPU:0':\n",
        "  raise SystemError('GPU device not found')\n",
        "print('Found GPU at: {}'.format(device_name))"
      ],
      "metadata": {
        "id": "gwAhyeGuDS6s",
        "colab": {
          "base_uri": "https://localhost:8080/"
        },
        "outputId": "258ab6c4-6e6e-4342-c6d2-a54ea56e13a5"
      },
      "execution_count": null,
      "outputs": [
        {
          "output_type": "stream",
          "name": "stdout",
          "text": [
            "Found GPU at: /device:GPU:0\n"
          ]
        }
      ]
    },
    {
      "cell_type": "code",
      "source": [],
      "metadata": {
        "id": "mIaCsnCz2tIL"
      },
      "execution_count": null,
      "outputs": []
    },
    {
      "cell_type": "code",
      "execution_count": null,
      "metadata": {
        "collapsed": true,
        "ExecuteTime": {
          "end_time": "2023-12-09T17:11:43.138078349Z",
          "start_time": "2023-12-09T17:11:39.637331338Z"
        },
        "id": "yVBn4fq7-B68"
      },
      "outputs": [],
      "source": [
        "import tensorflow as tf\n",
        "import pandas as pd\n",
        "from PIL import Image\n",
        "import numpy as np\n",
        "import zipfile\n",
        "import os\n",
        "import glob\n",
        "import random\n",
        "import sys\n",
        "\n",
        "import skimage.io  #Used for imshow function\n",
        "import skimage.transform  #Used for resize function\n",
        "from skimage.morphology import label  #Used for Run-Length-Encoding RLE to create final submission\n",
        "import matplotlib.pyplot as plt\n",
        "\n",
        "from tensorflow.keras import *\n",
        "from tensorflow.keras.layers import *\n",
        "from tensorflow.keras.models import Model\n",
        "from tensorflow.keras import backend as K\n",
        "from tensorflow.keras.callbacks import LearningRateScheduler, ModelCheckpoint, EarlyStopping, ReduceLROnPlateau\n",
        "from tensorflow.keras.preprocessing.image import ImageDataGenerator\n",
        "from sklearn.model_selection import train_test_split"
      ]
    },
    {
      "cell_type": "code",
      "execution_count": null,
      "outputs": [],
      "source": [],
      "metadata": {
        "ExecuteTime": {
          "end_time": "2023-12-09T17:11:43.151142392Z",
          "start_time": "2023-12-09T17:11:43.140617603Z"
        },
        "id": "4L79hnEs-B6-"
      }
    },
    {
      "cell_type": "code",
      "execution_count": null,
      "outputs": [],
      "source": [
        "# Загрузка данных\n",
        "data_dir = 'data_256/'\n",
        "images_dir = 'images/'\n",
        "masks_dir = 'masks/'\n",
        "WIDTH = 256\n",
        "HEIGHT = 256\n",
        "CLASSES = 1"
      ],
      "metadata": {
        "ExecuteTime": {
          "end_time": "2023-12-09T17:31:45.369811060Z",
          "start_time": "2023-12-09T17:31:45.328125675Z"
        },
        "id": "nXRK_kfw-B6-"
      }
    },
    {
      "cell_type": "code",
      "execution_count": null,
      "outputs": [],
      "source": [
        "import os\n",
        "from PIL import Image\n",
        "import numpy as np\n",
        "\n",
        "\n",
        "def load_image(image_path):\n",
        "    image = Image.open(data_dir + images_dir + image_path)  #.convert('L')  # Преобразуем в оттенки серого\n",
        "    return np.array(image)\n",
        "\n",
        "\n",
        "import numpy as np\n",
        "from PIL import Image\n",
        "\n",
        "def load_mask(mask_path):\n",
        "    mask = Image.open(data_dir + masks_dir + mask_path).convert('L')  # Преобразуем в оттенки серого\n",
        "    mask_array = np.array(mask)\n",
        "    mask_float = mask_array.astype(float) / 255.0  # Преобразуем в тип float и нормализуем значения до диапазона [0, 1]\n",
        "    return mask_float\n"
      ],
      "metadata": {
        "ExecuteTime": {
          "end_time": "2023-12-09T17:31:46.144671869Z",
          "start_time": "2023-12-09T17:31:46.134829810Z"
        },
        "id": "Ffr9l0Bq-B6_"
      }
    },
    {
      "cell_type": "code",
      "execution_count": null,
      "outputs": [],
      "source": [
        "# # Подготовка данных\n",
        "image_paths = sorted(os.listdir(data_dir + images_dir))"
      ],
      "metadata": {
        "ExecuteTime": {
          "end_time": "2023-12-09T17:31:47.063987100Z",
          "start_time": "2023-12-09T17:31:47.056756986Z"
        },
        "id": "g_aP5-2o-B6_"
      }
    },
    {
      "cell_type": "code",
      "execution_count": null,
      "outputs": [
        {
          "output_type": "stream",
          "name": "stdout",
          "text": [
            "['1.png', '10.png', '100.png', '101.png', '102.png', '103.png', '104.png', '105.png', '106.png', '107.png', '108.png', '109.png', '11.png', '110.png', '111.png', '112.png', '113.png', '114.png', '115.png', '116.png', '117.png', '118.png', '119.png', '12.png', '120.png', '121.png', '122.png', '123.png', '124.png', '125.png', '126.png', '127.png', '128.png', '129.png', '13.png', '130.png', '131.png', '132.png', '133.png', '134.png', '135.png', '136.png', '137.png', '138.png', '139.png', '14.png', '140.png', '141.png', '142.png', '143.png', '144.png', '145.png', '146.png', '147.png', '148.png', '149.png', '15.png', '150.png', '151.png', '152.png', '153.png', '154.png', '155.png', '156.png', '157.png', '158.png', '159.png', '16.png', '160.png', '161.png', '162.png', '163.png', '164.png', '165.png', '166.png', '167.png', '168.png', '169.png', '17.png', '170.png', '171.png', '172.png', '173.png', '174.png', '175.png', '176.png', '177.png', '178.png', '179.png', '18.png', '180.png', '181.png', '182.png', '183.png', '184.png', '185.png', '186.png', '187.png', '188.png', '189.png', '19.png', '190.png', '191.png', '192.png', '193.png', '194.png', '195.png', '196.png', '197.png', '198.png', '199.png', '2.png', '20.png', '200.png', '201.png', '202.png', '203.png', '204.png', '205.png', '206.png', '207.png', '208.png', '209.png', '21.png', '210.png', '211.png', '212.png', '213.png', '214.png', '215.png', '216.png', '217.png', '218.png', '219.png', '22.png', '220.png', '221.png', '222.png', '223.png', '224.png', '225.png', '226.png', '227.png', '228.png', '229.png', '23.png', '230.png', '231.png', '232.png', '233.png', '234.png', '235.png', '236.png', '237.png', '238.png', '239.png', '24.png', '240.png', '241.png', '242.png', '243.png', '244.png', '245.png', '246.png', '247.png', '248.png', '249.png', '25.png', '250.png', '251.png', '252.png', '253.png', '254.png', '255.png', '256.png', '257.png', '258.png', '259.png', '26.png', '260.png', '261.png', '262.png', '263.png', '264.png', '265.png', '266.png', '267.png', '268.png', '269.png', '27.png', '270.png', '271.png', '272.png', '273.png', '274.png', '275.png', '276.png', '277.png', '278.png', '279.png', '28.png', '280.png', '281.png', '282.png', '283.png', '284.png', '285.png', '286.png', '287.png', '288.png', '289.png', '29.png', '290.png', '291.png', '292.png', '293.png', '294.png', '295.png', '296.png', '297.png', '298.png', '299.png', '3.png', '30.png', '300.png', '301.png', '302.png', '303.png', '304.png', '305.png', '306.png', '307.png', '308.png', '309.png', '31.png', '310.png', '311.png', '312.png', '313.png', '314.png', '315.png', '316.png', '317.png', '318.png', '319.png', '32.png', '320.png', '321.png', '322.png', '323.png', '324.png', '325.png', '326.png', '327.png', '328.png', '329.png', '33.png', '330.png', '331.png', '332.png', '333.png', '334.png', '335.png', '336.png', '337.png', '338.png', '339.png', '34.png', '340.png', '341.png', '342.png', '343.png', '344.png', '345.png', '346.png', '347.png', '348.png', '349.png', '35.png', '350.png', '351.png', '352.png', '353.png', '354.png', '355.png', '356.png', '357.png', '358.png', '359.png', '36.png', '360.png', '361.png', '362.png', '363.png', '364.png', '365.png', '366.png', '367.png', '368.png', '369.png', '37.png', '370.png', '371.png', '372.png', '373.png', '374.png', '375.png', '376.png', '377.png', '378.png', '379.png', '38.png', '380.png', '381.png', '382.png', '383.png', '384.png', '385.png', '386.png', '387.png', '388.png', '389.png', '39.png', '390.png', '391.png', '392.png', '393.png', '394.png', '395.png', '396.png', '397.png', '398.png', '399.png', '4.png', '40.png', '400.png', '401.png', '402.png', '403.png', '404.png', '405.png', '406.png', '407.png', '408.png', '409.png', '41.png', '410.png', '411.png', '412.png', '413.png', '414.png', '415.png', '416.png', '417.png', '418.png', '419.png', '42.png', '420.png', '421.png', '422.png', '423.png', '424.png', '425.png', '426.png', '427.png', '428.png', '429.png', '43.png', '430.png', '431.png', '432.png', '433.png', '434.png', '435.png', '436.png', '437.png', '438.png', '439.png', '44.png', '440.png', '441.png', '442.png', '443.png', '444.png', '445.png', '446.png', '447.png', '448.png', '449.png', '45.png', '450.png', '451.png', '452.png', '453.png', '454.png', '455.png', '456.png', '457.png', '458.png', '459.png', '46.png', '460.png', '461.png', '462.png', '463.png', '464.png', '465.png', '466.png', '467.png', '468.png', '469.png', '47.png', '470.png', '471.png', '472.png', '473.png', '474.png', '475.png', '476.png', '477.png', '478.png', '479.png', '48.png', '480.png', '481.png', '482.png', '483.png', '484.png', '485.png', '486.png', '487.png', '488.png', '489.png', '49.png', '490.png', '491.png', '492.png', '493.png', '494.png', '495.png', '496.png', '497.png', '498.png', '499.png', '5.png', '50.png', '500.png', '501.png', '502.png', '503.png', '504.png', '505.png', '506.png', '507.png', '508.png', '509.png', '51.png', '510.png', '511.png', '512.png', '513.png', '514.png', '515.png', '516.png', '517.png', '518.png', '519.png', '52.png', '520.png', '521.png', '522.png', '523.png', '524.png', '525.png', '526.png', '527.png', '528.png', '529.png', '53.png', '530.png', '531.png', '532.png', '533.png', '534.png', '535.png', '536.png', '537.png', '538.png', '539.png', '54.png', '540.png', '541.png', '542.png', '543.png', '544.png', '545.png', '546.png', '547.png', '548.png', '549.png', '55.png', '550.png', '551.png', '552.png', '553.png', '554.png', '555.png', '556.png', '557.png', '558.png', '559.png', '56.png', '560.png', '561.png', '562.png', '563.png', '564.png', '565.png', '566.png', '567.png', '568.png', '569.png', '57.png', '570.png', '571.png', '572.png', '573.png', '574.png', '575.png', '576.png', '577.png', '578.png', '579.png', '58.png', '580.png', '581.png', '582.png', '583.png', '584.png', '585.png', '586.png', '587.png', '588.png', '589.png', '59.png', '590.png', '591.png', '592.png', '593.png', '594.png', '595.png', '596.png', '597.png', '598.png', '6.png', '60.png', '61.png', '62.png', '63.png', '64.png', '65.png', '66.png', '67.png', '68.png', '69.png', '7.png', '70.png', '71.png', '72.png', '73.png', '74.png', '75.png', '76.png', '77.png', '78.png', '79.png', '8.png', '80.png', '81.png', '82.png', '83.png', '84.png', '85.png', '86.png', '87.png', '88.png', '89.png', '9.png', '90.png', '91.png', '92.png', '93.png', '94.png', '95.png', '96.png', '97.png', '98.png', '99.png']\n"
          ]
        }
      ],
      "source": [
        "print(image_paths)"
      ],
      "metadata": {
        "ExecuteTime": {
          "end_time": "2023-12-09T17:31:47.541603893Z",
          "start_time": "2023-12-09T17:31:47.537787767Z"
        },
        "colab": {
          "base_uri": "https://localhost:8080/"
        },
        "id": "NkcKblBG-B7A",
        "outputId": "65161332-55a4-41f4-cb6b-9c2e908547e3"
      }
    },
    {
      "cell_type": "code",
      "execution_count": null,
      "outputs": [
        {
          "output_type": "stream",
          "name": "stdout",
          "text": [
            "Train samples: 358\n",
            "Valid samples: 120\n",
            "Test samples: 120\n"
          ]
        }
      ],
      "source": [
        "from sklearn.model_selection import train_test_split\n",
        "\n",
        "# Разделение данных на обучающую, валидационную и тестовую выборки\n",
        "train_paths, test_paths = train_test_split(image_paths, test_size=0.2, random_state=42)\n",
        "train_paths, valid_paths = train_test_split(train_paths, test_size=0.25, random_state=42)  # 0.25 * 0.8 = 0.2\n",
        "\n",
        "# Проверка размеров выборок\n",
        "print(\"Train samples:\", len(train_paths))\n",
        "print(\"Valid samples:\", len(valid_paths))\n",
        "print(\"Test samples:\", len(test_paths))"
      ],
      "metadata": {
        "ExecuteTime": {
          "end_time": "2023-12-09T17:31:50.734029077Z",
          "start_time": "2023-12-09T17:31:50.711396595Z"
        },
        "colab": {
          "base_uri": "https://localhost:8080/"
        },
        "id": "SIazrOok-B7A",
        "outputId": "3e1c133e-299a-4c6c-aa13-269e12a88797"
      }
    },
    {
      "cell_type": "code",
      "execution_count": null,
      "outputs": [],
      "source": [
        "train_images = [load_image(image_path) for image_path in train_paths]\n",
        "train_masks = [load_mask(mask_path) for mask_path in train_paths]\n",
        "train_images = np.array(train_images)\n",
        "train_masks = np.array(train_masks)"
      ],
      "metadata": {
        "ExecuteTime": {
          "end_time": "2023-12-09T17:31:51.949852051Z",
          "start_time": "2023-12-09T17:31:51.037635672Z"
        },
        "id": "N75Ubwyp-B7A"
      }
    },
    {
      "cell_type": "code",
      "execution_count": null,
      "outputs": [],
      "source": [
        "valid_images = [load_image(image_path) for image_path in valid_paths]\n",
        "valid_masks = [load_mask(mask_path) for mask_path in valid_paths]\n",
        "valid_images = np.array(valid_images)\n",
        "valid_masks = np.array(valid_masks)"
      ],
      "metadata": {
        "ExecuteTime": {
          "end_time": "2023-12-09T17:31:52.224873217Z",
          "start_time": "2023-12-09T17:31:51.951017122Z"
        },
        "id": "Nh_SxOO1-B7B"
      }
    },
    {
      "cell_type": "code",
      "execution_count": null,
      "outputs": [],
      "source": [
        "test_images = [load_image(image_path) for image_path in test_paths]\n",
        "test_masks = [load_mask(mask_path) for mask_path in test_paths]\n",
        "test_images = np.array(test_images)\n",
        "test_masks = np.array(test_masks)"
      ],
      "metadata": {
        "ExecuteTime": {
          "end_time": "2023-12-09T17:31:52.502350446Z",
          "start_time": "2023-12-09T17:31:52.265328792Z"
        },
        "id": "2eibI7uV-B7B"
      }
    },
    {
      "cell_type": "code",
      "execution_count": null,
      "outputs": [],
      "source": [
        "\n",
        "def unet_test_model(classes: int = 1):\n",
        "    tf.keras.backend.clear_session()\n",
        "    nb_filter = [32, 64, 128, 256, 512]\n",
        "    # Build U-Net++ model\n",
        "    inputs = Input((WIDTH, HEIGHT, 3))\n",
        "    s = Lambda(lambda x: x / 255)(inputs)\n",
        "\n",
        "    c1 = Conv2D(32, (3, 3), activation='elu', kernel_initializer='he_normal', padding='same')(s)\n",
        "    c1 = Dropout(0.5)(c1)\n",
        "    c1 = Conv2D(32, (3, 3), activation='elu', kernel_initializer='he_normal', padding='same')(c1)\n",
        "    c1 = Dropout(0.5)(c1)\n",
        "    p1 = MaxPooling2D((2, 2), strides=(2, 2))(c1)\n",
        "\n",
        "    c2 = Conv2D(64, (3, 3), activation='elu', kernel_initializer='he_normal', padding='same')(p1)\n",
        "    c2 = Dropout(0.5)(c2)\n",
        "    c2 = Conv2D(64, (3, 3), activation='elu', kernel_initializer='he_normal', padding='same')(c2)\n",
        "    c2 = Dropout(0.5)(c2)\n",
        "    p2 = MaxPooling2D((2, 2), strides=(2, 2))(c2)\n",
        "\n",
        "    up1_2 = Conv2DTranspose(nb_filter[0], (2, 2), strides=(2, 2), name='up12', padding='same')(c2)\n",
        "    conv1_2 = concatenate([up1_2, c1], name='merge12', axis=3)\n",
        "    c3 = Conv2D(32, (3, 3), activation='elu', kernel_initializer='he_normal', padding='same')(conv1_2)\n",
        "    c3 = Dropout(0.5)(c3)\n",
        "    c3 = Conv2D(32, (3, 3), activation='elu', kernel_initializer='he_normal', padding='same')(c3)\n",
        "    c3 = Dropout(0.5)(c3)\n",
        "\n",
        "    conv3_1 = Conv2D(128, (3, 3), activation='elu', kernel_initializer='he_normal', padding='same')(p2)\n",
        "    conv3_1 = Dropout(0.5)(conv3_1)\n",
        "    conv3_1 = Conv2D(128, (3, 3), activation='elu', kernel_initializer='he_normal', padding='same')(conv3_1)\n",
        "    conv3_1 = Dropout(0.5)(conv3_1)\n",
        "    pool3 = MaxPooling2D((2, 2), strides=(2, 2), name='pool3')(conv3_1)\n",
        "\n",
        "    up2_2 = Conv2DTranspose(nb_filter[1], (2, 2), strides=(2, 2), name='up22', padding='same')(conv3_1)\n",
        "    conv2_2 = concatenate([up2_2, c2], name='merge22', axis=3)  #x10\n",
        "    conv2_2 = Conv2D(64, (3, 3), activation='elu', kernel_initializer='he_normal', padding='same')(conv2_2)\n",
        "    conv2_2 = Dropout(0.5)(conv2_2)\n",
        "    conv2_2 = Conv2D(64, (3, 3), activation='elu', kernel_initializer='he_normal', padding='same')(conv2_2)\n",
        "    conv2_2 = Dropout(0.5)(conv2_2)\n",
        "\n",
        "    up1_3 = Conv2DTranspose(nb_filter[0], (2, 2), strides=(2, 2), name='up13', padding='same')(conv2_2)\n",
        "    conv1_3 = concatenate([up1_3, c1, c3], name='merge13', axis=3)\n",
        "    conv1_3 = Conv2D(32, (3, 3), activation='elu', kernel_initializer='he_normal', padding='same')(conv1_3)\n",
        "    conv1_3 = Dropout(0.5)(conv1_3)\n",
        "    conv1_3 = Conv2D(32, (3, 3), activation='elu', kernel_initializer='he_normal', padding='same')(conv1_3)\n",
        "    conv1_3 = Dropout(0.5)(conv1_3)\n",
        "\n",
        "    conv4_1 = Conv2D(256, (3, 3), activation='elu', kernel_initializer='he_normal', padding='same')(pool3)\n",
        "    conv4_1 = Dropout(0.5)(conv4_1)\n",
        "    conv4_1 = Conv2D(256, (3, 3), activation='elu', kernel_initializer='he_normal', padding='same')(conv4_1)\n",
        "    conv4_1 = Dropout(0.5)(conv4_1)\n",
        "    pool4 = MaxPooling2D((2, 2), strides=(2, 2), name='pool4')(conv4_1)\n",
        "\n",
        "    up3_2 = Conv2DTranspose(nb_filter[2], (2, 2), strides=(2, 2), name='up32', padding='same')(conv4_1)\n",
        "    conv3_2 = concatenate([up3_2, conv3_1], name='merge32', axis=3)  #x20\n",
        "    conv3_2 = Conv2D(128, (3, 3), activation='elu', kernel_initializer='he_normal', padding='same')(conv3_2)\n",
        "    conv3_2 = Dropout(0.5)(conv3_2)\n",
        "    conv3_2 = Conv2D(128, (3, 3), activation='elu', kernel_initializer='he_normal', padding='same')(conv3_2)\n",
        "    conv3_2 = Dropout(0.5)(conv3_2)\n",
        "\n",
        "    up2_3 = Conv2DTranspose(nb_filter[1], (2, 2), strides=(2, 2), name='up23', padding='same')(conv3_2)\n",
        "    conv2_3 = concatenate([up2_3, c2, conv2_2], name='merge23', axis=3)\n",
        "    conv2_3 = Conv2D(64, (3, 3), activation='elu', kernel_initializer='he_normal', padding='same')(conv2_3)\n",
        "    conv2_3 = Dropout(0.5)(conv2_3)\n",
        "    conv2_3 = Conv2D(64, (3, 3), activation='elu', kernel_initializer='he_normal', padding='same')(conv2_3)\n",
        "    conv2_3 = Dropout(0.5)(conv2_3)\n",
        "\n",
        "    up1_4 = Conv2DTranspose(nb_filter[0], (2, 2), strides=(2, 2), name='up14', padding='same')(conv2_3)\n",
        "    conv1_4 = concatenate([up1_4, c1, c3, conv1_3], name='merge14', axis=3)\n",
        "    conv1_4 = Conv2D(32, (3, 3), activation='elu', kernel_initializer='he_normal', padding='same')(conv1_4)\n",
        "    conv1_4 = Dropout(0.5)(conv1_4)\n",
        "    conv1_4 = Conv2D(32, (3, 3), activation='elu', kernel_initializer='he_normal', padding='same')(conv1_4)\n",
        "    conv1_4 = Dropout(0.5)(conv1_4)\n",
        "\n",
        "    conv5_1 = Conv2D(512, (3, 3), activation='elu', kernel_initializer='he_normal', padding='same')(pool4)\n",
        "    conv5_1 = Dropout(0.5)(conv5_1)\n",
        "    conv5_1 = Conv2D(512, (3, 3), activation='elu', kernel_initializer='he_normal', padding='same')(conv5_1)\n",
        "    conv5_1 = Dropout(0.5)(conv5_1)\n",
        "\n",
        "    up4_2 = Conv2DTranspose(nb_filter[3], (2, 2), strides=(2, 2), name='up42', padding='same')(conv5_1)\n",
        "    conv4_2 = concatenate([up4_2, conv4_1], name='merge42', axis=3)  #x30\n",
        "    conv4_2 = Conv2D(256, (3, 3), activation='elu', kernel_initializer='he_normal', padding='same')(conv4_2)\n",
        "    conv4_2 = Dropout(0.5)(conv4_2)\n",
        "    conv4_2 = Conv2D(256, (3, 3), activation='elu', kernel_initializer='he_normal', padding='same')(conv4_2)\n",
        "    conv4_2 = Dropout(0.5)(conv4_2)\n",
        "\n",
        "    up3_3 = Conv2DTranspose(nb_filter[2], (2, 2), strides=(2, 2), name='up33', padding='same')(conv4_2)\n",
        "    conv3_3 = concatenate([up3_3, conv3_1, conv3_2], name='merge33', axis=3)\n",
        "    conv3_3 = Conv2D(128, (3, 3), activation='elu', kernel_initializer='he_normal', padding='same')(conv3_3)\n",
        "    conv3_3 = Dropout(0.5)(conv3_3)\n",
        "    conv3_3 = Conv2D(128, (3, 3), activation='elu', kernel_initializer='he_normal', padding='same')(conv3_3)\n",
        "    conv3_3 = Dropout(0.5)(conv3_3)\n",
        "\n",
        "    up2_4 = Conv2DTranspose(nb_filter[1], (2, 2), strides=(2, 2), name='up24', padding='same')(conv3_3)\n",
        "    conv2_4 = concatenate([up2_4, c2, conv2_2, conv2_3], name='merge24', axis=3)\n",
        "    conv2_4 = Conv2D(64, (3, 3), activation='elu', kernel_initializer='he_normal', padding='same')(conv2_4)\n",
        "    conv2_4 = Dropout(0.5)(conv2_4)\n",
        "    conv2_4 = Conv2D(64, (3, 3), activation='elu', kernel_initializer='he_normal', padding='same')(conv2_4)\n",
        "    conv2_4 = Dropout(0.5)(conv2_4)\n",
        "\n",
        "    up1_5 = Conv2DTranspose(nb_filter[0], (2, 2), strides=(2, 2), name='up15', padding='same')(conv2_4)\n",
        "    conv1_5 = concatenate([up1_5, c1, c3, conv1_3, conv1_4], name='merge15', axis=3)\n",
        "    conv1_5 = Conv2D(32, (3, 3), activation='elu', kernel_initializer='he_normal', padding='same')(conv1_5)\n",
        "    conv1_5 = Dropout(0.5)(conv1_5)\n",
        "    conv1_5 = Conv2D(32, (3, 3), activation='elu', kernel_initializer='he_normal', padding='same')(conv1_5)\n",
        "    conv1_5 = Dropout(0.5)(conv1_5)\n",
        "\n",
        "    nestnet_output_4 = Conv2D(classes, (1, 1), activation='sigmoid', kernel_initializer='he_normal', name='output_4',\n",
        "                              padding='same')(conv1_5)\n",
        "    # output = Conv2D(\n",
        "    #     filters=classes,\n",
        "    #     kernel_size=(3, 3),\n",
        "    #     padding='same',\n",
        "    #     activation='softmax',\n",
        "    #     use_bias=True,\n",
        "    #     kernel_initializer='glorot_uniform',\n",
        "    #     name='final_conv',\n",
        "    # )(nestnet_output_4)\n",
        "\n",
        "    # create keras model instance\n",
        "    return Model(inputs=[inputs], outputs=\n",
        "    [nestnet_output_4])\n"
      ],
      "metadata": {
        "ExecuteTime": {
          "end_time": "2023-12-09T17:37:46.485640854Z",
          "start_time": "2023-12-09T17:37:46.440392427Z"
        },
        "id": "ROQ4PVJj-B7B"
      }
    },
    {
      "cell_type": "code",
      "execution_count": null,
      "outputs": [],
      "source": [
        "LR = 0.0001\n",
        "\n",
        "\n",
        "def dice_coef(y_true, y_pred):\n",
        "    smooth = 1.\n",
        "    y_true_f = K.flatten(y_true)\n",
        "    y_pred_f = K.flatten(y_pred)\n",
        "    intersection = K.sum(y_true_f * y_pred_f)\n",
        "    return (2. * intersection + smooth) / (K.sum(y_true_f) + K.sum(y_pred_f) + smooth)\n",
        "\n",
        "\n",
        "def bce_dice_loss(y_true, y_pred):\n",
        "    return 0.5 * tf.keras.losses.binary_crossentropy(y_true, y_pred) - dice_coef(y_true, y_pred)"
      ],
      "metadata": {
        "ExecuteTime": {
          "end_time": "2023-12-09T17:37:47.364145452Z",
          "start_time": "2023-12-09T17:37:47.352842529Z"
        },
        "id": "fyutaLiH-B7C"
      }
    },
    {
      "cell_type": "code",
      "source": [
        "import numpy as np\n",
        "\n",
        "# Assuming you have a NumPy array called `arr` with shape [?, 256, 256]\n",
        "arr = np.random.random([2, 3, 4])  # Example array\n",
        "\n",
        "# Reshape the array to [?, 3, 4, 1]\n",
        "reshaped_arr = np.reshape(arr, (arr.shape[0], arr.shape[1], arr.shape[2], 1))\n",
        "print(arr)\n",
        "print(reshaped_arr)"
      ],
      "metadata": {
        "id": "DAJGfqplL51_",
        "outputId": "f577a001-6555-42d7-ee1a-34482c4aca32",
        "colab": {
          "base_uri": "https://localhost:8080/"
        }
      },
      "execution_count": null,
      "outputs": [
        {
          "output_type": "stream",
          "name": "stdout",
          "text": [
            "[[[0.79218017 0.11825064 0.83742319 0.87195906]\n",
            "  [0.61437994 0.78414512 0.60912634 0.2168867 ]\n",
            "  [0.05278764 0.15518914 0.19904508 0.37275297]]\n",
            "\n",
            " [[0.45477351 0.58959316 0.87752354 0.5892124 ]\n",
            "  [0.84989063 0.1586259  0.34709309 0.22449012]\n",
            "  [0.70686322 0.68330946 0.20677388 0.77873699]]]\n",
            "[[[[0.79218017]\n",
            "   [0.11825064]\n",
            "   [0.83742319]\n",
            "   [0.87195906]]\n",
            "\n",
            "  [[0.61437994]\n",
            "   [0.78414512]\n",
            "   [0.60912634]\n",
            "   [0.2168867 ]]\n",
            "\n",
            "  [[0.05278764]\n",
            "   [0.15518914]\n",
            "   [0.19904508]\n",
            "   [0.37275297]]]\n",
            "\n",
            "\n",
            " [[[0.45477351]\n",
            "   [0.58959316]\n",
            "   [0.87752354]\n",
            "   [0.5892124 ]]\n",
            "\n",
            "  [[0.84989063]\n",
            "   [0.1586259 ]\n",
            "   [0.34709309]\n",
            "   [0.22449012]]\n",
            "\n",
            "  [[0.70686322]\n",
            "   [0.68330946]\n",
            "   [0.20677388]\n",
            "   [0.77873699]]]]\n"
          ]
        }
      ]
    },
    {
      "cell_type": "code",
      "execution_count": null,
      "outputs": [],
      "source": [
        "from keras.losses import binary_crossentropy\n",
        "import keras.backend as K\n",
        "\n",
        "\n",
        "def dice_coeff(y_true, y_pred):\n",
        "    smooth = 1.\n",
        "    y_true_f = K.flatten(y_true)\n",
        "    y_pred_f = K.flatten(y_pred)\n",
        "    intersection = K.sum(y_true_f * y_pred_f)\n",
        "    score = (2. * intersection + smooth) / (K.sum(y_true_f) + K.sum(y_pred_f) + smooth)\n",
        "    return score\n",
        "\n",
        "\n",
        "def dice_loss(y_true, y_pred):\n",
        "    loss = 1 - dice_coeff(y_true, y_pred)\n",
        "    return loss\n",
        "\n",
        "\n",
        "def bce_dice_loss(y_true, y_pred):\n",
        "    loss = binary_crossentropy(y_true, y_pred) + dice_loss(y_true, y_pred)\n",
        "    return loss\n",
        "\n",
        "\n",
        "def weighted_dice_coeff(y_true, y_pred, weight):\n",
        "    smooth = 1.\n",
        "    w, m1, m2 = weight * weight, y_true, y_pred\n",
        "    intersection = (m1 * m2)\n",
        "    score = (2. * K.sum(w * intersection) + smooth) / (K.sum(w * m1) + K.sum(w * m2) + smooth)\n",
        "    return score\n",
        "\n",
        "\n",
        "def weighted_dice_loss(y_true, y_pred):\n",
        "    y_true = K.cast(y_true, 'float32')\n",
        "    y_pred = K.cast(y_pred, 'float32')\n",
        "    # if we want to get same size of output, kernel size must be odd number\n",
        "    if K.int_shape(y_pred)[1] == 128:\n",
        "        kernel_size = 11\n",
        "    elif K.int_shape(y_pred)[1] == 256:\n",
        "        kernel_size = 21\n",
        "    elif K.int_shape(y_pred)[1] == 512:\n",
        "        kernel_size = 21\n",
        "    elif K.int_shape(y_pred)[1] == 1024:\n",
        "        kernel_size = 41\n",
        "    else:\n",
        "        raise ValueError('Unexpected image size')\n",
        "    print(kernel_size)\n",
        "    averaged_mask = K.pool2d(\n",
        "        y_true, pool_size=(kernel_size, kernel_size), strides=(1, 1), padding='same', pool_mode='avg')\n",
        "    border = K.cast(K.greater(averaged_mask, 0.005), 'float32') * K.cast(K.less(averaged_mask, 0.995), 'float32')\n",
        "    weight = K.ones_like(averaged_mask)\n",
        "    w0 = K.sum(weight)\n",
        "    weight += border * 2\n",
        "    w1 = K.sum(weight)\n",
        "    weight *= (w0 / w1)\n",
        "    loss = 1 - weighted_dice_coeff(y_true, y_pred, weight)\n",
        "    return loss\n",
        "\n",
        "\n",
        "def weighted_bce_loss(y_true, y_pred, weight=0.5):\n",
        "    # avoiding overflow\n",
        "    epsilon = 1e-7\n",
        "    y_pred = K.clip(y_pred, epsilon, 1. - epsilon)\n",
        "    logit_y_pred = K.log(y_pred / (1. - y_pred))\n",
        "\n",
        "    # https://www.tensorflow.org/api_docs/python/tf/nn/weighted_cross_entropy_with_logits\n",
        "    loss = (1. - y_true) * logit_y_pred + (1. + (weight - 1.) * y_true) * \\\n",
        "           (K.log(1. + K.exp(-K.abs(logit_y_pred))) + K.maximum(-logit_y_pred, 0.))\n",
        "    return K.sum(loss) / K.sum(weight)\n",
        "\n",
        "\n",
        "import tensorflow.keras.backend as K\n",
        "\n",
        "def weighted_bce_dice_loss(y_true, y_pred):\n",
        "    y_true = K.cast(y_true, 'float32')\n",
        "    y_pred = K.cast(y_pred, 'float32')\n",
        "    # Expand dimensions of y_true and y_pred\n",
        "    y_true = K.expand_dims(y_true, axis=-1)\n",
        "    y_pred = K.expand_dims(y_pred, axis=-1)\n",
        "\n",
        "    # Остальной код функции...\n",
        "    if K.int_shape(y_pred)[1] == 128:\n",
        "        kernel_size = 11\n",
        "    elif K.int_shape(y_pred)[1] == 256:\n",
        "        kernel_size = 21\n",
        "    elif K.int_shape(y_pred)[1] == 512:\n",
        "        kernel_size = 21\n",
        "    elif K.int_shape(y_pred)[1] == 1024:\n",
        "        kernel_size = 41\n",
        "    else:\n",
        "        raise ValueError('Unexpected image size')\n",
        "    averaged_mask = K.pool2d(\n",
        "        y_true, pool_size=(kernel_size, kernel_size), strides=(1, 1), padding='same', pool_mode='avg')\n",
        "\n",
        "    border = K.cast(K.greater(averaged_mask, 0.005), 'float32') * K.cast(K.less(averaged_mask, 0.995), 'float32')\n",
        "    weight = K.ones_like(averaged_mask)\n",
        "    w0 = K.sum(weight)\n",
        "    weight += border * 2\n",
        "    w1 = K.sum(weight)\n",
        "    weight *= (w0 / w1)\n",
        "    loss = weighted_bce_loss(y_true, y_pred, weight) + (1 - weighted_dice_coeff(y_true, y_pred, weight))\n",
        "    return loss"
      ],
      "metadata": {
        "ExecuteTime": {
          "end_time": "2023-12-09T17:37:49.520521902Z",
          "start_time": "2023-12-09T17:37:49.491608586Z"
        },
        "id": "OJ05eutz-B7D"
      }
    },
    {
      "cell_type": "code",
      "source": [],
      "metadata": {
        "id": "0fNcTtci5i5t"
      },
      "execution_count": null,
      "outputs": []
    },
    {
      "cell_type": "code",
      "source": [],
      "metadata": {
        "id": "B_UFxye16VD0"
      },
      "execution_count": null,
      "outputs": []
    },
    {
      "cell_type": "code",
      "source": [
        "import tensorflow as tf\n",
        "\n",
        "# Определение метрики IoU\n",
        "def iou(y_true, y_pred):\n",
        "    intersection = tf.reduce_sum(y_true * y_pred)\n",
        "    union = tf.reduce_sum(y_true) + tf.reduce_sum(y_pred) - intersection\n",
        "    iou_score = intersection / (union + tf.keras.backend.epsilon())\n",
        "    return iou_score\n",
        "\n",
        "# Определение метрики Pixel Accuracy\n",
        "def pixel_accuracy(y_true, y_pred):\n",
        "    return tf.reduce_mean(tf.cast(tf.equal(y_true, tf.round(y_pred)), tf.float32))\n",
        "\n",
        "# Определение метрики Dice Score\n",
        "def dice_score(y_true, y_pred):\n",
        "    intersection = tf.reduce_sum(y_true * y_pred)\n",
        "    dice = (2.0 * intersection) / (tf.reduce_sum(y_true) + tf.reduce_sum(y_pred) + tf.keras.backend.epsilon())\n",
        "    return dice\n",
        "\n",
        "# Создание списка обратных вызовов с метриками\n",
        "callbacks_list = [\n",
        "    tf.keras.callbacks.ModelCheckpoint(filepath='model.h5', save_best_only=True),\n",
        "    tf.keras.callbacks.EarlyStopping(patience=3),\n",
        "    tf.keras.callbacks.TensorBoard(log_dir='logs'),\n",
        "    tf.keras.callbacks.LambdaCallback(on_epoch_end=lambda epoch, logs: print(f\"IoU: {logs['iou']} - Pixel Accuracy: {logs['pixel_accuracy']} - Dice Score: {logs['dice_score']}\"))\n",
        "]\n"
      ],
      "metadata": {
        "id": "PM6cFHY-6S5A"
      },
      "execution_count": null,
      "outputs": []
    },
    {
      "cell_type": "code",
      "execution_count": null,
      "outputs": [],
      "source": [
        "import tensorflow as tf\n",
        "from tensorflow.keras.metrics import IoU\n",
        "\n",
        "model = unet_test_model(CLASSES)\n",
        "model.compile(\n",
        "              optimizer=tf.keras.optimizers.Adam(learning_rate=LR),\n",
        "              loss=weighted_bce_dice_loss,\n",
        "              metrics=[iou, pixel_accuracy, dice_score],\n",
        "            )"
      ],
      "metadata": {
        "ExecuteTime": {
          "end_time": "2023-12-09T17:37:58.599558858Z",
          "start_time": "2023-12-09T17:37:57.757809607Z"
        },
        "id": "lfAvKpw9-B7D"
      }
    },
    {
      "cell_type": "code",
      "source": [
        "NUM_EPOCHS=10"
      ],
      "metadata": {
        "id": "fL3SUBJy9xKa"
      },
      "execution_count": null,
      "outputs": []
    },
    {
      "cell_type": "code",
      "source": [
        "all_history = []"
      ],
      "metadata": {
        "id": "cKuvVPnLBT83"
      },
      "execution_count": null,
      "outputs": []
    },
    {
      "cell_type": "code",
      "source": [
        "import matplotlib.pyplot as plt\n",
        "import pandas as pd\n",
        "\n",
        "while len(all_history) < NUM_EPOCHS:\n",
        "    # Обучение модели\n",
        "    history = model.fit(train_images,\n",
        "                        train_masks,\n",
        "                        validation_data=(valid_images, valid_masks),\n",
        "                        epochs=1,\n",
        "                        batch_size=8,\n",
        "                        callbacks=callbacks_list)\n",
        "\n",
        "    # Добавьте историю обучения в список\n",
        "    all_history.append(history)\n",
        "    print(NUM_EPOCHS - len(all_history))\n"
      ],
      "metadata": {
        "colab": {
          "base_uri": "https://localhost:8080/"
        },
        "id": "wCLKfSpH9Hh6",
        "outputId": "dc567f04-c87f-4594-b557-e69a3b7055d0"
      },
      "execution_count": null,
      "outputs": [
        {
          "output_type": "stream",
          "name": "stdout",
          "text": [
            "45/45 [==============================] - ETA: 0s - loss: 1.0268 - iou: 0.2710 - pixel_accuracy: 0.8058 - dice_score: 0.4257IoU: 0.2710418403148651 - Pixel Accuracy: 0.8057552576065063 - Dice Score: 0.4256910979747772\n",
            "45/45 [==============================] - 28s 609ms/step - loss: 1.0268 - iou: 0.2710 - pixel_accuracy: 0.8058 - dice_score: 0.4257 - val_loss: 1.0805 - val_iou: 0.2922 - val_pixel_accuracy: 0.7382 - val_dice_score: 0.4515\n",
            "7\n",
            "45/45 [==============================] - ETA: 0s - loss: 0.9627 - iou: 0.2836 - pixel_accuracy: 0.8134 - dice_score: 0.4408IoU: 0.283575177192688 - Pixel Accuracy: 0.8134270310401917 - Dice Score: 0.4407842755317688\n",
            "45/45 [==============================] - 28s 614ms/step - loss: 0.9627 - iou: 0.2836 - pixel_accuracy: 0.8134 - dice_score: 0.4408 - val_loss: 0.9953 - val_iou: 0.2957 - val_pixel_accuracy: 0.7494 - val_dice_score: 0.4557\n",
            "6\n",
            "45/45 [==============================] - ETA: 0s - loss: 0.9133 - iou: 0.2937 - pixel_accuracy: 0.8191 - dice_score: 0.4535IoU: 0.293671578168869 - Pixel Accuracy: 0.8190619349479675 - Dice Score: 0.4534866213798523\n",
            "45/45 [==============================] - 28s 632ms/step - loss: 0.9133 - iou: 0.2937 - pixel_accuracy: 0.8191 - dice_score: 0.4535 - val_loss: 0.9837 - val_iou: 0.2970 - val_pixel_accuracy: 0.7527 - val_dice_score: 0.4572\n",
            "5\n",
            "45/45 [==============================] - ETA: 0s - loss: 0.8679 - iou: 0.3094 - pixel_accuracy: 0.8276 - dice_score: 0.4718IoU: 0.30941101908683777 - Pixel Accuracy: 0.8276485204696655 - Dice Score: 0.4717675447463989\n",
            "45/45 [==============================] - 29s 640ms/step - loss: 0.8679 - iou: 0.3094 - pixel_accuracy: 0.8276 - dice_score: 0.4718 - val_loss: 0.9109 - val_iou: 0.3183 - val_pixel_accuracy: 0.7973 - val_dice_score: 0.4820\n",
            "4\n",
            "45/45 [==============================] - ETA: 0s - loss: 0.7927 - iou: 0.3519 - pixel_accuracy: 0.8479 - dice_score: 0.5195IoU: 0.3518948554992676 - Pixel Accuracy: 0.8479191064834595 - Dice Score: 0.5194604396820068\n",
            "45/45 [==============================] - 28s 629ms/step - loss: 0.7927 - iou: 0.3519 - pixel_accuracy: 0.8479 - dice_score: 0.5195 - val_loss: 1.0602 - val_iou: 0.3232 - val_pixel_accuracy: 0.7696 - val_dice_score: 0.4878\n",
            "3\n",
            "45/45 [==============================] - ETA: 0s - loss: 0.7429 - iou: 0.3856 - pixel_accuracy: 0.8614 - dice_score: 0.5558IoU: 0.38562285900115967 - Pixel Accuracy: 0.8613762855529785 - Dice Score: 0.55582195520401\n",
            "45/45 [==============================] - 29s 650ms/step - loss: 0.7429 - iou: 0.3856 - pixel_accuracy: 0.8614 - dice_score: 0.5558 - val_loss: 0.8674 - val_iou: 0.3650 - val_pixel_accuracy: 0.8255 - val_dice_score: 0.5339\n",
            "2\n",
            "45/45 [==============================] - ETA: 0s - loss: 0.6865 - iou: 0.4219 - pixel_accuracy: 0.8762 - dice_score: 0.5925IoU: 0.4219086170196533 - Pixel Accuracy: 0.8762462139129639 - Dice Score: 0.5925120115280151\n",
            "45/45 [==============================] - 29s 635ms/step - loss: 0.6865 - iou: 0.4219 - pixel_accuracy: 0.8762 - dice_score: 0.5925 - val_loss: 0.9804 - val_iou: 0.3431 - val_pixel_accuracy: 0.8420 - val_dice_score: 0.5100\n",
            "1\n",
            "45/45 [==============================] - ETA: 0s - loss: 0.6549 - iou: 0.4421 - pixel_accuracy: 0.8820 - dice_score: 0.6125IoU: 0.4421287477016449 - Pixel Accuracy: 0.8819774389266968 - Dice Score: 0.6125355362892151\n",
            "45/45 [==============================] - 29s 635ms/step - loss: 0.6549 - iou: 0.4421 - pixel_accuracy: 0.8820 - dice_score: 0.6125 - val_loss: 1.0266 - val_iou: 0.3253 - val_pixel_accuracy: 0.8525 - val_dice_score: 0.4901\n",
            "0\n"
          ]
        }
      ]
    },
    {
      "cell_type": "code",
      "source": [
        "import matplotlib.pyplot as plt\n",
        "import pandas as pd\n",
        "\n",
        "while len(all_history) < 50:\n",
        "    # Обучение модели\n",
        "    history = model.fit(train_images,\n",
        "                        train_masks,\n",
        "                        validation_data=(valid_images, valid_masks),\n",
        "                        epochs=1,\n",
        "                        batch_size=8,\n",
        "                        callbacks=callbacks_list)\n",
        "\n",
        "    # Добавьте историю обучения в список\n",
        "    all_history.append(history)\n",
        "    print(50 - len(all_history))\n"
      ],
      "metadata": {
        "colab": {
          "base_uri": "https://localhost:8080/"
        },
        "id": "ttuDqgbCBU7G",
        "outputId": "00a135bf-f523-4d75-cd48-7ff4b433c9b1"
      },
      "execution_count": null,
      "outputs": [
        {
          "output_type": "stream",
          "name": "stdout",
          "text": [
            "45/45 [==============================] - ETA: 0s - loss: 0.6176 - iou: 0.4647 - pixel_accuracy: 0.8895 - dice_score: 0.6339IoU: 0.4646541178226471 - Pixel Accuracy: 0.8894804120063782 - Dice Score: 0.633861780166626\n",
            "45/45 [==============================] - 30s 649ms/step - loss: 0.6176 - iou: 0.4647 - pixel_accuracy: 0.8895 - dice_score: 0.6339 - val_loss: 1.1508 - val_iou: 0.3222 - val_pixel_accuracy: 0.8176 - val_dice_score: 0.4866\n",
            "39\n",
            "45/45 [==============================] - ETA: 0s - loss: 0.5900 - iou: 0.4822 - pixel_accuracy: 0.8950 - dice_score: 0.6499IoU: 0.48224204778671265 - Pixel Accuracy: 0.8949911594390869 - Dice Score: 0.64994877576828\n",
            "45/45 [==============================] - 29s 641ms/step - loss: 0.5900 - iou: 0.4822 - pixel_accuracy: 0.8950 - dice_score: 0.6499 - val_loss: 1.0655 - val_iou: 0.3010 - val_pixel_accuracy: 0.8588 - val_dice_score: 0.4618\n",
            "38\n",
            "45/45 [==============================] - ETA: 0s - loss: 0.5706 - iou: 0.4981 - pixel_accuracy: 0.8992 - dice_score: 0.6645IoU: 0.4981140196323395 - Pixel Accuracy: 0.8991869688034058 - Dice Score: 0.6644826531410217\n",
            "45/45 [==============================] - 28s 630ms/step - loss: 0.5706 - iou: 0.4981 - pixel_accuracy: 0.8992 - dice_score: 0.6645 - val_loss: 1.0528 - val_iou: 0.3222 - val_pixel_accuracy: 0.8537 - val_dice_score: 0.4864\n",
            "37\n",
            "45/45 [==============================] - ETA: 0s - loss: 0.5437 - iou: 0.5142 - pixel_accuracy: 0.9029 - dice_score: 0.6786IoU: 0.5141967535018921 - Pixel Accuracy: 0.9028539657592773 - Dice Score: 0.6785626411437988\n",
            "45/45 [==============================] - 28s 633ms/step - loss: 0.5437 - iou: 0.5142 - pixel_accuracy: 0.9029 - dice_score: 0.6786 - val_loss: 1.0833 - val_iou: 0.2969 - val_pixel_accuracy: 0.8584 - val_dice_score: 0.4571\n",
            "36\n",
            "45/45 [==============================] - ETA: 0s - loss: 0.5237 - iou: 0.5318 - pixel_accuracy: 0.9067 - dice_score: 0.6939IoU: 0.5318396091461182 - Pixel Accuracy: 0.906744122505188 - Dice Score: 0.6939375400543213\n",
            "45/45 [==============================] - 28s 624ms/step - loss: 0.5237 - iou: 0.5318 - pixel_accuracy: 0.9067 - dice_score: 0.6939 - val_loss: 1.0347 - val_iou: 0.3470 - val_pixel_accuracy: 0.8393 - val_dice_score: 0.5145\n",
            "35\n",
            "45/45 [==============================] - ETA: 0s - loss: 0.5060 - iou: 0.5439 - pixel_accuracy: 0.9095 - dice_score: 0.7042IoU: 0.5438566207885742 - Pixel Accuracy: 0.9095296859741211 - Dice Score: 0.7041553854942322\n",
            "45/45 [==============================] - 28s 630ms/step - loss: 0.5060 - iou: 0.5439 - pixel_accuracy: 0.9095 - dice_score: 0.7042 - val_loss: 1.1936 - val_iou: 0.3227 - val_pixel_accuracy: 0.8068 - val_dice_score: 0.4875\n",
            "34\n",
            "45/45 [==============================] - ETA: 0s - loss: 0.4897 - iou: 0.5559 - pixel_accuracy: 0.9119 - dice_score: 0.7142IoU: 0.5558543801307678 - Pixel Accuracy: 0.9119093418121338 - Dice Score: 0.7141878604888916\n",
            "45/45 [==============================] - 29s 640ms/step - loss: 0.4897 - iou: 0.5559 - pixel_accuracy: 0.9119 - dice_score: 0.7142 - val_loss: 0.8757 - val_iou: 0.3957 - val_pixel_accuracy: 0.8698 - val_dice_score: 0.5666\n",
            "33\n",
            "45/45 [==============================] - ETA: 0s - loss: 0.4768 - iou: 0.5657 - pixel_accuracy: 0.9138 - dice_score: 0.7224IoU: 0.5657107830047607 - Pixel Accuracy: 0.9137862324714661 - Dice Score: 0.7223707437515259\n",
            "45/45 [==============================] - 28s 633ms/step - loss: 0.4768 - iou: 0.5657 - pixel_accuracy: 0.9138 - dice_score: 0.7224 - val_loss: 1.7793 - val_iou: 0.2700 - val_pixel_accuracy: 0.7267 - val_dice_score: 0.4248\n",
            "32\n",
            "45/45 [==============================] - ETA: 0s - loss: 0.4607 - iou: 0.5797 - pixel_accuracy: 0.9163 - dice_score: 0.7337IoU: 0.5797051787376404 - Pixel Accuracy: 0.9162786602973938 - Dice Score: 0.7337089776992798\n",
            "45/45 [==============================] - 28s 627ms/step - loss: 0.4607 - iou: 0.5797 - pixel_accuracy: 0.9163 - dice_score: 0.7337 - val_loss: 1.7572 - val_iou: 0.2696 - val_pixel_accuracy: 0.7257 - val_dice_score: 0.4244\n",
            "31\n",
            "45/45 [==============================] - ETA: 0s - loss: 0.4502 - iou: 0.5879 - pixel_accuracy: 0.9179 - dice_score: 0.7402IoU: 0.5879467129707336 - Pixel Accuracy: 0.9178876876831055 - Dice Score: 0.7401844263076782\n",
            "45/45 [==============================] - 29s 638ms/step - loss: 0.4502 - iou: 0.5879 - pixel_accuracy: 0.9179 - dice_score: 0.7402 - val_loss: 2.6420 - val_iou: 0.2346 - val_pixel_accuracy: 0.6580 - val_dice_score: 0.3797\n",
            "30\n",
            "45/45 [==============================] - ETA: 0s - loss: 0.4410 - iou: 0.5930 - pixel_accuracy: 0.9188 - dice_score: 0.7442IoU: 0.5930296182632446 - Pixel Accuracy: 0.918784499168396 - Dice Score: 0.7442358136177063\n",
            "45/45 [==============================] - 29s 640ms/step - loss: 0.4410 - iou: 0.5930 - pixel_accuracy: 0.9188 - dice_score: 0.7442 - val_loss: 2.8313 - val_iou: 0.2220 - val_pixel_accuracy: 0.6327 - val_dice_score: 0.3631\n",
            "29\n",
            "45/45 [==============================] - ETA: 0s - loss: 0.4327 - iou: 0.6020 - pixel_accuracy: 0.9203 - dice_score: 0.7514IoU: 0.6019571423530579 - Pixel Accuracy: 0.9202858209609985 - Dice Score: 0.7513563632965088\n",
            "45/45 [==============================] - 29s 638ms/step - loss: 0.4327 - iou: 0.6020 - pixel_accuracy: 0.9203 - dice_score: 0.7514 - val_loss: 3.2652 - val_iou: 0.1975 - val_pixel_accuracy: 0.5699 - val_dice_score: 0.3296\n",
            "28\n",
            "45/45 [==============================] - ETA: 0s - loss: 0.4309 - iou: 0.6020 - pixel_accuracy: 0.9202 - dice_score: 0.7514IoU: 0.6020376682281494 - Pixel Accuracy: 0.9202218651771545 - Dice Score: 0.751402735710144\n",
            "45/45 [==============================] - 29s 643ms/step - loss: 0.4309 - iou: 0.6020 - pixel_accuracy: 0.9202 - dice_score: 0.7514 - val_loss: 3.4160 - val_iou: 0.2020 - val_pixel_accuracy: 0.5798 - val_dice_score: 0.3359\n",
            "27\n",
            "45/45 [==============================] - ETA: 0s - loss: 0.4193 - iou: 0.6122 - pixel_accuracy: 0.9218 - dice_score: 0.7592IoU: 0.6121677160263062 - Pixel Accuracy: 0.9217575788497925 - Dice Score: 0.7591754198074341\n",
            "45/45 [==============================] - 29s 635ms/step - loss: 0.4193 - iou: 0.6122 - pixel_accuracy: 0.9218 - dice_score: 0.7592 - val_loss: 3.1763 - val_iou: 0.2082 - val_pixel_accuracy: 0.5914 - val_dice_score: 0.3443\n",
            "26\n",
            "45/45 [==============================] - ETA: 0s - loss: 0.4107 - iou: 0.6167 - pixel_accuracy: 0.9228 - dice_score: 0.7627IoU: 0.616682767868042 - Pixel Accuracy: 0.9228101372718811 - Dice Score: 0.7627348899841309\n",
            "45/45 [==============================] - 29s 651ms/step - loss: 0.4107 - iou: 0.6167 - pixel_accuracy: 0.9228 - dice_score: 0.7627 - val_loss: 3.1918 - val_iou: 0.2104 - val_pixel_accuracy: 0.5965 - val_dice_score: 0.3474\n",
            "25\n",
            "45/45 [==============================] - ETA: 0s - loss: 0.4046 - iou: 0.6238 - pixel_accuracy: 0.9239 - dice_score: 0.7682IoU: 0.6238298416137695 - Pixel Accuracy: 0.9239110350608826 - Dice Score: 0.7681655883789062\n",
            "45/45 [==============================] - 29s 635ms/step - loss: 0.4046 - iou: 0.6238 - pixel_accuracy: 0.9239 - dice_score: 0.7682 - val_loss: 4.0410 - val_iou: 0.1783 - val_pixel_accuracy: 0.5084 - val_dice_score: 0.3023\n",
            "24\n",
            "45/45 [==============================] - ETA: 0s - loss: 0.4002 - iou: 0.6256 - pixel_accuracy: 0.9241 - dice_score: 0.7695IoU: 0.6256179213523865 - Pixel Accuracy: 0.9241266250610352 - Dice Score: 0.7694717645645142\n",
            "45/45 [==============================] - 29s 637ms/step - loss: 0.4002 - iou: 0.6256 - pixel_accuracy: 0.9241 - dice_score: 0.7695 - val_loss: 2.9200 - val_iou: 0.2245 - val_pixel_accuracy: 0.6259 - val_dice_score: 0.3664\n",
            "23\n",
            "45/45 [==============================] - ETA: 0s - loss: 0.3965 - iou: 0.6294 - pixel_accuracy: 0.9248 - dice_score: 0.7724IoU: 0.6293990015983582 - Pixel Accuracy: 0.9247606992721558 - Dice Score: 0.7723996639251709\n",
            "45/45 [==============================] - 29s 642ms/step - loss: 0.3965 - iou: 0.6294 - pixel_accuracy: 0.9248 - dice_score: 0.7724 - val_loss: 4.3070 - val_iou: 0.1742 - val_pixel_accuracy: 0.4926 - val_dice_score: 0.2964\n",
            "22\n",
            "45/45 [==============================] - ETA: 0s - loss: 0.3920 - iou: 0.6343 - pixel_accuracy: 0.9253 - dice_score: 0.7760IoU: 0.6342831254005432 - Pixel Accuracy: 0.9253045916557312 - Dice Score: 0.7760424017906189\n",
            "45/45 [==============================] - 29s 645ms/step - loss: 0.3920 - iou: 0.6343 - pixel_accuracy: 0.9253 - dice_score: 0.7760 - val_loss: 3.0195 - val_iou: 0.2260 - val_pixel_accuracy: 0.6290 - val_dice_score: 0.3683\n",
            "21\n",
            "45/45 [==============================] - ETA: 0s - loss: 0.3832 - iou: 0.6388 - pixel_accuracy: 0.9261 - dice_score: 0.7795IoU: 0.6388208866119385 - Pixel Accuracy: 0.9261152744293213 - Dice Score: 0.7794613242149353\n",
            "45/45 [==============================] - 29s 637ms/step - loss: 0.3832 - iou: 0.6388 - pixel_accuracy: 0.9261 - dice_score: 0.7795 - val_loss: 3.0426 - val_iou: 0.2272 - val_pixel_accuracy: 0.6291 - val_dice_score: 0.3699\n",
            "20\n",
            "45/45 [==============================] - ETA: 0s - loss: 0.3813 - iou: 0.6420 - pixel_accuracy: 0.9265 - dice_score: 0.7818IoU: 0.6419680118560791 - Pixel Accuracy: 0.9265108108520508 - Dice Score: 0.7817599773406982\n",
            "45/45 [==============================] - 29s 644ms/step - loss: 0.3813 - iou: 0.6420 - pixel_accuracy: 0.9265 - dice_score: 0.7818 - val_loss: 2.7067 - val_iou: 0.2504 - val_pixel_accuracy: 0.6715 - val_dice_score: 0.4000\n",
            "19\n",
            "45/45 [==============================] - ETA: 0s - loss: 0.3744 - iou: 0.6471 - pixel_accuracy: 0.9274 - dice_score: 0.7855IoU: 0.6470906734466553 - Pixel Accuracy: 0.9273548722267151 - Dice Score: 0.7855005860328674\n",
            "45/45 [==============================] - 29s 638ms/step - loss: 0.3744 - iou: 0.6471 - pixel_accuracy: 0.9274 - dice_score: 0.7855 - val_loss: 2.7960 - val_iou: 0.2346 - val_pixel_accuracy: 0.6435 - val_dice_score: 0.3797\n",
            "18\n",
            "45/45 [==============================] - ETA: 0s - loss: 0.3682 - iou: 0.6531 - pixel_accuracy: 0.9283 - dice_score: 0.7900IoU: 0.653142511844635 - Pixel Accuracy: 0.9282646775245667 - Dice Score: 0.790023148059845\n",
            "45/45 [==============================] - 29s 642ms/step - loss: 0.3682 - iou: 0.6531 - pixel_accuracy: 0.9283 - dice_score: 0.7900 - val_loss: 2.9164 - val_iou: 0.2231 - val_pixel_accuracy: 0.6220 - val_dice_score: 0.3645\n",
            "17\n",
            "45/45 [==============================] - ETA: 0s - loss: 0.3638 - iou: 0.6551 - pixel_accuracy: 0.9286 - dice_score: 0.7914IoU: 0.6550820469856262 - Pixel Accuracy: 0.9286144971847534 - Dice Score: 0.791442334651947\n",
            "45/45 [==============================] - 28s 634ms/step - loss: 0.3638 - iou: 0.6551 - pixel_accuracy: 0.9286 - dice_score: 0.7914 - val_loss: 2.5740 - val_iou: 0.2594 - val_pixel_accuracy: 0.6847 - val_dice_score: 0.4114\n",
            "16\n",
            "45/45 [==============================] - ETA: 0s - loss: 0.3620 - iou: 0.6591 - pixel_accuracy: 0.9289 - dice_score: 0.7944IoU: 0.6590781211853027 - Pixel Accuracy: 0.9288731813430786 - Dice Score: 0.794377326965332\n",
            "45/45 [==============================] - 29s 642ms/step - loss: 0.3620 - iou: 0.6591 - pixel_accuracy: 0.9289 - dice_score: 0.7944 - val_loss: 2.8916 - val_iou: 0.2333 - val_pixel_accuracy: 0.6391 - val_dice_score: 0.3778\n",
            "15\n",
            "45/45 [==============================] - ETA: 0s - loss: 0.3568 - iou: 0.6611 - pixel_accuracy: 0.9293 - dice_score: 0.7958IoU: 0.6611150503158569 - Pixel Accuracy: 0.929280698299408 - Dice Score: 0.7957955002784729\n",
            "45/45 [==============================] - 29s 643ms/step - loss: 0.3568 - iou: 0.6611 - pixel_accuracy: 0.9293 - dice_score: 0.7958 - val_loss: 2.6610 - val_iou: 0.2490 - val_pixel_accuracy: 0.6678 - val_dice_score: 0.3982\n",
            "14\n",
            "45/45 [==============================] - ETA: 0s - loss: 0.3548 - iou: 0.6636 - pixel_accuracy: 0.9295 - dice_score: 0.7976IoU: 0.6635516881942749 - Pixel Accuracy: 0.9294921159744263 - Dice Score: 0.7975826859474182\n",
            "45/45 [==============================] - 29s 634ms/step - loss: 0.3548 - iou: 0.6636 - pixel_accuracy: 0.9295 - dice_score: 0.7976 - val_loss: 2.4471 - val_iou: 0.2638 - val_pixel_accuracy: 0.6905 - val_dice_score: 0.4169\n",
            "13\n",
            "45/45 [==============================] - ETA: 0s - loss: 0.3443 - iou: 0.6725 - pixel_accuracy: 0.9309 - dice_score: 0.8040IoU: 0.6725327968597412 - Pixel Accuracy: 0.9308853149414062 - Dice Score: 0.8040205240249634\n",
            "45/45 [==============================] - 29s 638ms/step - loss: 0.3443 - iou: 0.6725 - pixel_accuracy: 0.9309 - dice_score: 0.8040 - val_loss: 2.1957 - val_iou: 0.2747 - val_pixel_accuracy: 0.7075 - val_dice_score: 0.4305\n",
            "12\n",
            "45/45 [==============================] - ETA: 0s - loss: 0.3395 - iou: 0.6733 - pixel_accuracy: 0.9314 - dice_score: 0.8046IoU: 0.6733200550079346 - Pixel Accuracy: 0.9314005374908447 - Dice Score: 0.8046203851699829\n",
            "45/45 [==============================] - 28s 630ms/step - loss: 0.3395 - iou: 0.6733 - pixel_accuracy: 0.9314 - dice_score: 0.8046 - val_loss: 2.6366 - val_iou: 0.2567 - val_pixel_accuracy: 0.6770 - val_dice_score: 0.4079\n",
            "11\n",
            "45/45 [==============================] - ETA: 0s - loss: 0.3384 - iou: 0.6777 - pixel_accuracy: 0.9315 - dice_score: 0.8077IoU: 0.6776528358459473 - Pixel Accuracy: 0.9315369725227356 - Dice Score: 0.8076876997947693\n",
            "45/45 [==============================] - 28s 633ms/step - loss: 0.3384 - iou: 0.6777 - pixel_accuracy: 0.9315 - dice_score: 0.8077 - val_loss: 2.4345 - val_iou: 0.2662 - val_pixel_accuracy: 0.6933 - val_dice_score: 0.4199\n",
            "10\n",
            "45/45 [==============================] - ETA: 0s - loss: 0.3345 - iou: 0.6800 - pixel_accuracy: 0.9320 - dice_score: 0.8094IoU: 0.6800185441970825 - Pixel Accuracy: 0.931979775428772 - Dice Score: 0.80938720703125\n",
            "45/45 [==============================] - 28s 628ms/step - loss: 0.3345 - iou: 0.6800 - pixel_accuracy: 0.9320 - dice_score: 0.8094 - val_loss: 2.3020 - val_iou: 0.2916 - val_pixel_accuracy: 0.7277 - val_dice_score: 0.4509\n",
            "9\n",
            "45/45 [==============================] - ETA: 0s - loss: 0.3280 - iou: 0.6860 - pixel_accuracy: 0.9327 - dice_score: 0.8137IoU: 0.6860177516937256 - Pixel Accuracy: 0.9327099919319153 - Dice Score: 0.8136506080627441\n",
            "45/45 [==============================] - 28s 632ms/step - loss: 0.3280 - iou: 0.6860 - pixel_accuracy: 0.9327 - dice_score: 0.8137 - val_loss: 2.3370 - val_iou: 0.2901 - val_pixel_accuracy: 0.7263 - val_dice_score: 0.4491\n",
            "8\n",
            "45/45 [==============================] - ETA: 0s - loss: 0.3234 - iou: 0.6882 - pixel_accuracy: 0.9332 - dice_score: 0.8152IoU: 0.6882205009460449 - Pixel Accuracy: 0.9331745505332947 - Dice Score: 0.8151646256446838\n",
            "45/45 [==============================] - 29s 642ms/step - loss: 0.3234 - iou: 0.6882 - pixel_accuracy: 0.9332 - dice_score: 0.8152 - val_loss: 2.3110 - val_iou: 0.2732 - val_pixel_accuracy: 0.7013 - val_dice_score: 0.4286\n",
            "7\n",
            "45/45 [==============================] - ETA: 0s - loss: 0.3187 - iou: 0.6928 - pixel_accuracy: 0.9336 - dice_score: 0.8184IoU: 0.6927743554115295 - Pixel Accuracy: 0.9335998296737671 - Dice Score: 0.8183963298797607\n",
            "45/45 [==============================] - 28s 627ms/step - loss: 0.3187 - iou: 0.6928 - pixel_accuracy: 0.9336 - dice_score: 0.8184 - val_loss: 1.8323 - val_iou: 0.3035 - val_pixel_accuracy: 0.7433 - val_dice_score: 0.4650\n",
            "6\n",
            "45/45 [==============================] - ETA: 0s - loss: 0.3156 - iou: 0.6970 - pixel_accuracy: 0.9341 - dice_score: 0.8213IoU: 0.6970039010047913 - Pixel Accuracy: 0.934083104133606 - Dice Score: 0.821342408657074\n",
            "45/45 [==============================] - 29s 637ms/step - loss: 0.3156 - iou: 0.6970 - pixel_accuracy: 0.9341 - dice_score: 0.8213 - val_loss: 1.7647 - val_iou: 0.3049 - val_pixel_accuracy: 0.7453 - val_dice_score: 0.4666\n",
            "5\n",
            "45/45 [==============================] - ETA: 0s - loss: 0.3183 - iou: 0.6920 - pixel_accuracy: 0.9337 - dice_score: 0.8178IoU: 0.6919631958007812 - Pixel Accuracy: 0.9336780905723572 - Dice Score: 0.8177629113197327\n",
            "45/45 [==============================] - 28s 631ms/step - loss: 0.3183 - iou: 0.6920 - pixel_accuracy: 0.9337 - dice_score: 0.8178 - val_loss: 1.8161 - val_iou: 0.3170 - val_pixel_accuracy: 0.7592 - val_dice_score: 0.4807\n",
            "4\n",
            "45/45 [==============================] - ETA: 0s - loss: 0.3102 - iou: 0.7003 - pixel_accuracy: 0.9347 - dice_score: 0.8236IoU: 0.7003272175788879 - Pixel Accuracy: 0.9347401261329651 - Dice Score: 0.8236100673675537\n",
            "45/45 [==============================] - 29s 642ms/step - loss: 0.3102 - iou: 0.7003 - pixel_accuracy: 0.9347 - dice_score: 0.8236 - val_loss: 1.6133 - val_iou: 0.3322 - val_pixel_accuracy: 0.7732 - val_dice_score: 0.4980\n",
            "3\n",
            "45/45 [==============================] - ETA: 0s - loss: 0.3059 - iou: 0.7045 - pixel_accuracy: 0.9352 - dice_score: 0.8265IoU: 0.7044892907142639 - Pixel Accuracy: 0.9351951479911804 - Dice Score: 0.8265093564987183\n",
            "45/45 [==============================] - 29s 640ms/step - loss: 0.3059 - iou: 0.7045 - pixel_accuracy: 0.9352 - dice_score: 0.8265 - val_loss: 1.6401 - val_iou: 0.3241 - val_pixel_accuracy: 0.7662 - val_dice_score: 0.4887\n",
            "2\n",
            "45/45 [==============================] - ETA: 0s - loss: 0.3027 - iou: 0.7073 - pixel_accuracy: 0.9355 - dice_score: 0.8284IoU: 0.7072734832763672 - Pixel Accuracy: 0.9355496764183044 - Dice Score: 0.8284396529197693\n",
            "45/45 [==============================] - 29s 640ms/step - loss: 0.3027 - iou: 0.7073 - pixel_accuracy: 0.9355 - dice_score: 0.8284 - val_loss: 1.5470 - val_iou: 0.3292 - val_pixel_accuracy: 0.7710 - val_dice_score: 0.4946\n",
            "1\n",
            "45/45 [==============================] - ETA: 0s - loss: 0.3035 - iou: 0.7042 - pixel_accuracy: 0.9353 - dice_score: 0.8262IoU: 0.7041754722595215 - Pixel Accuracy: 0.9353485107421875 - Dice Score: 0.82621830701828\n",
            "45/45 [==============================] - 29s 636ms/step - loss: 0.3035 - iou: 0.7042 - pixel_accuracy: 0.9353 - dice_score: 0.8262 - val_loss: 1.5702 - val_iou: 0.3142 - val_pixel_accuracy: 0.7569 - val_dice_score: 0.4774\n",
            "0\n"
          ]
        }
      ]
    },
    {
      "cell_type": "code",
      "source": [
        "import matplotlib.pyplot as plt\n",
        "import pandas as pd\n",
        "\n",
        "while len(all_history) < 100:\n",
        "    # Обучение модели\n",
        "    history = model.fit(train_images,\n",
        "                        train_masks,\n",
        "                        validation_data=(valid_images, valid_masks),\n",
        "                        epochs=1,\n",
        "                        batch_size=8,\n",
        "                        callbacks=callbacks_list)\n",
        "\n",
        "    # Добавьте историю обучения в список\n",
        "    all_history.append(history)\n",
        "    print(100 - len(all_history))\n"
      ],
      "metadata": {
        "colab": {
          "base_uri": "https://localhost:8080/"
        },
        "id": "cV_-Fs2cmD5y",
        "outputId": "115f3c02-5982-4cff-e818-9de6fe09181a"
      },
      "execution_count": null,
      "outputs": [
        {
          "output_type": "stream",
          "name": "stdout",
          "text": [
            "45/45 [==============================] - ETA: 0s - loss: 0.2982 - iou: 0.7104 - pixel_accuracy: 0.9360 - dice_score: 0.8305IoU: 0.710393488407135 - Pixel Accuracy: 0.9359883069992065 - Dice Score: 0.830537736415863\n",
            "45/45 [==============================] - 29s 644ms/step - loss: 0.2982 - iou: 0.7104 - pixel_accuracy: 0.9360 - dice_score: 0.8305 - val_loss: 1.3970 - val_iou: 0.3099 - val_pixel_accuracy: 0.7499 - val_dice_score: 0.4725\n",
            "49\n",
            "45/45 [==============================] - ETA: 0s - loss: 0.2966 - iou: 0.7118 - pixel_accuracy: 0.9361 - dice_score: 0.8316IoU: 0.7118237614631653 - Pixel Accuracy: 0.9361389875411987 - Dice Score: 0.8315582871437073\n",
            "45/45 [==============================] - 29s 634ms/step - loss: 0.2966 - iou: 0.7118 - pixel_accuracy: 0.9361 - dice_score: 0.8316 - val_loss: 1.1976 - val_iou: 0.3492 - val_pixel_accuracy: 0.7900 - val_dice_score: 0.5169\n",
            "48\n",
            "45/45 [==============================] - ETA: 0s - loss: 0.2896 - iou: 0.7176 - pixel_accuracy: 0.9369 - dice_score: 0.8355IoU: 0.7176452875137329 - Pixel Accuracy: 0.936887800693512 - Dice Score: 0.8355337977409363\n",
            "45/45 [==============================] - 28s 629ms/step - loss: 0.2896 - iou: 0.7176 - pixel_accuracy: 0.9369 - dice_score: 0.8355 - val_loss: 1.2246 - val_iou: 0.3821 - val_pixel_accuracy: 0.8150 - val_dice_score: 0.5519\n",
            "47\n",
            "45/45 [==============================] - ETA: 0s - loss: 0.2890 - iou: 0.7182 - pixel_accuracy: 0.9369 - dice_score: 0.8359IoU: 0.7181975245475769 - Pixel Accuracy: 0.936893105506897 - Dice Score: 0.8358640670776367\n",
            "45/45 [==============================] - 28s 627ms/step - loss: 0.2890 - iou: 0.7182 - pixel_accuracy: 0.9369 - dice_score: 0.8359 - val_loss: 1.2278 - val_iou: 0.3586 - val_pixel_accuracy: 0.7974 - val_dice_score: 0.5269\n",
            "46\n",
            "45/45 [==============================] - ETA: 0s - loss: 0.2863 - iou: 0.7218 - pixel_accuracy: 0.9372 - dice_score: 0.8383IoU: 0.7217954993247986 - Pixel Accuracy: 0.9371665716171265 - Dice Score: 0.8383467197418213\n",
            "45/45 [==============================] - 29s 636ms/step - loss: 0.2863 - iou: 0.7218 - pixel_accuracy: 0.9372 - dice_score: 0.8383 - val_loss: 1.0681 - val_iou: 0.3938 - val_pixel_accuracy: 0.8226 - val_dice_score: 0.5642\n",
            "45\n",
            "45/45 [==============================] - ETA: 0s - loss: 0.2868 - iou: 0.7200 - pixel_accuracy: 0.9373 - dice_score: 0.8371IoU: 0.7199723124504089 - Pixel Accuracy: 0.9372571110725403 - Dice Score: 0.8371001482009888\n",
            "45/45 [==============================] - 29s 637ms/step - loss: 0.2868 - iou: 0.7200 - pixel_accuracy: 0.9373 - dice_score: 0.8371 - val_loss: 1.0432 - val_iou: 0.3829 - val_pixel_accuracy: 0.8163 - val_dice_score: 0.5529\n",
            "44\n",
            "45/45 [==============================] - ETA: 0s - loss: 0.2853 - iou: 0.7212 - pixel_accuracy: 0.9374 - dice_score: 0.8379IoU: 0.7212170958518982 - Pixel Accuracy: 0.9373912215232849 - Dice Score: 0.8378590941429138\n",
            "45/45 [==============================] - 28s 631ms/step - loss: 0.2853 - iou: 0.7212 - pixel_accuracy: 0.9374 - dice_score: 0.8379 - val_loss: 1.0291 - val_iou: 0.3986 - val_pixel_accuracy: 0.8259 - val_dice_score: 0.5691\n",
            "43\n",
            "45/45 [==============================] - ETA: 0s - loss: 0.2837 - iou: 0.7224 - pixel_accuracy: 0.9375 - dice_score: 0.8387IoU: 0.7223601341247559 - Pixel Accuracy: 0.9375481605529785 - Dice Score: 0.8386679887771606\n",
            "45/45 [==============================] - 29s 636ms/step - loss: 0.2837 - iou: 0.7224 - pixel_accuracy: 0.9375 - dice_score: 0.8387 - val_loss: 0.9113 - val_iou: 0.4380 - val_pixel_accuracy: 0.8478 - val_dice_score: 0.6082\n",
            "42\n",
            "45/45 [==============================] - ETA: 0s - loss: 0.2784 - iou: 0.7265 - pixel_accuracy: 0.9380 - dice_score: 0.8415"
          ]
        },
        {
          "output_type": "stream",
          "name": "stderr",
          "text": [
            "/usr/local/lib/python3.10/dist-packages/keras/src/engine/training.py:3103: UserWarning: You are saving your model as an HDF5 file via `model.save()`. This file format is considered legacy. We recommend using instead the native Keras format, e.g. `model.save('my_model.keras')`.\n",
            "  saving_api.save_model(\n"
          ]
        },
        {
          "output_type": "stream",
          "name": "stdout",
          "text": [
            "IoU: 0.7265134453773499 - Pixel Accuracy: 0.9380109906196594 - Dice Score: 0.8415077328681946\n",
            "\b\b\b\b\b\b\b\b\b\b\b\b\b\b\b\b\b\b\b\b\b\b\b\b\b\b\b\b\b\b\b\b\b\b\b\b\b\b\b\b\b\b\b\b\b\b\b\b\b\b\b\b\b\b\b\b\b\b\b\b\b\b\b\b\b\b\b\b\b\b\b\b\b\b\b\b\b\b\b\b\b\b\b\b\b\b\b\b\b\b\b\b\b\b\b\b\b\b\b\b\b\b\b\b\b\b\b\b\b\b\b\b\b\b\b\b\b\b\b\b\b\b\b\r45/45 [==============================] - 29s 650ms/step - loss: 0.2784 - iou: 0.7265 - pixel_accuracy: 0.9380 - dice_score: 0.8415 - val_loss: 0.7776 - val_iou: 0.4653 - val_pixel_accuracy: 0.8622 - val_dice_score: 0.6342\n",
            "41\n",
            "45/45 [==============================] - ETA: 0s - loss: 0.2771 - iou: 0.7288 - pixel_accuracy: 0.9381 - dice_score: 0.8430IoU: 0.7287867069244385 - Pixel Accuracy: 0.9380515217781067 - Dice Score: 0.8430156111717224\n",
            "45/45 [==============================] - 28s 625ms/step - loss: 0.2771 - iou: 0.7288 - pixel_accuracy: 0.9381 - dice_score: 0.8430 - val_loss: 0.8175 - val_iou: 0.4514 - val_pixel_accuracy: 0.8557 - val_dice_score: 0.6211\n",
            "40\n",
            "45/45 [==============================] - ETA: 0s - loss: 0.2745 - iou: 0.7299 - pixel_accuracy: 0.9384 - dice_score: 0.8438IoU: 0.7299124598503113 - Pixel Accuracy: 0.9383996725082397 - Dice Score: 0.8437812924385071\n",
            "45/45 [==============================] - 28s 633ms/step - loss: 0.2745 - iou: 0.7299 - pixel_accuracy: 0.9384 - dice_score: 0.8438 - val_loss: 0.7889 - val_iou: 0.4462 - val_pixel_accuracy: 0.8541 - val_dice_score: 0.6163\n",
            "39\n",
            "45/45 [==============================] - ETA: 0s - loss: 0.2735 - iou: 0.7309 - pixel_accuracy: 0.9385 - dice_score: 0.8444IoU: 0.7309017777442932 - Pixel Accuracy: 0.9384528398513794 - Dice Score: 0.8444159030914307\n",
            "45/45 [==============================] - 29s 635ms/step - loss: 0.2735 - iou: 0.7309 - pixel_accuracy: 0.9385 - dice_score: 0.8444 - val_loss: 0.8308 - val_iou: 0.4272 - val_pixel_accuracy: 0.8424 - val_dice_score: 0.5978\n",
            "38\n",
            "45/45 [==============================] - ETA: 0s - loss: 0.2723 - iou: 0.7328 - pixel_accuracy: 0.9386 - dice_score: 0.8457IoU: 0.7328135967254639 - Pixel Accuracy: 0.9385982751846313 - Dice Score: 0.845678448677063\n",
            "45/45 [==============================] - 29s 652ms/step - loss: 0.2723 - iou: 0.7328 - pixel_accuracy: 0.9386 - dice_score: 0.8457 - val_loss: 0.7601 - val_iou: 0.4691 - val_pixel_accuracy: 0.8635 - val_dice_score: 0.6377\n",
            "37\n",
            "45/45 [==============================] - ETA: 0s - loss: 0.2693 - iou: 0.7349 - pixel_accuracy: 0.9388 - dice_score: 0.8471IoU: 0.7349399328231812 - Pixel Accuracy: 0.9387897849082947 - Dice Score: 0.8471204042434692\n",
            "45/45 [==============================] - 29s 650ms/step - loss: 0.2693 - iou: 0.7349 - pixel_accuracy: 0.9388 - dice_score: 0.8471 - val_loss: 0.6702 - val_iou: 0.4862 - val_pixel_accuracy: 0.8715 - val_dice_score: 0.6535\n",
            "36\n",
            "45/45 [==============================] - ETA: 0s - loss: 0.2672 - iou: 0.7358 - pixel_accuracy: 0.9391 - dice_score: 0.8477IoU: 0.7358057498931885 - Pixel Accuracy: 0.939109206199646 - Dice Score: 0.8476893305778503\n",
            "45/45 [==============================] - 29s 641ms/step - loss: 0.2672 - iou: 0.7358 - pixel_accuracy: 0.9391 - dice_score: 0.8477 - val_loss: 0.7762 - val_iou: 0.4625 - val_pixel_accuracy: 0.8596 - val_dice_score: 0.6315\n",
            "35\n",
            "45/45 [==============================] - ETA: 0s - loss: 0.2641 - iou: 0.7394 - pixel_accuracy: 0.9395 - dice_score: 0.8500IoU: 0.7393511533737183 - Pixel Accuracy: 0.9394547939300537 - Dice Score: 0.8500454425811768\n",
            "45/45 [==============================] - 29s 655ms/step - loss: 0.2641 - iou: 0.7394 - pixel_accuracy: 0.9395 - dice_score: 0.8500 - val_loss: 0.6591 - val_iou: 0.5007 - val_pixel_accuracy: 0.8761 - val_dice_score: 0.6663\n",
            "34\n",
            "45/45 [==============================] - ETA: 0s - loss: 0.2628 - iou: 0.7408 - pixel_accuracy: 0.9395 - dice_score: 0.8510IoU: 0.7408451437950134 - Pixel Accuracy: 0.9394907355308533 - Dice Score: 0.8510201573371887\n",
            "45/45 [==============================] - 29s 655ms/step - loss: 0.2628 - iou: 0.7408 - pixel_accuracy: 0.9395 - dice_score: 0.8510 - val_loss: 0.5596 - val_iou: 0.5248 - val_pixel_accuracy: 0.8864 - val_dice_score: 0.6875\n",
            "33\n",
            "45/45 [==============================] - ETA: 0s - loss: 0.2629 - iou: 0.7407 - pixel_accuracy: 0.9395 - dice_score: 0.8510IoU: 0.7406988143920898 - Pixel Accuracy: 0.9395261406898499 - Dice Score: 0.8509615659713745\n",
            "45/45 [==============================] - 28s 625ms/step - loss: 0.2629 - iou: 0.7407 - pixel_accuracy: 0.9395 - dice_score: 0.8510 - val_loss: 0.6416 - val_iou: 0.4983 - val_pixel_accuracy: 0.8761 - val_dice_score: 0.6643\n",
            "32\n",
            "45/45 [==============================] - ETA: 0s - loss: 0.2600 - iou: 0.7429 - pixel_accuracy: 0.9399 - dice_score: 0.8524IoU: 0.7429253458976746 - Pixel Accuracy: 0.9398901462554932 - Dice Score: 0.8524268269538879\n",
            "45/45 [==============================] - 28s 634ms/step - loss: 0.2600 - iou: 0.7429 - pixel_accuracy: 0.9399 - dice_score: 0.8524 - val_loss: 0.6444 - val_iou: 0.5012 - val_pixel_accuracy: 0.8762 - val_dice_score: 0.6667\n",
            "31\n",
            "45/45 [==============================] - ETA: 0s - loss: 0.2588 - iou: 0.7434 - pixel_accuracy: 0.9399 - dice_score: 0.8527IoU: 0.7433584332466125 - Pixel Accuracy: 0.9398658871650696 - Dice Score: 0.8527041673660278\n",
            "45/45 [==============================] - 29s 636ms/step - loss: 0.2588 - iou: 0.7434 - pixel_accuracy: 0.9399 - dice_score: 0.8527 - val_loss: 0.6588 - val_iou: 0.4958 - val_pixel_accuracy: 0.8748 - val_dice_score: 0.6619\n",
            "30\n",
            "45/45 [==============================] - ETA: 0s - loss: 0.2590 - iou: 0.7436 - pixel_accuracy: 0.9398 - dice_score: 0.8529IoU: 0.7436355352401733 - Pixel Accuracy: 0.9397707581520081 - Dice Score: 0.8529164791107178\n",
            "45/45 [==============================] - 29s 641ms/step - loss: 0.2590 - iou: 0.7436 - pixel_accuracy: 0.9398 - dice_score: 0.8529 - val_loss: 0.6531 - val_iou: 0.4979 - val_pixel_accuracy: 0.8754 - val_dice_score: 0.6639\n",
            "29\n",
            "45/45 [==============================] - ETA: 0s - loss: 0.2556 - iou: 0.7464 - pixel_accuracy: 0.9402 - dice_score: 0.8547IoU: 0.7464242577552795 - Pixel Accuracy: 0.9402012228965759 - Dice Score: 0.854724645614624\n",
            "45/45 [==============================] - 29s 642ms/step - loss: 0.2556 - iou: 0.7464 - pixel_accuracy: 0.9402 - dice_score: 0.8547 - val_loss: 0.5960 - val_iou: 0.5179 - val_pixel_accuracy: 0.8831 - val_dice_score: 0.6815\n",
            "28\n",
            "45/45 [==============================] - ETA: 0s - loss: 0.2535 - iou: 0.7486 - pixel_accuracy: 0.9403 - dice_score: 0.8561IoU: 0.7485851049423218 - Pixel Accuracy: 0.9402767419815063 - Dice Score: 0.8561484217643738\n",
            "45/45 [==============================] - 29s 638ms/step - loss: 0.2535 - iou: 0.7486 - pixel_accuracy: 0.9403 - dice_score: 0.8561 - val_loss: 0.5761 - val_iou: 0.5283 - val_pixel_accuracy: 0.8870 - val_dice_score: 0.6906\n",
            "27\n",
            "45/45 [==============================] - ETA: 0s - loss: 0.2513 - iou: 0.7497 - pixel_accuracy: 0.9405 - dice_score: 0.8569IoU: 0.7496769428253174 - Pixel Accuracy: 0.9404746890068054 - Dice Score: 0.8568562865257263\n",
            "45/45 [==============================] - 28s 625ms/step - loss: 0.2513 - iou: 0.7497 - pixel_accuracy: 0.9405 - dice_score: 0.8569 - val_loss: 0.6349 - val_iou: 0.5069 - val_pixel_accuracy: 0.8789 - val_dice_score: 0.6719\n",
            "26\n",
            "45/45 [==============================] - ETA: 0s - loss: 0.2515 - iou: 0.7500 - pixel_accuracy: 0.9405 - dice_score: 0.8571IoU: 0.7500120401382446 - Pixel Accuracy: 0.9405063390731812 - Dice Score: 0.8570836186408997\n",
            "45/45 [==============================] - 29s 644ms/step - loss: 0.2515 - iou: 0.7500 - pixel_accuracy: 0.9405 - dice_score: 0.8571 - val_loss: 0.5894 - val_iou: 0.5226 - val_pixel_accuracy: 0.8846 - val_dice_score: 0.6855\n",
            "25\n",
            "45/45 [==============================] - ETA: 0s - loss: 0.2481 - iou: 0.7523 - pixel_accuracy: 0.9408 - dice_score: 0.8586IoU: 0.7523221969604492 - Pixel Accuracy: 0.9408466815948486 - Dice Score: 0.8585809469223022\n",
            "45/45 [==============================] - 28s 626ms/step - loss: 0.2481 - iou: 0.7523 - pixel_accuracy: 0.9408 - dice_score: 0.8586 - val_loss: 0.5785 - val_iou: 0.5125 - val_pixel_accuracy: 0.8806 - val_dice_score: 0.6770\n",
            "24\n",
            "45/45 [==============================] - ETA: 0s - loss: 0.2480 - iou: 0.7528 - pixel_accuracy: 0.9409 - dice_score: 0.8589IoU: 0.7527517676353455 - Pixel Accuracy: 0.9408841729164124 - Dice Score: 0.8588714599609375\n",
            "45/45 [==============================] - 28s 625ms/step - loss: 0.2480 - iou: 0.7528 - pixel_accuracy: 0.9409 - dice_score: 0.8589 - val_loss: 0.6180 - val_iou: 0.5123 - val_pixel_accuracy: 0.8807 - val_dice_score: 0.6764\n",
            "23\n",
            "45/45 [==============================] - ETA: 0s - loss: 0.2465 - iou: 0.7550 - pixel_accuracy: 0.9410 - dice_score: 0.8603IoU: 0.7549986839294434 - Pixel Accuracy: 0.9410143494606018 - Dice Score: 0.8603278398513794\n",
            "45/45 [==============================] - 29s 640ms/step - loss: 0.2465 - iou: 0.7550 - pixel_accuracy: 0.9410 - dice_score: 0.8603 - val_loss: 0.7258 - val_iou: 0.4610 - val_pixel_accuracy: 0.8591 - val_dice_score: 0.6304\n",
            "22\n",
            "45/45 [==============================] - ETA: 0s - loss: 0.2443 - iou: 0.7557 - pixel_accuracy: 0.9412 - dice_score: 0.8608IoU: 0.7556889057159424 - Pixel Accuracy: 0.9411621689796448 - Dice Score: 0.8607803583145142\n",
            "45/45 [==============================] - 28s 631ms/step - loss: 0.2443 - iou: 0.7557 - pixel_accuracy: 0.9412 - dice_score: 0.8608 - val_loss: 0.6523 - val_iou: 0.5107 - val_pixel_accuracy: 0.8789 - val_dice_score: 0.6751\n",
            "21\n",
            "45/45 [==============================] - ETA: 0s - loss: 0.2457 - iou: 0.7545 - pixel_accuracy: 0.9410 - dice_score: 0.8600IoU: 0.7544875144958496 - Pixel Accuracy: 0.9409968852996826 - Dice Score: 0.859973132610321\n",
            "45/45 [==============================] - 29s 638ms/step - loss: 0.2457 - iou: 0.7545 - pixel_accuracy: 0.9410 - dice_score: 0.8600 - val_loss: 0.6887 - val_iou: 0.4921 - val_pixel_accuracy: 0.8725 - val_dice_score: 0.6586\n",
            "20\n",
            "45/45 [==============================] - ETA: 0s - loss: 0.2426 - iou: 0.7571 - pixel_accuracy: 0.9413 - dice_score: 0.8616IoU: 0.7570630311965942 - Pixel Accuracy: 0.9413442015647888 - Dice Score: 0.861647367477417\n",
            "45/45 [==============================] - 29s 637ms/step - loss: 0.2426 - iou: 0.7571 - pixel_accuracy: 0.9413 - dice_score: 0.8616 - val_loss: 0.7052 - val_iou: 0.4849 - val_pixel_accuracy: 0.8691 - val_dice_score: 0.6521\n",
            "19\n",
            "45/45 [==============================] - ETA: 0s - loss: 0.2426 - iou: 0.7571 - pixel_accuracy: 0.9411 - dice_score: 0.8617IoU: 0.7571143507957458 - Pixel Accuracy: 0.9411484003067017 - Dice Score: 0.8617073893547058\n",
            "45/45 [==============================] - 28s 628ms/step - loss: 0.2426 - iou: 0.7571 - pixel_accuracy: 0.9411 - dice_score: 0.8617 - val_loss: 0.6014 - val_iou: 0.5221 - val_pixel_accuracy: 0.8837 - val_dice_score: 0.6852\n",
            "18\n",
            "45/45 [==============================] - ETA: 0s - loss: 0.2414 - iou: 0.7580 - pixel_accuracy: 0.9415 - dice_score: 0.8623IoU: 0.758009672164917 - Pixel Accuracy: 0.9414612054824829 - Dice Score: 0.8622627854347229\n",
            "45/45 [==============================] - 28s 628ms/step - loss: 0.2414 - iou: 0.7580 - pixel_accuracy: 0.9415 - dice_score: 0.8623 - val_loss: 0.7042 - val_iou: 0.4837 - val_pixel_accuracy: 0.8686 - val_dice_score: 0.6511\n",
            "17\n",
            "45/45 [==============================] - ETA: 0s - loss: 0.2394 - iou: 0.7600 - pixel_accuracy: 0.9416 - dice_score: 0.8636IoU: 0.759990930557251 - Pixel Accuracy: 0.9416068196296692 - Dice Score: 0.8635795712471008\n",
            "45/45 [==============================] - 29s 638ms/step - loss: 0.2394 - iou: 0.7600 - pixel_accuracy: 0.9416 - dice_score: 0.8636 - val_loss: 0.7094 - val_iou: 0.4870 - val_pixel_accuracy: 0.8699 - val_dice_score: 0.6539\n",
            "16\n",
            "45/45 [==============================] - ETA: 0s - loss: 0.2371 - iou: 0.7620 - pixel_accuracy: 0.9418 - dice_score: 0.8649IoU: 0.761996865272522 - Pixel Accuracy: 0.9418140053749084 - Dice Score: 0.8648681044578552\n",
            "45/45 [==============================] - 28s 627ms/step - loss: 0.2371 - iou: 0.7620 - pixel_accuracy: 0.9418 - dice_score: 0.8649 - val_loss: 0.6776 - val_iou: 0.5045 - val_pixel_accuracy: 0.8764 - val_dice_score: 0.6696\n",
            "15\n",
            "45/45 [==============================] - ETA: 0s - loss: 0.2371 - iou: 0.7621 - pixel_accuracy: 0.9418 - dice_score: 0.8649IoU: 0.7620869874954224 - Pixel Accuracy: 0.9418190717697144 - Dice Score: 0.8649240136146545\n",
            "45/45 [==============================] - 28s 630ms/step - loss: 0.2371 - iou: 0.7621 - pixel_accuracy: 0.9418 - dice_score: 0.8649 - val_loss: 0.6138 - val_iou: 0.5239 - val_pixel_accuracy: 0.8836 - val_dice_score: 0.6867\n",
            "14\n",
            "45/45 [==============================] - ETA: 0s - loss: 0.2364 - iou: 0.7626 - pixel_accuracy: 0.9418 - dice_score: 0.8653IoU: 0.762630820274353 - Pixel Accuracy: 0.9418061375617981 - Dice Score: 0.8652802109718323\n",
            "45/45 [==============================] - 29s 641ms/step - loss: 0.2364 - iou: 0.7626 - pixel_accuracy: 0.9418 - dice_score: 0.8653 - val_loss: 0.5936 - val_iou: 0.5343 - val_pixel_accuracy: 0.8875 - val_dice_score: 0.6957\n",
            "13\n",
            "45/45 [==============================] - ETA: 0s - loss: 0.2349 - iou: 0.7636 - pixel_accuracy: 0.9419 - dice_score: 0.8659IoU: 0.7636451721191406 - Pixel Accuracy: 0.9418991804122925 - Dice Score: 0.8658996820449829\n",
            "45/45 [==============================] - 29s 653ms/step - loss: 0.2349 - iou: 0.7636 - pixel_accuracy: 0.9419 - dice_score: 0.8659 - val_loss: 0.5311 - val_iou: 0.5604 - val_pixel_accuracy: 0.8966 - val_dice_score: 0.7175\n",
            "12\n",
            "45/45 [==============================] - ETA: 0s - loss: 0.2345 - iou: 0.7634 - pixel_accuracy: 0.9419 - dice_score: 0.8657IoU: 0.7634048461914062 - Pixel Accuracy: 0.9418827295303345 - Dice Score: 0.865747332572937\n",
            "45/45 [==============================] - 28s 628ms/step - loss: 0.2345 - iou: 0.7634 - pixel_accuracy: 0.9419 - dice_score: 0.8657 - val_loss: 0.6115 - val_iou: 0.5268 - val_pixel_accuracy: 0.8851 - val_dice_score: 0.6892\n",
            "11\n",
            "45/45 [==============================] - ETA: 0s - loss: 0.2328 - iou: 0.7657 - pixel_accuracy: 0.9422 - dice_score: 0.8672IoU: 0.7656902074813843 - Pixel Accuracy: 0.9422048926353455 - Dice Score: 0.8672304153442383\n",
            "45/45 [==============================] - 29s 644ms/step - loss: 0.2328 - iou: 0.7657 - pixel_accuracy: 0.9422 - dice_score: 0.8672 - val_loss: 0.5404 - val_iou: 0.5562 - val_pixel_accuracy: 0.8945 - val_dice_score: 0.7141\n",
            "10\n",
            "45/45 [==============================] - ETA: 0s - loss: 0.2308 - iou: 0.7673 - pixel_accuracy: 0.9424 - dice_score: 0.8683IoU: 0.7673342227935791 - Pixel Accuracy: 0.9424260258674622 - Dice Score: 0.8682790398597717\n",
            "45/45 [==============================] - 28s 626ms/step - loss: 0.2308 - iou: 0.7673 - pixel_accuracy: 0.9424 - dice_score: 0.8683 - val_loss: 0.6053 - val_iou: 0.5367 - val_pixel_accuracy: 0.8877 - val_dice_score: 0.6976\n",
            "9\n",
            "45/45 [==============================] - ETA: 0s - loss: 0.2310 - iou: 0.7669 - pixel_accuracy: 0.9422 - dice_score: 0.8680IoU: 0.7669157981872559 - Pixel Accuracy: 0.9421543478965759 - Dice Score: 0.8680285811424255\n",
            "45/45 [==============================] - 29s 646ms/step - loss: 0.2310 - iou: 0.7669 - pixel_accuracy: 0.9422 - dice_score: 0.8680 - val_loss: 0.6520 - val_iou: 0.5200 - val_pixel_accuracy: 0.8822 - val_dice_score: 0.6831\n",
            "8\n",
            "45/45 [==============================] - ETA: 0s - loss: 0.2304 - iou: 0.7665 - pixel_accuracy: 0.9423 - dice_score: 0.8678IoU: 0.7665407657623291 - Pixel Accuracy: 0.9423398375511169 - Dice Score: 0.8677663803100586\n",
            "45/45 [==============================] - 29s 639ms/step - loss: 0.2304 - iou: 0.7665 - pixel_accuracy: 0.9423 - dice_score: 0.8678 - val_loss: 0.6254 - val_iou: 0.5304 - val_pixel_accuracy: 0.8856 - val_dice_score: 0.6921\n",
            "7\n",
            "45/45 [==============================] - ETA: 0s - loss: 0.2296 - iou: 0.7680 - pixel_accuracy: 0.9424 - dice_score: 0.8687IoU: 0.7680318355560303 - Pixel Accuracy: 0.9424436092376709 - Dice Score: 0.8687220215797424\n",
            "45/45 [==============================] - 31s 696ms/step - loss: 0.2296 - iou: 0.7680 - pixel_accuracy: 0.9424 - dice_score: 0.8687 - val_loss: 0.5200 - val_iou: 0.5788 - val_pixel_accuracy: 0.9011 - val_dice_score: 0.7325\n",
            "6\n",
            "45/45 [==============================] - ETA: 0s - loss: 0.2262 - iou: 0.7708 - pixel_accuracy: 0.9426 - dice_score: 0.8705IoU: 0.7708331346511841 - Pixel Accuracy: 0.9426321983337402 - Dice Score: 0.8705378174781799\n",
            "45/45 [==============================] - 28s 632ms/step - loss: 0.2262 - iou: 0.7708 - pixel_accuracy: 0.9426 - dice_score: 0.8705 - val_loss: 0.6098 - val_iou: 0.5369 - val_pixel_accuracy: 0.8880 - val_dice_score: 0.6977\n",
            "5\n",
            "45/45 [==============================] - ETA: 0s - loss: 0.2258 - iou: 0.7713 - pixel_accuracy: 0.9427 - dice_score: 0.8709IoU: 0.7713281512260437 - Pixel Accuracy: 0.9426760077476501 - Dice Score: 0.8708536624908447\n",
            "45/45 [==============================] - 29s 642ms/step - loss: 0.2258 - iou: 0.7713 - pixel_accuracy: 0.9427 - dice_score: 0.8709 - val_loss: 0.5839 - val_iou: 0.5402 - val_pixel_accuracy: 0.8896 - val_dice_score: 0.7007\n",
            "4\n",
            "45/45 [==============================] - ETA: 0s - loss: 0.2262 - iou: 0.7712 - pixel_accuracy: 0.9427 - dice_score: 0.8708IoU: 0.7712466716766357 - Pixel Accuracy: 0.9426775574684143 - Dice Score: 0.870782196521759\n",
            "45/45 [==============================] - 29s 640ms/step - loss: 0.2262 - iou: 0.7712 - pixel_accuracy: 0.9427 - dice_score: 0.8708 - val_loss: 0.5670 - val_iou: 0.5516 - val_pixel_accuracy: 0.8935 - val_dice_score: 0.7100\n",
            "3\n",
            "45/45 [==============================] - ETA: 0s - loss: 0.2255 - iou: 0.7711 - pixel_accuracy: 0.9428 - dice_score: 0.8707IoU: 0.7711471319198608 - Pixel Accuracy: 0.9428028464317322 - Dice Score: 0.8707106113433838\n",
            "45/45 [==============================] - 29s 640ms/step - loss: 0.2255 - iou: 0.7711 - pixel_accuracy: 0.9428 - dice_score: 0.8707 - val_loss: 0.6046 - val_iou: 0.5452 - val_pixel_accuracy: 0.8908 - val_dice_score: 0.7046\n",
            "2\n",
            "45/45 [==============================] - ETA: 0s - loss: 0.2245 - iou: 0.7726 - pixel_accuracy: 0.9429 - dice_score: 0.8717IoU: 0.7726075053215027 - Pixel Accuracy: 0.9428548812866211 - Dice Score: 0.8716627955436707\n",
            "45/45 [==============================] - 28s 626ms/step - loss: 0.2245 - iou: 0.7726 - pixel_accuracy: 0.9429 - dice_score: 0.8717 - val_loss: 0.6238 - val_iou: 0.5347 - val_pixel_accuracy: 0.8870 - val_dice_score: 0.6958\n",
            "1\n",
            "45/45 [==============================] - ETA: 0s - loss: 0.2224 - iou: 0.7740 - pixel_accuracy: 0.9431 - dice_score: 0.8726IoU: 0.7740147113800049 - Pixel Accuracy: 0.9430579543113708 - Dice Score: 0.87257319688797\n",
            "45/45 [==============================] - 32s 703ms/step - loss: 0.2224 - iou: 0.7740 - pixel_accuracy: 0.9431 - dice_score: 0.8726 - val_loss: 0.4599 - val_iou: 0.6121 - val_pixel_accuracy: 0.9100 - val_dice_score: 0.7587\n",
            "0\n"
          ]
        }
      ]
    },
    {
      "cell_type": "code",
      "source": [
        "history = all_history"
      ],
      "metadata": {
        "id": "G8uoC482yb2G"
      },
      "execution_count": null,
      "outputs": []
    },
    {
      "cell_type": "code",
      "source": [],
      "metadata": {
        "colab": {
          "base_uri": "https://localhost:8080/"
        },
        "id": "2sYRAuAgyjmN",
        "outputId": "acd21b92-8ee3-4eb3-c660-94c253911347"
      },
      "execution_count": null,
      "outputs": [
        {
          "output_type": "stream",
          "name": "stdout",
          "text": [
            "<keras.src.callbacks.History object at 0x7dccbb6d6e90>\n"
          ]
        }
      ]
    },
    {
      "cell_type": "code",
      "source": [
        "import matplotlib.pyplot as plt\n",
        "import pandas as pd\n",
        "\n",
        "# Создание пустых списков для сохранения значений метрик\n",
        "loss = []\n",
        "val_loss = []\n",
        "iou = []\n",
        "pixel_accuracy = []\n",
        "dice_score = []\n",
        "\n",
        "# Объединение значений метрик из всех историй\n",
        "for h in history:\n",
        "    loss.extend(h.history['loss'])\n",
        "    val_loss.extend(h.history['val_loss'])\n",
        "    iou.extend(h.history['iou'])\n",
        "    pixel_accuracy.extend(h.history['pixel_accuracy'])\n",
        "    dice_score.extend(h.history['dice_score'])\n",
        "\n",
        "# Построение графика функции потерь\n",
        "plt.plot(loss, label='Training Loss')\n",
        "plt.plot(val_loss, label='Validation Loss')\n",
        "plt.title('Loss')\n",
        "plt.xlabel('Epoch')\n",
        "plt.ylabel('Loss')\n",
        "plt.legend()\n",
        "plt.show()\n",
        "\n",
        "# Создание таблицы с метриками\n",
        "metrics_df = pd.DataFrame({'IoU': iou, 'Pixel Accuracy': pixel_accuracy, 'Dice Score': dice_score})\n",
        "metrics_df.index.name = 'Epoch'\n",
        "print(metrics_df)"
      ],
      "metadata": {
        "colab": {
          "base_uri": "https://localhost:8080/",
          "height": 732
        },
        "id": "p1rYtyGxy0Wp",
        "outputId": "9124bd04-6b88-4ee3-ff44-b526ba0adb10"
      },
      "execution_count": null,
      "outputs": [
        {
          "output_type": "display_data",
          "data": {
            "text/plain": [
              "<Figure size 640x480 with 1 Axes>"
            ],
            "image/png": "[encoded data removed]"
          },
          "metadata": {}
        },
        {
          "output_type": "stream",
          "name": "stdout",
          "text": [
            "            IoU  Pixel Accuracy  Dice Score\n",
            "Epoch                                      \n",
            "0      0.105300        0.586249    0.189838\n",
            "1      0.223051        0.772479    0.361944\n",
            "2      0.271042        0.805755    0.425691\n",
            "3      0.283575        0.813427    0.440784\n",
            "4      0.293672        0.819062    0.453487\n",
            "...         ...             ...         ...\n",
            "95     0.771328        0.942676    0.870854\n",
            "96     0.771247        0.942678    0.870782\n",
            "97     0.771147        0.942803    0.870711\n",
            "98     0.772608        0.942855    0.871663\n",
            "99     0.774015        0.943058    0.872573\n",
            "\n",
            "[100 rows x 3 columns]\n"
          ]
        }
      ]
    },
    {
      "cell_type": "code",
      "execution_count": null,
      "outputs": [
        {
          "output_type": "error",
          "ename": "AttributeError",
          "evalue": "ignored",
          "traceback": [
            "\u001b[0;31m---------------------------------------------------------------------------\u001b[0m",
            "\u001b[0;31mAttributeError\u001b[0m                            Traceback (most recent call last)",
            "\u001b[0;32m<ipython-input-36-8115362958d0>\u001b[0m in \u001b[0;36m<cell line: 4>\u001b[0;34m()\u001b[0m\n\u001b[1;32m      2\u001b[0m \u001b[0;32mimport\u001b[0m \u001b[0mpandas\u001b[0m \u001b[0;32mas\u001b[0m \u001b[0mpd\u001b[0m\u001b[0;34m\u001b[0m\u001b[0;34m\u001b[0m\u001b[0m\n\u001b[1;32m      3\u001b[0m \u001b[0;31m# Получение данных обучения из объекта history\u001b[0m\u001b[0;34m\u001b[0m\u001b[0;34m\u001b[0m\u001b[0m\n\u001b[0;32m----> 4\u001b[0;31m \u001b[0mloss\u001b[0m \u001b[0;34m=\u001b[0m \u001b[0mhistory\u001b[0m\u001b[0;34m.\u001b[0m\u001b[0mhistory\u001b[0m\u001b[0;34m[\u001b[0m\u001b[0;34m'loss'\u001b[0m\u001b[0;34m]\u001b[0m\u001b[0;34m\u001b[0m\u001b[0;34m\u001b[0m\u001b[0m\n\u001b[0m\u001b[1;32m      5\u001b[0m \u001b[0mval_loss\u001b[0m \u001b[0;34m=\u001b[0m \u001b[0mhistory\u001b[0m\u001b[0;34m.\u001b[0m\u001b[0mhistory\u001b[0m\u001b[0;34m[\u001b[0m\u001b[0;34m'val_loss'\u001b[0m\u001b[0;34m]\u001b[0m\u001b[0;34m\u001b[0m\u001b[0;34m\u001b[0m\u001b[0m\n\u001b[1;32m      6\u001b[0m \u001b[0miou\u001b[0m \u001b[0;34m=\u001b[0m \u001b[0mhistory\u001b[0m\u001b[0;34m.\u001b[0m\u001b[0mhistory\u001b[0m\u001b[0;34m[\u001b[0m\u001b[0;34m'iou'\u001b[0m\u001b[0;34m]\u001b[0m\u001b[0;34m\u001b[0m\u001b[0;34m\u001b[0m\u001b[0m\n",
            "\u001b[0;31mAttributeError\u001b[0m: 'list' object has no attribute 'history'"
          ]
        }
      ],
      "source": [],
      "metadata": {
        "ExecuteTime": {
          "end_time": "2023-12-09T17:38:00.973208048Z",
          "start_time": "2023-12-09T17:38:00.083543866Z"
        },
        "colab": {
          "base_uri": "https://localhost:8080/",
          "height": 245
        },
        "id": "VwEMo-3P-B7F",
        "outputId": "c0c175c3-fc0f-43ba-d0da-21b3bb1ea83a"
      }
    },
    {
      "cell_type": "code",
      "source": [
        "# Построение графика метрик\n",
        "epochs = range(1, 100 + 1)\n",
        "plt.plot(epochs, iou, label='IoU')\n",
        "plt.plot(epochs, pixel_accuracy, label='Pixel Accuracy')\n",
        "plt.plot(epochs, dice_score, label='Dice Score')\n",
        "plt.title('Metrics')\n",
        "plt.xlabel('Epoch')\n",
        "plt.ylabel('Value')\n",
        "plt.legend()\n",
        "plt.show()"
      ],
      "metadata": {
        "colab": {
          "base_uri": "https://localhost:8080/",
          "height": 472
        },
        "id": "JJ2oOfUC-Prc",
        "outputId": "6eec4001-7c08-42c6-e464-fd2cadd69279"
      },
      "execution_count": null,
      "outputs": [
        {
          "output_type": "display_data",
          "data": {
            "text/plain": [
              "<Figure size 640x480 with 1 Axes>"
            ],
            "image/png": "[encoded data removed]"
          },
          "metadata": {}
        }
      ]
    },
    {
      "cell_type": "code",
      "source": [
        "# Создание таблицы с метриками каждые 3 эпохи\n",
        "metrics_df = pd.DataFrame({'IoU': [], 'Pixel Accuracy': [], 'Dice Score': []})\n",
        "\n",
        "for epoch in range(0, 100, 10):\n",
        "    metrics_df.loc[epoch] = [iou[epoch], pixel_accuracy[epoch], dice_score[epoch]]\n",
        "\n",
        "print(metrics_df)"
      ],
      "metadata": {
        "colab": {
          "base_uri": "https://localhost:8080/"
        },
        "id": "qI-a0-Ca9ucJ",
        "outputId": "84341a58-9bd4-44d3-ed9b-462a24ffc113"
      },
      "execution_count": null,
      "outputs": [
        {
          "output_type": "stream",
          "name": "stdout",
          "text": [
            "         IoU  Pixel Accuracy  Dice Score\n",
            "0   0.105300        0.586249    0.189838\n",
            "10  0.464654        0.889480    0.633862\n",
            "20  0.593030        0.918784    0.744236\n",
            "30  0.641968        0.926511    0.781760\n",
            "40  0.680019        0.931980    0.809387\n",
            "50  0.710393        0.935988    0.830538\n",
            "60  0.729912        0.938400    0.843781\n",
            "70  0.743636        0.939771    0.852916\n",
            "80  0.757063        0.941344    0.861647\n",
            "90  0.767334        0.942426    0.868279\n"
          ]
        }
      ]
    },
    {
      "cell_type": "code",
      "source": [],
      "metadata": {
        "id": "B6EofBcEmN83"
      },
      "execution_count": null,
      "outputs": []
    },
    {
      "cell_type": "code",
      "execution_count": null,
      "outputs": [],
      "source": [
        "tf.saved_model.save(model, 'model')"
      ],
      "metadata": {
        "ExecuteTime": {
          "end_time": "2023-12-05T12:22:13.334078559Z",
          "start_time": "2023-12-05T12:22:07.128811572Z"
        },
        "id": "J3cGg8Je-B7G"
      }
    },
    {
      "cell_type": "code",
      "execution_count": null,
      "outputs": [
        {
          "output_type": "stream",
          "name": "stdout",
          "text": [
            "4/4 [==============================] - 44s 6s/step\n"
          ]
        }
      ],
      "source": [
        "result = model.predict(test_images)"
      ],
      "metadata": {
        "ExecuteTime": {
          "end_time": "2023-12-09T17:21:09.076499758Z",
          "start_time": "2023-12-09T17:20:40.641542787Z"
        },
        "colab": {
          "base_uri": "https://localhost:8080/"
        },
        "id": "w29aoheE-B7G",
        "outputId": "ba1ddfe3-9677-4f22-e6fb-d7beb642164c"
      }
    },
    {
      "cell_type": "code",
      "execution_count": null,
      "outputs": [
        {
          "output_type": "stream",
          "name": "stdout",
          "text": [
            "[[[1.3344333e-02]\n",
            "  [2.5748634e-03]\n",
            "  [1.2387136e-03]\n",
            "  ...\n",
            "  [2.1952183e-03]\n",
            "  [4.3941741e-03]\n",
            "  [2.1708895e-02]]\n",
            "\n",
            " [[3.5727965e-03]\n",
            "  [4.1680312e-04]\n",
            "  [1.3672413e-04]\n",
            "  ...\n",
            "  [3.0592064e-04]\n",
            "  [6.8060268e-04]\n",
            "  [5.8614914e-03]]\n",
            "\n",
            " [[1.6380777e-03]\n",
            "  [1.2944789e-04]\n",
            "  [3.4729404e-05]\n",
            "  ...\n",
            "  [8.9844543e-05]\n",
            "  [2.3991117e-04]\n",
            "  [3.1439732e-03]]\n",
            "\n",
            " ...\n",
            "\n",
            " [[1.6182053e-03]\n",
            "  [1.3395886e-04]\n",
            "  [3.6313464e-05]\n",
            "  ...\n",
            "  [6.2249936e-05]\n",
            "  [1.8209155e-04]\n",
            "  [2.3892045e-03]]\n",
            "\n",
            " [[4.7829808e-03]\n",
            "  [6.2261731e-04]\n",
            "  [2.8621513e-04]\n",
            "  ...\n",
            "  [3.2782642e-04]\n",
            "  [9.8241039e-04]\n",
            "  [5.8814590e-03]]\n",
            "\n",
            " [[2.2693664e-02]\n",
            "  [6.3016918e-03]\n",
            "  [2.8783632e-03]\n",
            "  ...\n",
            "  [4.7201253e-03]\n",
            "  [6.5901051e-03]\n",
            "  [2.7630907e-02]]]\n"
          ]
        }
      ],
      "source": [
        "print(result[0])"
      ],
      "metadata": {
        "ExecuteTime": {
          "end_time": "2023-12-09T17:21:53.495200530Z",
          "start_time": "2023-12-09T17:21:53.465913659Z"
        },
        "colab": {
          "base_uri": "https://localhost:8080/"
        },
        "id": "zghLwt6l-B7H",
        "outputId": "8467e8a0-47ed-4192-8adb-0768e6e4423d"
      }
    },
    {
      "cell_type": "code",
      "execution_count": null,
      "outputs": [],
      "source": [
        "from PIL import Image\n",
        "import numpy as np\n",
        "\n",
        "# Предположим, что результат предсказания модели содержит вероятности пикселей для каждого класса\n",
        "# Размерность результатов предсказания: (batch_size, HEIGHT, WIDTH, num_classes)\n",
        "\n",
        "# Предположим, что результат предсказания модели содержит вероятности пикселей для каждого класса\n",
        "# Размерность результатов предсказания: (batch_size, HEIGHT, WIDTH, num_classes)\n",
        "num_classes = 7  # Количество классов (6 классов + 1 класс \"ничего\")\n",
        "  # Порог для принятия решения о наличии объекта на пикселе\n",
        "# Преобразование результатов предсказания в маски с максимальными значениями классов\n",
        "part = 100\n",
        "predicted_masks = result[:part]\n",
        "threshold = 1.5 * np.mean(result)\n",
        "# true_masks = test_masks\n",
        "# Создание палитры цветов для каждого класса\n",
        "palette = [\n",
        "    (0, 0, 0),  # Класс \"ничего\" (черный цвет)\n",
        "    (255, 0, 0),  # Класс 1 (красный цвет)\n",
        "    (0, 255, 0),  # Класс 2 (зеленый цвет)\n",
        "    (0, 0, 255),  # Класс 3 (синий цвет)\n",
        "    (255, 255, 0),  # Класс 4 (желтый цвет)\n",
        "    (255, 0, 255),  # Класс 5 (пурпурный цвет)\n",
        "    (0, 255, 255),  # Класс 6 (бирюзовый цвет)\n",
        "    (255, 255, 255)\n",
        "]\n",
        "#\n",
        "# Создание изображений для каждого предсказанного класса\n",
        "for i in range(min(predicted_masks.shape[0], part)):\n",
        "    image = Image.new(\"RGB\",\n",
        "                      (\n",
        "                          WIDTH, HEIGHT\n",
        "                      )\n",
        "                      )\n",
        "    true = Image.new(\"RGB\",\n",
        "                      (\n",
        "                          WIDTH, HEIGHT\n",
        "                      )\n",
        "                      )\n",
        "    # true_mask = Image.new(\"RGB\",\n",
        "    #                   (\n",
        "    #                       WIDTH, HEIGHT\n",
        "    #                   )\n",
        "    #                   )\n",
        "    for y in range(\n",
        "            HEIGHT\n",
        "    ):\n",
        "        for x in range(\n",
        "                WIDTH\n",
        "        ):\n",
        "            if predicted_masks[i][y][x] >= threshold:\n",
        "                class_index = 7\n",
        "            else:\n",
        "                class_index = 0\n",
        "            # val = predicted_masks[i][x][y]\n",
        "            image.putpixel((x, y), palette[class_index])  #(int(val * 255), int(val * 255), int(val * 255)))\n",
        "            val = test_masks[i][y][x]\n",
        "            true.putpixel((x,y), (int(255 * val), int(255 * val), int(255 * val)))\n",
        "            # if true_masks[i][y][x] >= threshold:\n",
        "            #     true_mask.putpixel((x, y), palette[7])\n",
        "            # else:\n",
        "            #     true_mask.putpixel((x, y), palette[0])\n",
        "    image.save(f\"result/predicted_image_{i}.png\")\n",
        "    true.save(f\"result/predicted_image_{i}_true.png\")\n",
        "\n",
        "    # true_mask.save(f\"result_small_5/predicted_image_{i}_true.png\")\n",
        "\n"
      ],
      "metadata": {
        "ExecuteTime": {
          "end_time": "2023-12-09T17:22:22.430266493Z",
          "start_time": "2023-12-09T17:22:00.891265460Z"
        },
        "id": "CFWDLO-2-B7H"
      }
    },
    {
      "cell_type": "markdown",
      "source": [],
      "metadata": {
        "collapsed": false,
        "id": "yy4Gldre-B7H"
      }
    },
    {
      "cell_type": "code",
      "execution_count": null,
      "outputs": [],
      "source": [],
      "metadata": {
        "id": "gBVsmG4a-B7H"
      }
    },
    {
      "cell_type": "code",
      "execution_count": null,
      "outputs": [],
      "source": [
        "print(test_masks[0])"
      ],
      "metadata": {
        "id": "RR3PBXUM-B7H"
      }
    },
    {
      "cell_type": "code",
      "execution_count": null,
      "outputs": [],
      "source": [],
      "metadata": {
        "id": "AcNx8--i-B7I"
      }
    }
  ],
  "metadata": {
    "kernelspec": {
      "display_name": "Python 3",
      "name": "python3"
    },
    "language_info": {
      "codemirror_mode": {
        "name": "ipython",
        "version": 2
      },
      "file_extension": ".py",
      "mimetype": "text/x-python",
      "name": "python",
      "nbconvert_exporter": "python",
      "pygments_lexer": "ipython2",
      "version": "2.7.6"
    },
    "colab": {
      "provenance": [],
      "gpuType": "T4",
      "toc_visible": true
    },
    "accelerator": "GPU"
  },
  "nbformat": 4,
  "nbformat_minor": 0
}