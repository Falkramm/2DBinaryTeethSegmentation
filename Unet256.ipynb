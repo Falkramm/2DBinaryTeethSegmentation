{
 "cells": [
  {
   "cell_type": "code",
   "execution_count": 1,
   "metadata": {
    "collapsed": true,
    "ExecuteTime": {
     "end_time": "2023-12-09T17:11:43.138078349Z",
     "start_time": "2023-12-09T17:11:39.637331338Z"
    }
   },
   "outputs": [
    {
     "name": "stderr",
     "output_type": "stream",
     "text": [
      "2023-12-09 20:11:40.123091: E external/local_xla/xla/stream_executor/cuda/cuda_dnn.cc:9261] Unable to register cuDNN factory: Attempting to register factory for plugin cuDNN when one has already been registered\n",
      "2023-12-09 20:11:40.123128: E external/local_xla/xla/stream_executor/cuda/cuda_fft.cc:607] Unable to register cuFFT factory: Attempting to register factory for plugin cuFFT when one has already been registered\n",
      "2023-12-09 20:11:40.124602: E external/local_xla/xla/stream_executor/cuda/cuda_blas.cc:1515] Unable to register cuBLAS factory: Attempting to register factory for plugin cuBLAS when one has already been registered\n",
      "2023-12-09 20:11:40.132402: I tensorflow/core/platform/cpu_feature_guard.cc:182] This TensorFlow binary is optimized to use available CPU instructions in performance-critical operations.\n",
      "To enable the following instructions: AVX2 FMA, in other operations, rebuild TensorFlow with the appropriate compiler flags.\n",
      "2023-12-09 20:11:41.146950: W tensorflow/compiler/tf2tensorrt/utils/py_utils.cc:38] TF-TRT Warning: Could not find TensorRT\n"
     ]
    }
   ],
   "source": [
    "import tensorflow as tf\n",
    "import pandas as pd\n",
    "from PIL import Image\n",
    "import numpy as np\n",
    "import zipfile\n",
    "import os\n",
    "import glob\n",
    "import random\n",
    "import sys\n",
    "\n",
    "import skimage.io  #Used for imshow function\n",
    "import skimage.transform  #Used for resize function\n",
    "from skimage.morphology import label  #Used for Run-Length-Encoding RLE to create final submission\n",
    "import matplotlib.pyplot as plt\n",
    "\n",
    "from tensorflow.keras import *\n",
    "from tensorflow.keras.layers import *\n",
    "from tensorflow.keras.models import Model\n",
    "from tensorflow.keras import backend as K\n",
    "from tensorflow.keras.callbacks import LearningRateScheduler, ModelCheckpoint, EarlyStopping, ReduceLROnPlateau\n",
    "from tensorflow.keras.preprocessing.image import ImageDataGenerator\n",
    "from sklearn.model_selection import train_test_split"
   ]
  },
  {
   "cell_type": "code",
   "execution_count": 1,
   "outputs": [],
   "source": [],
   "metadata": {
    "collapsed": false,
    "ExecuteTime": {
     "end_time": "2023-12-09T17:11:43.151142392Z",
     "start_time": "2023-12-09T17:11:43.140617603Z"
    }
   }
  },
  {
   "cell_type": "code",
   "execution_count": 65,
   "outputs": [],
   "source": [
    "# Загрузка данных\n",
    "data_dir = 'data/data_256/'\n",
    "images_dir = 'images/'\n",
    "masks_dir = 'masks/'\n",
    "WIDTH = 256\n",
    "HEIGHT = 256\n",
    "CLASSES = 2"
   ],
   "metadata": {
    "collapsed": false,
    "ExecuteTime": {
     "end_time": "2023-12-09T17:31:45.369811060Z",
     "start_time": "2023-12-09T17:31:45.328125675Z"
    }
   }
  },
  {
   "cell_type": "code",
   "execution_count": 66,
   "outputs": [],
   "source": [
    "# def resize_rectangle(rect, orig_size = (2444, 1292), new_size=(WIDTH, HEIGHT)):\n",
    "#     orig_width = orig_size[0]\n",
    "#     orig_height = orig_size[1]\n",
    "#     new_width = new_size[0]\n",
    "#     new_height = new_size[1]w\n",
    "# \n",
    "#     xmin, ymin, xmax, ymax = rect\n",
    "# \n",
    "#     # Вычисляем масштабные коэффициенты для изменения размера\n",
    "#     width_scale = new_width / 1. /orig_width\n",
    "#     height_scale = new_height / 1. /orig_height\n",
    "# \n",
    "#     # Пересчитываем координаты прямоугольника\n",
    "#     new_xmin = int(xmin * width_scale)\n",
    "#     new_ymin = int(ymin * height_scale)\n",
    "#     new_xmax = int(xmax * width_scale)\n",
    "#     new_ymax = int(ymax * height_scale)\n",
    "# \n",
    "#     return new_xmin, new_ymin, new_xmax, new_ymax\n"
   ],
   "metadata": {
    "collapsed": false,
    "ExecuteTime": {
     "end_time": "2023-12-09T17:31:45.628546648Z",
     "start_time": "2023-12-09T17:31:45.624481891Z"
    }
   }
  },
  {
   "cell_type": "code",
   "execution_count": 67,
   "outputs": [],
   "source": [
    "import os\n",
    "from PIL import Image\n",
    "import numpy as np\n",
    "\n",
    "\n",
    "def load_image(image_path):\n",
    "    image = Image.open(data_dir + images_dir + image_path)  #.convert('L')  # Преобразуем в оттенки серого\n",
    "    return np.array(image)\n",
    "\n",
    "\n",
    "def load_mask(mask_path):\n",
    "    mask = Image.open(data_dir + masks_dir + mask_path).convert('L')  # Преобразуем в оттенки серого\n",
    "    mask_array = np.array(mask)\n",
    "    mask_float = mask_array.astype(float) / 255.0  # Преобразуем в тип float и нормализуем значения до диапазона [0, 1]\n",
    "    return mask_float\n"
   ],
   "metadata": {
    "collapsed": false,
    "ExecuteTime": {
     "end_time": "2023-12-09T17:31:46.144671869Z",
     "start_time": "2023-12-09T17:31:46.134829810Z"
    }
   }
  },
  {
   "cell_type": "code",
   "execution_count": 68,
   "outputs": [],
   "source": [
    "# # Подготовка данных\n",
    "image_paths = sorted(os.listdir(data_dir + images_dir))"
   ],
   "metadata": {
    "collapsed": false,
    "ExecuteTime": {
     "end_time": "2023-12-09T17:31:47.063987100Z",
     "start_time": "2023-12-09T17:31:47.056756986Z"
    }
   }
  },
  {
   "cell_type": "code",
   "execution_count": 69,
   "outputs": [
    {
     "name": "stdout",
     "output_type": "stream",
     "text": [
      "['1.png', '10.png', '100.png', '101.png', '102.png', '103.png', '104.png', '105.png', '106.png', '107.png', '108.png', '109.png', '11.png', '110.png', '111.png', '112.png', '113.png', '114.png', '115.png', '116.png', '117.png', '118.png', '119.png', '12.png', '120.png', '121.png', '122.png', '123.png', '124.png', '125.png', '126.png', '127.png', '128.png', '129.png', '13.png', '130.png', '131.png', '132.png', '133.png', '134.png', '135.png', '136.png', '137.png', '138.png', '139.png', '14.png', '140.png', '141.png', '142.png', '143.png', '144.png', '145.png', '146.png', '147.png', '148.png', '149.png', '15.png', '150.png', '151.png', '152.png', '153.png', '154.png', '155.png', '156.png', '157.png', '158.png', '159.png', '16.png', '160.png', '161.png', '162.png', '163.png', '164.png', '165.png', '166.png', '167.png', '168.png', '169.png', '17.png', '170.png', '171.png', '172.png', '173.png', '174.png', '175.png', '176.png', '177.png', '178.png', '179.png', '18.png', '180.png', '181.png', '182.png', '183.png', '184.png', '185.png', '186.png', '187.png', '188.png', '189.png', '19.png', '190.png', '191.png', '192.png', '193.png', '194.png', '195.png', '196.png', '197.png', '198.png', '199.png', '2.png', '20.png', '200.png', '201.png', '202.png', '203.png', '204.png', '205.png', '206.png', '207.png', '208.png', '209.png', '21.png', '210.png', '211.png', '212.png', '213.png', '214.png', '215.png', '216.png', '217.png', '218.png', '219.png', '22.png', '220.png', '221.png', '222.png', '223.png', '224.png', '225.png', '226.png', '227.png', '228.png', '229.png', '23.png', '230.png', '231.png', '232.png', '233.png', '234.png', '235.png', '236.png', '237.png', '238.png', '239.png', '24.png', '240.png', '241.png', '242.png', '243.png', '244.png', '245.png', '246.png', '247.png', '248.png', '249.png', '25.png', '250.png', '251.png', '252.png', '253.png', '254.png', '255.png', '256.png', '257.png', '258.png', '259.png', '26.png', '260.png', '261.png', '262.png', '263.png', '264.png', '265.png', '266.png', '267.png', '268.png', '269.png', '27.png', '270.png', '271.png', '272.png', '273.png', '274.png', '275.png', '276.png', '277.png', '278.png', '279.png', '28.png', '280.png', '281.png', '282.png', '283.png', '284.png', '285.png', '286.png', '287.png', '288.png', '289.png', '29.png', '290.png', '291.png', '292.png', '293.png', '294.png', '295.png', '296.png', '297.png', '298.png', '299.png', '3.png', '30.png', '300.png', '301.png', '302.png', '303.png', '304.png', '305.png', '306.png', '307.png', '308.png', '309.png', '31.png', '310.png', '311.png', '312.png', '313.png', '314.png', '315.png', '316.png', '317.png', '318.png', '319.png', '32.png', '320.png', '321.png', '322.png', '323.png', '324.png', '325.png', '326.png', '327.png', '328.png', '329.png', '33.png', '330.png', '331.png', '332.png', '333.png', '334.png', '335.png', '336.png', '337.png', '338.png', '339.png', '34.png', '340.png', '341.png', '342.png', '343.png', '344.png', '345.png', '346.png', '347.png', '348.png', '349.png', '35.png', '350.png', '351.png', '352.png', '353.png', '354.png', '355.png', '356.png', '357.png', '358.png', '359.png', '36.png', '360.png', '361.png', '362.png', '363.png', '364.png', '365.png', '366.png', '367.png', '368.png', '369.png', '37.png', '370.png', '371.png', '372.png', '373.png', '374.png', '375.png', '376.png', '377.png', '378.png', '379.png', '38.png', '380.png', '381.png', '382.png', '383.png', '384.png', '385.png', '386.png', '387.png', '388.png', '389.png', '39.png', '390.png', '391.png', '392.png', '393.png', '394.png', '395.png', '396.png', '397.png', '398.png', '399.png', '4.png', '40.png', '400.png', '401.png', '402.png', '403.png', '404.png', '405.png', '406.png', '407.png', '408.png', '409.png', '41.png', '410.png', '411.png', '412.png', '413.png', '414.png', '415.png', '416.png', '417.png', '418.png', '419.png', '42.png', '420.png', '421.png', '422.png', '423.png', '424.png', '425.png', '426.png', '427.png', '428.png', '429.png', '43.png', '430.png', '431.png', '432.png', '433.png', '434.png', '435.png', '436.png', '437.png', '438.png', '439.png', '44.png', '440.png', '441.png', '442.png', '443.png', '444.png', '445.png', '446.png', '447.png', '448.png', '449.png', '45.png', '450.png', '451.png', '452.png', '453.png', '454.png', '455.png', '456.png', '457.png', '458.png', '459.png', '46.png', '460.png', '461.png', '462.png', '463.png', '464.png', '465.png', '466.png', '467.png', '468.png', '469.png', '47.png', '470.png', '471.png', '472.png', '473.png', '474.png', '475.png', '476.png', '477.png', '478.png', '479.png', '48.png', '480.png', '481.png', '482.png', '483.png', '484.png', '485.png', '486.png', '487.png', '488.png', '489.png', '49.png', '490.png', '491.png', '492.png', '493.png', '494.png', '495.png', '496.png', '497.png', '498.png', '499.png', '5.png', '50.png', '500.png', '501.png', '502.png', '503.png', '504.png', '505.png', '506.png', '507.png', '508.png', '509.png', '51.png', '510.png', '511.png', '512.png', '513.png', '514.png', '515.png', '516.png', '517.png', '518.png', '519.png', '52.png', '520.png', '521.png', '522.png', '523.png', '524.png', '525.png', '526.png', '527.png', '528.png', '529.png', '53.png', '530.png', '531.png', '532.png', '533.png', '534.png', '535.png', '536.png', '537.png', '538.png', '539.png', '54.png', '540.png', '541.png', '542.png', '543.png', '544.png', '545.png', '546.png', '547.png', '548.png', '549.png', '55.png', '550.png', '551.png', '552.png', '553.png', '554.png', '555.png', '556.png', '557.png', '558.png', '559.png', '56.png', '560.png', '561.png', '562.png', '563.png', '564.png', '565.png', '566.png', '567.png', '568.png', '569.png', '57.png', '570.png', '571.png', '572.png', '573.png', '574.png', '575.png', '576.png', '577.png', '578.png', '579.png', '58.png', '580.png', '581.png', '582.png', '583.png', '584.png', '585.png', '586.png', '587.png', '588.png', '589.png', '59.png', '590.png', '591.png', '592.png', '593.png', '594.png', '595.png', '596.png', '597.png', '598.png', '6.png', '60.png', '61.png', '62.png', '63.png', '64.png', '65.png', '66.png', '67.png', '68.png', '69.png', '7.png', '70.png', '71.png', '72.png', '73.png', '74.png', '75.png', '76.png', '77.png', '78.png', '79.png', '8.png', '80.png', '81.png', '82.png', '83.png', '84.png', '85.png', '86.png', '87.png', '88.png', '89.png', '9.png', '90.png', '91.png', '92.png', '93.png', '94.png', '95.png', '96.png', '97.png', '98.png', '99.png']\n"
     ]
    }
   ],
   "source": [
    "print(image_paths)"
   ],
   "metadata": {
    "collapsed": false,
    "ExecuteTime": {
     "end_time": "2023-12-09T17:31:47.541603893Z",
     "start_time": "2023-12-09T17:31:47.537787767Z"
    }
   }
  },
  {
   "cell_type": "code",
   "execution_count": 70,
   "outputs": [
    {
     "name": "stdout",
     "output_type": "stream",
     "text": [
      "Train samples: 358\n",
      "Valid samples: 120\n",
      "Test samples: 120\n"
     ]
    }
   ],
   "source": [
    "from sklearn.model_selection import train_test_split\n",
    "\n",
    "# Разделение данных на обучающую, валидационную и тестовую выборки\n",
    "train_paths, test_paths = train_test_split(image_paths, test_size=0.2, random_state=42)\n",
    "train_paths, valid_paths = train_test_split(train_paths, test_size=0.25, random_state=42)  # 0.25 * 0.8 = 0.2\n",
    "\n",
    "# Проверка размеров выборок\n",
    "print(\"Train samples:\", len(train_paths))\n",
    "print(\"Valid samples:\", len(valid_paths))\n",
    "print(\"Test samples:\", len(test_paths))"
   ],
   "metadata": {
    "collapsed": false,
    "ExecuteTime": {
     "end_time": "2023-12-09T17:31:50.734029077Z",
     "start_time": "2023-12-09T17:31:50.711396595Z"
    }
   }
  },
  {
   "cell_type": "code",
   "execution_count": 71,
   "outputs": [],
   "source": [
    "train_images = [load_image(image_path) for image_path in train_paths]\n",
    "train_masks = [load_mask(mask_path) for mask_path in train_paths]\n",
    "train_images = np.array(train_images)\n",
    "train_masks = np.array(train_masks)"
   ],
   "metadata": {
    "collapsed": false,
    "ExecuteTime": {
     "end_time": "2023-12-09T17:31:51.949852051Z",
     "start_time": "2023-12-09T17:31:51.037635672Z"
    }
   }
  },
  {
   "cell_type": "code",
   "execution_count": 72,
   "outputs": [],
   "source": [
    "valid_images = [load_image(image_path) for image_path in valid_paths]\n",
    "valid_masks = [load_mask(mask_path) for mask_path in valid_paths]\n",
    "valid_images = np.array(valid_images)\n",
    "valid_masks = np.array(valid_masks)"
   ],
   "metadata": {
    "collapsed": false,
    "ExecuteTime": {
     "end_time": "2023-12-09T17:31:52.224873217Z",
     "start_time": "2023-12-09T17:31:51.951017122Z"
    }
   }
  },
  {
   "cell_type": "code",
   "execution_count": 73,
   "outputs": [],
   "source": [
    "test_images = [load_image(image_path) for image_path in test_paths]\n",
    "test_masks = [load_mask(mask_path) for mask_path in test_paths]\n",
    "test_images = np.array(test_images)\n",
    "test_masks = np.array(test_masks)"
   ],
   "metadata": {
    "collapsed": false,
    "ExecuteTime": {
     "end_time": "2023-12-09T17:31:52.502350446Z",
     "start_time": "2023-12-09T17:31:52.265328792Z"
    }
   }
  },
  {
   "cell_type": "code",
   "execution_count": 74,
   "outputs": [
    {
     "name": "stdout",
     "output_type": "stream",
     "text": [
      "[0.         0.         0.         0.         0.         0.\n",
      " 0.         0.         0.         0.         0.         0.\n",
      " 0.         0.         0.         0.         0.         0.\n",
      " 0.         0.         0.         0.         0.         0.\n",
      " 0.         0.         0.         0.         0.         0.\n",
      " 0.         0.         0.         0.         0.         0.\n",
      " 0.         0.         0.         0.         0.         0.\n",
      " 0.         0.         0.         0.         0.         0.\n",
      " 0.         0.         0.         0.         0.         0.\n",
      " 0.         0.         0.         0.         0.         0.\n",
      " 0.         0.         0.49019608 1.         1.         1.\n",
      " 1.         1.         1.         1.         1.         1.\n",
      " 0.94117647 0.90588235 1.         1.         1.         1.\n",
      " 1.         1.         1.         1.         1.         1.\n",
      " 1.         1.         1.         1.         1.         1.\n",
      " 1.         1.         1.         1.         1.         1.\n",
      " 1.         1.         1.         1.         1.         1.\n",
      " 1.         1.         1.         1.         1.         1.\n",
      " 1.         0.99215686 0.21176471 0.         0.07058824 0.90980392\n",
      " 1.         1.         1.         0.50588235 0.         0.\n",
      " 0.29411765 1.         1.         1.         1.         0.8\n",
      " 0.00392157 0.         0.         0.05490196 0.89411765 1.\n",
      " 1.         1.         1.         0.45098039 0.         0.\n",
      " 0.         0.60392157 1.         1.         1.         0.48627451\n",
      " 0.         0.         0.         0.71764706 1.         1.\n",
      " 1.         1.         1.         1.         1.         1.\n",
      " 1.         1.         1.         1.         1.         1.\n",
      " 1.         1.         1.         1.         1.         1.\n",
      " 1.         0.6627451  0.00392157 0.         0.         0.67843137\n",
      " 1.         1.         1.         1.         1.         1.\n",
      " 1.         0.39607843 0.         0.         0.63137255 1.\n",
      " 1.         1.         1.         1.         1.         1.\n",
      " 0.99607843 0.30196078 0.         0.         0.         0.\n",
      " 0.         0.         0.         0.         0.         0.\n",
      " 0.         0.         0.         0.         0.         0.\n",
      " 0.         0.         0.         0.         0.         0.\n",
      " 0.         0.         0.         0.         0.         0.\n",
      " 0.         0.         0.         0.         0.         0.\n",
      " 0.         0.         0.         0.         0.         0.\n",
      " 0.         0.         0.         0.         0.         0.\n",
      " 0.         0.         0.         0.         0.         0.\n",
      " 0.         0.         0.         0.         0.         0.\n",
      " 0.         0.         0.         0.        ]\n"
     ]
    }
   ],
   "source": [
    "print(test_masks[0][100])"
   ],
   "metadata": {
    "collapsed": false,
    "ExecuteTime": {
     "end_time": "2023-12-09T17:31:52.647368757Z",
     "start_time": "2023-12-09T17:31:52.640497621Z"
    }
   }
  },
  {
   "cell_type": "code",
   "execution_count": 79,
   "outputs": [],
   "source": [
    "\n",
    "def unet_test_model(classes: int = 1):\n",
    "    tf.keras.backend.clear_session()\n",
    "    nb_filter = [32, 64, 128, 256, 512]\n",
    "    # Build U-Net++ model\n",
    "    inputs = Input((WIDTH, HEIGHT, 3))\n",
    "    s = Lambda(lambda x: x / 255)(inputs)\n",
    "\n",
    "    c1 = Conv2D(32, (3, 3), activation='elu', kernel_initializer='he_normal', padding='same')(s)\n",
    "    c1 = Dropout(0.5)(c1)\n",
    "    c1 = Conv2D(32, (3, 3), activation='elu', kernel_initializer='he_normal', padding='same')(c1)\n",
    "    c1 = Dropout(0.5)(c1)\n",
    "    p1 = MaxPooling2D((2, 2), strides=(2, 2))(c1)\n",
    "\n",
    "    c2 = Conv2D(64, (3, 3), activation='elu', kernel_initializer='he_normal', padding='same')(p1)\n",
    "    c2 = Dropout(0.5)(c2)\n",
    "    c2 = Conv2D(64, (3, 3), activation='elu', kernel_initializer='he_normal', padding='same')(c2)\n",
    "    c2 = Dropout(0.5)(c2)\n",
    "    p2 = MaxPooling2D((2, 2), strides=(2, 2))(c2)\n",
    "\n",
    "    up1_2 = Conv2DTranspose(nb_filter[0], (2, 2), strides=(2, 2), name='up12', padding='same')(c2)\n",
    "    conv1_2 = concatenate([up1_2, c1], name='merge12', axis=3)\n",
    "    c3 = Conv2D(32, (3, 3), activation='elu', kernel_initializer='he_normal', padding='same')(conv1_2)\n",
    "    c3 = Dropout(0.5)(c3)\n",
    "    c3 = Conv2D(32, (3, 3), activation='elu', kernel_initializer='he_normal', padding='same')(c3)\n",
    "    c3 = Dropout(0.5)(c3)\n",
    "\n",
    "    conv3_1 = Conv2D(128, (3, 3), activation='elu', kernel_initializer='he_normal', padding='same')(p2)\n",
    "    conv3_1 = Dropout(0.5)(conv3_1)\n",
    "    conv3_1 = Conv2D(128, (3, 3), activation='elu', kernel_initializer='he_normal', padding='same')(conv3_1)\n",
    "    conv3_1 = Dropout(0.5)(conv3_1)\n",
    "    pool3 = MaxPooling2D((2, 2), strides=(2, 2), name='pool3')(conv3_1)\n",
    "\n",
    "    up2_2 = Conv2DTranspose(nb_filter[1], (2, 2), strides=(2, 2), name='up22', padding='same')(conv3_1)\n",
    "    conv2_2 = concatenate([up2_2, c2], name='merge22', axis=3)  #x10\n",
    "    conv2_2 = Conv2D(64, (3, 3), activation='elu', kernel_initializer='he_normal', padding='same')(conv2_2)\n",
    "    conv2_2 = Dropout(0.5)(conv2_2)\n",
    "    conv2_2 = Conv2D(64, (3, 3), activation='elu', kernel_initializer='he_normal', padding='same')(conv2_2)\n",
    "    conv2_2 = Dropout(0.5)(conv2_2)\n",
    "\n",
    "    up1_3 = Conv2DTranspose(nb_filter[0], (2, 2), strides=(2, 2), name='up13', padding='same')(conv2_2)\n",
    "    conv1_3 = concatenate([up1_3, c1, c3], name='merge13', axis=3)\n",
    "    conv1_3 = Conv2D(32, (3, 3), activation='elu', kernel_initializer='he_normal', padding='same')(conv1_3)\n",
    "    conv1_3 = Dropout(0.5)(conv1_3)\n",
    "    conv1_3 = Conv2D(32, (3, 3), activation='elu', kernel_initializer='he_normal', padding='same')(conv1_3)\n",
    "    conv1_3 = Dropout(0.5)(conv1_3)\n",
    "\n",
    "    conv4_1 = Conv2D(256, (3, 3), activation='elu', kernel_initializer='he_normal', padding='same')(pool3)\n",
    "    conv4_1 = Dropout(0.5)(conv4_1)\n",
    "    conv4_1 = Conv2D(256, (3, 3), activation='elu', kernel_initializer='he_normal', padding='same')(conv4_1)\n",
    "    conv4_1 = Dropout(0.5)(conv4_1)\n",
    "    pool4 = MaxPooling2D((2, 2), strides=(2, 2), name='pool4')(conv4_1)\n",
    "\n",
    "    up3_2 = Conv2DTranspose(nb_filter[2], (2, 2), strides=(2, 2), name='up32', padding='same')(conv4_1)\n",
    "    conv3_2 = concatenate([up3_2, conv3_1], name='merge32', axis=3)  #x20\n",
    "    conv3_2 = Conv2D(128, (3, 3), activation='elu', kernel_initializer='he_normal', padding='same')(conv3_2)\n",
    "    conv3_2 = Dropout(0.5)(conv3_2)\n",
    "    conv3_2 = Conv2D(128, (3, 3), activation='elu', kernel_initializer='he_normal', padding='same')(conv3_2)\n",
    "    conv3_2 = Dropout(0.5)(conv3_2)\n",
    "\n",
    "    up2_3 = Conv2DTranspose(nb_filter[1], (2, 2), strides=(2, 2), name='up23', padding='same')(conv3_2)\n",
    "    conv2_3 = concatenate([up2_3, c2, conv2_2], name='merge23', axis=3)\n",
    "    conv2_3 = Conv2D(64, (3, 3), activation='elu', kernel_initializer='he_normal', padding='same')(conv2_3)\n",
    "    conv2_3 = Dropout(0.5)(conv2_3)\n",
    "    conv2_3 = Conv2D(64, (3, 3), activation='elu', kernel_initializer='he_normal', padding='same')(conv2_3)\n",
    "    conv2_3 = Dropout(0.5)(conv2_3)\n",
    "\n",
    "    up1_4 = Conv2DTranspose(nb_filter[0], (2, 2), strides=(2, 2), name='up14', padding='same')(conv2_3)\n",
    "    conv1_4 = concatenate([up1_4, c1, c3, conv1_3], name='merge14', axis=3)\n",
    "    conv1_4 = Conv2D(32, (3, 3), activation='elu', kernel_initializer='he_normal', padding='same')(conv1_4)\n",
    "    conv1_4 = Dropout(0.5)(conv1_4)\n",
    "    conv1_4 = Conv2D(32, (3, 3), activation='elu', kernel_initializer='he_normal', padding='same')(conv1_4)\n",
    "    conv1_4 = Dropout(0.5)(conv1_4)\n",
    "\n",
    "    conv5_1 = Conv2D(512, (3, 3), activation='elu', kernel_initializer='he_normal', padding='same')(pool4)\n",
    "    conv5_1 = Dropout(0.5)(conv5_1)\n",
    "    conv5_1 = Conv2D(512, (3, 3), activation='elu', kernel_initializer='he_normal', padding='same')(conv5_1)\n",
    "    conv5_1 = Dropout(0.5)(conv5_1)\n",
    "\n",
    "    up4_2 = Conv2DTranspose(nb_filter[3], (2, 2), strides=(2, 2), name='up42', padding='same')(conv5_1)\n",
    "    conv4_2 = concatenate([up4_2, conv4_1], name='merge42', axis=3)  #x30\n",
    "    conv4_2 = Conv2D(256, (3, 3), activation='elu', kernel_initializer='he_normal', padding='same')(conv4_2)\n",
    "    conv4_2 = Dropout(0.5)(conv4_2)\n",
    "    conv4_2 = Conv2D(256, (3, 3), activation='elu', kernel_initializer='he_normal', padding='same')(conv4_2)\n",
    "    conv4_2 = Dropout(0.5)(conv4_2)\n",
    "\n",
    "    up3_3 = Conv2DTranspose(nb_filter[2], (2, 2), strides=(2, 2), name='up33', padding='same')(conv4_2)\n",
    "    conv3_3 = concatenate([up3_3, conv3_1, conv3_2], name='merge33', axis=3)\n",
    "    conv3_3 = Conv2D(128, (3, 3), activation='elu', kernel_initializer='he_normal', padding='same')(conv3_3)\n",
    "    conv3_3 = Dropout(0.5)(conv3_3)\n",
    "    conv3_3 = Conv2D(128, (3, 3), activation='elu', kernel_initializer='he_normal', padding='same')(conv3_3)\n",
    "    conv3_3 = Dropout(0.5)(conv3_3)\n",
    "\n",
    "    up2_4 = Conv2DTranspose(nb_filter[1], (2, 2), strides=(2, 2), name='up24', padding='same')(conv3_3)\n",
    "    conv2_4 = concatenate([up2_4, c2, conv2_2, conv2_3], name='merge24', axis=3)\n",
    "    conv2_4 = Conv2D(64, (3, 3), activation='elu', kernel_initializer='he_normal', padding='same')(conv2_4)\n",
    "    conv2_4 = Dropout(0.5)(conv2_4)\n",
    "    conv2_4 = Conv2D(64, (3, 3), activation='elu', kernel_initializer='he_normal', padding='same')(conv2_4)\n",
    "    conv2_4 = Dropout(0.5)(conv2_4)\n",
    "\n",
    "    up1_5 = Conv2DTranspose(nb_filter[0], (2, 2), strides=(2, 2), name='up15', padding='same')(conv2_4)\n",
    "    conv1_5 = concatenate([up1_5, c1, c3, conv1_3, conv1_4], name='merge15', axis=3)\n",
    "    conv1_5 = Conv2D(32, (3, 3), activation='elu', kernel_initializer='he_normal', padding='same')(conv1_5)\n",
    "    conv1_5 = Dropout(0.5)(conv1_5)\n",
    "    conv1_5 = Conv2D(32, (3, 3), activation='elu', kernel_initializer='he_normal', padding='same')(conv1_5)\n",
    "    conv1_5 = Dropout(0.5)(conv1_5)\n",
    "\n",
    "    nestnet_output_4 = Conv2D(classes, (1, 1), activation='sigmoid', kernel_initializer='he_normal', name='output_4',\n",
    "                              padding='same')(conv1_5)\n",
    "    # output = Conv2D(\n",
    "    #     filters=classes,\n",
    "    #     kernel_size=(3, 3),\n",
    "    #     padding='same',\n",
    "    #     activation='softmax',\n",
    "    #     use_bias=True,\n",
    "    #     kernel_initializer='glorot_uniform',\n",
    "    #     name='final_conv',\n",
    "    # )(nestnet_output_4)\n",
    "\n",
    "    # create keras model instance\n",
    "    return Model(inputs=[inputs], outputs=\n",
    "    [nestnet_output_4])\n"
   ],
   "metadata": {
    "collapsed": false,
    "ExecuteTime": {
     "end_time": "2023-12-09T17:37:46.485640854Z",
     "start_time": "2023-12-09T17:37:46.440392427Z"
    }
   }
  },
  {
   "cell_type": "code",
   "execution_count": 80,
   "outputs": [],
   "source": [
    "LR = 0.0001\n",
    "\n",
    "\n",
    "def dice_coef(y_true, y_pred):\n",
    "    smooth = 1.\n",
    "    y_true_f = K.flatten(y_true)\n",
    "    y_pred_f = K.flatten(y_pred)\n",
    "    intersection = K.sum(y_true_f * y_pred_f)\n",
    "    return (2. * intersection + smooth) / (K.sum(y_true_f) + K.sum(y_pred_f) + smooth)\n",
    "\n",
    "\n",
    "def bce_dice_loss(y_true, y_pred):\n",
    "    return 0.5 * tf.keras.losses.binary_crossentropy(y_true, y_pred) - dice_coef(y_true, y_pred)"
   ],
   "metadata": {
    "collapsed": false,
    "ExecuteTime": {
     "end_time": "2023-12-09T17:37:47.364145452Z",
     "start_time": "2023-12-09T17:37:47.352842529Z"
    }
   }
  },
  {
   "cell_type": "code",
   "execution_count": 81,
   "outputs": [],
   "source": [
    "from keras.losses import binary_crossentropy\n",
    "import keras.backend as K\n",
    "\n",
    "\n",
    "def dice_coeff(y_true, y_pred):\n",
    "    smooth = 1.\n",
    "    y_true_f = K.flatten(y_true)\n",
    "    y_pred_f = K.flatten(y_pred)\n",
    "    intersection = K.sum(y_true_f * y_pred_f)\n",
    "    score = (2. * intersection + smooth) / (K.sum(y_true_f) + K.sum(y_pred_f) + smooth)\n",
    "    return score\n",
    "\n",
    "\n",
    "def dice_loss(y_true, y_pred):\n",
    "    loss = 1 - dice_coeff(y_true, y_pred)\n",
    "    return loss\n",
    "\n",
    "\n",
    "def bce_dice_loss(y_true, y_pred):\n",
    "    loss = binary_crossentropy(y_true, y_pred) + dice_loss(y_true, y_pred)\n",
    "    return loss\n",
    "\n",
    "\n",
    "def weighted_dice_coeff(y_true, y_pred, weight):\n",
    "    smooth = 1.\n",
    "    w, m1, m2 = weight * weight, y_true, y_pred\n",
    "    intersection = (m1 * m2)\n",
    "    score = (2. * K.sum(w * intersection) + smooth) / (K.sum(w * m1) + K.sum(w * m2) + smooth)\n",
    "    return score\n",
    "\n",
    "\n",
    "def weighted_dice_loss(y_true, y_pred):\n",
    "    y_true = K.cast(y_true, 'float32')\n",
    "    y_pred = K.cast(y_pred, 'float32')\n",
    "    # if we want to get same size of output, kernel size must be odd number\n",
    "    if K.int_shape(y_pred)[1] == 128:\n",
    "        kernel_size = 11\n",
    "    elif K.int_shape(y_pred)[1] == 256:\n",
    "        kernel_size = 21\n",
    "    elif K.int_shape(y_pred)[1] == 512:\n",
    "        kernel_size = 21\n",
    "    elif K.int_shape(y_pred)[1] == 1024:\n",
    "        kernel_size = 41\n",
    "    else:\n",
    "        raise ValueError('Unexpected image size')\n",
    "    averaged_mask = K.pool2d(\n",
    "        y_true, pool_size=(kernel_size, kernel_size), strides=(1, 1), padding='same', pool_mode='avg')\n",
    "    border = K.cast(K.greater(averaged_mask, 0.005), 'float32') * K.cast(K.less(averaged_mask, 0.995), 'float32')\n",
    "    weight = K.ones_like(averaged_mask)\n",
    "    w0 = K.sum(weight)\n",
    "    weight += border * 2\n",
    "    w1 = K.sum(weight)\n",
    "    weight *= (w0 / w1)\n",
    "    loss = 1 - weighted_dice_coeff(y_true, y_pred, weight)\n",
    "    return loss\n",
    "\n",
    "\n",
    "def weighted_bce_loss(y_true, y_pred, weight):\n",
    "    # avoiding overflow\n",
    "    epsilon = 1e-7\n",
    "    y_pred = K.clip(y_pred, epsilon, 1. - epsilon)\n",
    "    logit_y_pred = K.log(y_pred / (1. - y_pred))\n",
    "\n",
    "    # https://www.tensorflow.org/api_docs/python/tf/nn/weighted_cross_entropy_with_logits\n",
    "    loss = (1. - y_true) * logit_y_pred + (1. + (weight - 1.) * y_true) * \\\n",
    "           (K.log(1. + K.exp(-K.abs(logit_y_pred))) + K.maximum(-logit_y_pred, 0.))\n",
    "    return K.sum(loss) / K.sum(weight)\n",
    "\n",
    "\n",
    "def weighted_bce_dice_loss(y_true, y_pred):\n",
    "    y_true = K.cast(y_true, 'float32')\n",
    "    y_pred = K.cast(y_pred, 'float32')\n",
    "    # if we want to get same size of output, kernel size must be odd number\n",
    "    if K.int_shape(y_pred)[1] == 128:\n",
    "        kernel_size = 11\n",
    "    elif K.int_shape(y_pred)[1] == 256:\n",
    "        kernel_size = 21\n",
    "    elif K.int_shape(y_pred)[1] == 512:\n",
    "        kernel_size = 21\n",
    "    elif K.int_shape(y_pred)[1] == 1024:\n",
    "        kernel_size = 41\n",
    "    else:\n",
    "        raise ValueError('Unexpected image size')\n",
    "    averaged_mask = K.pool2d(\n",
    "        y_true, pool_size=(kernel_size, kernel_size), strides=(1, 1), padding='same', pool_mode='avg')\n",
    "    border = K.cast(K.greater(averaged_mask, 0.005), 'float32') * K.cast(K.less(averaged_mask, 0.995), 'float32')\n",
    "    weight = K.ones_like(averaged_mask)\n",
    "    w0 = K.sum(weight)\n",
    "    weight += border * 2\n",
    "    w1 = K.sum(weight)\n",
    "    weight *= (w0 / w1)\n",
    "    loss = weighted_bce_loss(y_true, y_pred, weight) + (1 - weighted_dice_coeff(y_true, y_pred, weight))\n",
    "    return loss"
   ],
   "metadata": {
    "collapsed": false,
    "ExecuteTime": {
     "end_time": "2023-12-09T17:37:49.520521902Z",
     "start_time": "2023-12-09T17:37:49.491608586Z"
    }
   }
  },
  {
   "cell_type": "code",
   "execution_count": 83,
   "outputs": [],
   "source": [
    "import tensorflow as tf\n",
    "from tensorflow.keras.metrics import IoU\n",
    "\n",
    "model = unet_test_model(CLASSES)\n",
    "model.compile(optimizer=tf.keras.optimizers.Adam(learning_rate=LR), loss=bce_dice_loss,\n",
    "              metrics=[IoU(num_classes=CLASSES, target_class_ids=\n",
    "              [i for i in range(CLASSES)])])"
   ],
   "metadata": {
    "collapsed": false,
    "ExecuteTime": {
     "end_time": "2023-12-09T17:37:58.599558858Z",
     "start_time": "2023-12-09T17:37:57.757809607Z"
    }
   }
  },
  {
   "cell_type": "markdown",
   "source": [],
   "metadata": {
    "collapsed": false
   }
  },
  {
   "cell_type": "code",
   "execution_count": 84,
   "outputs": [
    {
     "name": "stdout",
     "output_type": "stream",
     "text": [
      "[[[[249 249 249]\n",
      "   [247 247 247]\n",
      "   [247 247 247]\n",
      "   ...\n",
      "   [249 249 249]\n",
      "   [248 248 248]\n",
      "   [249 249 249]]\n",
      "\n",
      "  [[245 245 245]\n",
      "   [248 248 248]\n",
      "   [255 255 255]\n",
      "   ...\n",
      "   [247 247 247]\n",
      "   [248 248 248]\n",
      "   [250 250 250]]\n",
      "\n",
      "  [[249 249 249]\n",
      "   [229 229 229]\n",
      "   [126 126 126]\n",
      "   ...\n",
      "   [246 246 246]\n",
      "   [246 246 246]\n",
      "   [250 250 250]]\n",
      "\n",
      "  ...\n",
      "\n",
      "  [[ 70  70  70]\n",
      "   [ 28  28  28]\n",
      "   [ 21  21  21]\n",
      "   ...\n",
      "   [  5   5   5]\n",
      "   [ 17  17  17]\n",
      "   [ 46  46  46]]\n",
      "\n",
      "  [[ 57  57  57]\n",
      "   [ 22  22  22]\n",
      "   [ 13  13  13]\n",
      "   ...\n",
      "   [  2   2   2]\n",
      "   [ 12  12  12]\n",
      "   [ 39  39  39]]\n",
      "\n",
      "  [[ 88  88  88]\n",
      "   [ 53  53  53]\n",
      "   [ 43  43  43]\n",
      "   ...\n",
      "   [ 23  23  23]\n",
      "   [ 38  38  38]\n",
      "   [ 70  70  70]]]\n",
      "\n",
      "\n",
      " [[[196 196 196]\n",
      "   [199 199 199]\n",
      "   [198 198 198]\n",
      "   ...\n",
      "   [200 200 200]\n",
      "   [200 200 200]\n",
      "   [195 195 195]]\n",
      "\n",
      "  [[250 250 250]\n",
      "   [252 252 252]\n",
      "   [255 255 255]\n",
      "   ...\n",
      "   [253 253 253]\n",
      "   [253 253 253]\n",
      "   [253 253 253]]\n",
      "\n",
      "  [[246 246 246]\n",
      "   [252 252 252]\n",
      "   [206 206 206]\n",
      "   ...\n",
      "   [247 247 247]\n",
      "   [249 249 249]\n",
      "   [248 248 248]]\n",
      "\n",
      "  ...\n",
      "\n",
      "  [[  3   3   3]\n",
      "   [  2   2   2]\n",
      "   [ 49  49  49]\n",
      "   ...\n",
      "   [  3   3   3]\n",
      "   [  3   3   3]\n",
      "   [  4   4   4]]\n",
      "\n",
      "  [[  3   3   3]\n",
      "   [  3   3   3]\n",
      "   [  0   0   0]\n",
      "   ...\n",
      "   [  3   3   3]\n",
      "   [  3   3   3]\n",
      "   [  3   3   3]]\n",
      "\n",
      "  [[  3   3   3]\n",
      "   [  3   3   3]\n",
      "   [  3   3   3]\n",
      "   ...\n",
      "   [  3   3   3]\n",
      "   [  3   3   3]\n",
      "   [  3   3   3]]]\n",
      "\n",
      "\n",
      " [[[252 252 252]\n",
      "   [251 251 251]\n",
      "   [250 250 250]\n",
      "   ...\n",
      "   [250 250 250]\n",
      "   [251 251 251]\n",
      "   [250 250 250]]\n",
      "\n",
      "  [[251 251 251]\n",
      "   [253 253 253]\n",
      "   [255 255 255]\n",
      "   ...\n",
      "   [248 248 248]\n",
      "   [249 249 249]\n",
      "   [248 248 248]]\n",
      "\n",
      "  [[252 252 252]\n",
      "   [232 232 232]\n",
      "   [127 127 127]\n",
      "   ...\n",
      "   [247 247 247]\n",
      "   [248 248 248]\n",
      "   [246 246 246]]\n",
      "\n",
      "  ...\n",
      "\n",
      "  [[ 12  12  12]\n",
      "   [  2   2   2]\n",
      "   [  2   2   2]\n",
      "   ...\n",
      "   [  3   3   3]\n",
      "   [  3   3   3]\n",
      "   [ 16  16  16]]\n",
      "\n",
      "  [[ 10  10  10]\n",
      "   [  2   2   2]\n",
      "   [  2   2   2]\n",
      "   ...\n",
      "   [  2   2   2]\n",
      "   [  2   2   2]\n",
      "   [ 13  13  13]]\n",
      "\n",
      "  [[ 30  30  30]\n",
      "   [  3   3   3]\n",
      "   [  3   3   3]\n",
      "   ...\n",
      "   [  7   7   7]\n",
      "   [ 16  16  16]\n",
      "   [ 38  38  38]]]\n",
      "\n",
      "\n",
      " ...\n",
      "\n",
      "\n",
      " [[[195 195 195]\n",
      "   [200 200 200]\n",
      "   [201 201 201]\n",
      "   ...\n",
      "   [195 195 195]\n",
      "   [198 198 198]\n",
      "   [194 194 194]]\n",
      "\n",
      "  [[252 252 252]\n",
      "   [253 253 253]\n",
      "   [255 255 255]\n",
      "   ...\n",
      "   [250 250 250]\n",
      "   [250 250 250]\n",
      "   [249 249 249]]\n",
      "\n",
      "  [[250 250 250]\n",
      "   [251 251 251]\n",
      "   [199 199 199]\n",
      "   ...\n",
      "   [241 241 241]\n",
      "   [240 240 240]\n",
      "   [241 241 241]]\n",
      "\n",
      "  ...\n",
      "\n",
      "  [[  5   5   5]\n",
      "   [  2   2   2]\n",
      "   [ 32  32  32]\n",
      "   ...\n",
      "   [  7   7   7]\n",
      "   [ 20  20  20]\n",
      "   [ 51  51  51]]\n",
      "\n",
      "  [[  6   6   6]\n",
      "   [  3   3   3]\n",
      "   [  1   1   1]\n",
      "   ...\n",
      "   [  7   7   7]\n",
      "   [ 18  18  18]\n",
      "   [ 52  52  52]]\n",
      "\n",
      "  [[  7   7   7]\n",
      "   [  2   2   2]\n",
      "   [  3   3   3]\n",
      "   ...\n",
      "   [  8   8   8]\n",
      "   [ 18  18  18]\n",
      "   [ 48  48  48]]]\n",
      "\n",
      "\n",
      " [[[196 196 196]\n",
      "   [199 199 199]\n",
      "   [199 199 199]\n",
      "   ...\n",
      "   [201 201 201]\n",
      "   [200 200 200]\n",
      "   [195 195 195]]\n",
      "\n",
      "  [[251 251 251]\n",
      "   [253 253 253]\n",
      "   [255 255 255]\n",
      "   ...\n",
      "   [255 255 255]\n",
      "   [253 253 253]\n",
      "   [253 253 253]]\n",
      "\n",
      "  [[251 251 251]\n",
      "   [252 252 252]\n",
      "   [199 199 199]\n",
      "   ...\n",
      "   [248 248 248]\n",
      "   [248 248 248]\n",
      "   [248 248 248]]\n",
      "\n",
      "  ...\n",
      "\n",
      "  [[  2   2   2]\n",
      "   [  4   4   4]\n",
      "   [ 63  63  63]\n",
      "   ...\n",
      "   [  5   5   5]\n",
      "   [ 17  17  17]\n",
      "   [ 61  61  61]]\n",
      "\n",
      "  [[  3   3   3]\n",
      "   [  3   3   3]\n",
      "   [  0   0   0]\n",
      "   ...\n",
      "   [  4   4   4]\n",
      "   [ 19  19  19]\n",
      "   [ 62  62  62]]\n",
      "\n",
      "  [[  6   6   6]\n",
      "   [  5   5   5]\n",
      "   [  6   6   6]\n",
      "   ...\n",
      "   [  7   7   7]\n",
      "   [ 20  20  20]\n",
      "   [ 60  60  60]]]\n",
      "\n",
      "\n",
      " [[[195 195 195]\n",
      "   [201 201 201]\n",
      "   [201 201 201]\n",
      "   ...\n",
      "   [202 202 202]\n",
      "   [202 202 202]\n",
      "   [196 196 196]]\n",
      "\n",
      "  [[255 255 255]\n",
      "   [255 255 255]\n",
      "   [255 255 255]\n",
      "   ...\n",
      "   [255 255 255]\n",
      "   [255 255 255]\n",
      "   [254 254 254]]\n",
      "\n",
      "  [[252 252 252]\n",
      "   [252 252 252]\n",
      "   [199 199 199]\n",
      "   ...\n",
      "   [251 251 251]\n",
      "   [253 253 253]\n",
      "   [251 251 251]]\n",
      "\n",
      "  ...\n",
      "\n",
      "  [[  9   9   9]\n",
      "   [  4   4   4]\n",
      "   [ 63  63  63]\n",
      "   ...\n",
      "   [ 28  28  28]\n",
      "   [ 61  61  61]\n",
      "   [ 98  98  98]]\n",
      "\n",
      "  [[  8   8   8]\n",
      "   [  2   2   2]\n",
      "   [  0   0   0]\n",
      "   ...\n",
      "   [ 29  29  29]\n",
      "   [ 65  65  65]\n",
      "   [104 104 104]]\n",
      "\n",
      "  [[ 11  11  11]\n",
      "   [  3   3   3]\n",
      "   [  4   4   4]\n",
      "   ...\n",
      "   [ 28  28  28]\n",
      "   [ 56  56  56]\n",
      "   [ 95  95  95]]]]\n"
     ]
    }
   ],
   "source": [
    "print(train_images)"
   ],
   "metadata": {
    "collapsed": false,
    "ExecuteTime": {
     "end_time": "2023-12-09T17:37:59.213982673Z",
     "start_time": "2023-12-09T17:37:59.196677411Z"
    }
   }
  },
  {
   "cell_type": "code",
   "execution_count": 84,
   "outputs": [],
   "source": [],
   "metadata": {
    "collapsed": false,
    "ExecuteTime": {
     "end_time": "2023-12-09T17:37:59.713911870Z",
     "start_time": "2023-12-09T17:37:59.709757082Z"
    }
   }
  },
  {
   "cell_type": "code",
   "execution_count": 85,
   "outputs": [
    {
     "ename": "ValueError",
     "evalue": "in user code:\n\n    File \"/home/daniil/Important_catalog/SHAD/Python/Hell_Dragon/shad_env/lib/python3.11/site-packages/keras/src/engine/training.py\", line 1401, in train_function  *\n        return step_function(self, iterator)\n    File \"/tmp/ipykernel_62172/26868942.py\", line 20, in bce_dice_loss  *\n        loss = binary_crossentropy(y_true, y_pred) + dice_loss(y_true, y_pred)\n    File \"/home/daniil/Important_catalog/SHAD/Python/Hell_Dragon/shad_env/lib/python3.11/site-packages/keras/src/losses.py\", line 2532, in binary_crossentropy\n        backend.binary_crossentropy(y_true, y_pred, from_logits=from_logits),\n    File \"/home/daniil/Important_catalog/SHAD/Python/Hell_Dragon/shad_env/lib/python3.11/site-packages/keras/src/backend.py\", line 5822, in binary_crossentropy\n        return tf.nn.sigmoid_cross_entropy_with_logits(\n\n    ValueError: `logits` and `labels` must have the same shape, received ((None, 256, 256, 2) vs (None, 256, 256)).\n",
     "output_type": "error",
     "traceback": [
      "\u001B[0;31m---------------------------------------------------------------------------\u001B[0m",
      "\u001B[0;31mValueError\u001B[0m                                Traceback (most recent call last)",
      "Cell \u001B[0;32mIn[85], line 2\u001B[0m\n\u001B[1;32m      1\u001B[0m \u001B[38;5;66;03m# Создание и обучение модели U-Net\u001B[39;00m\n\u001B[0;32m----> 2\u001B[0m \u001B[43mmodel\u001B[49m\u001B[38;5;241;43m.\u001B[39;49m\u001B[43mfit\u001B[49m\u001B[43m(\u001B[49m\u001B[43mtrain_images\u001B[49m\u001B[43m,\u001B[49m\u001B[43m \u001B[49m\u001B[43mtrain_masks\u001B[49m\u001B[43m,\u001B[49m\u001B[43m \u001B[49m\u001B[43mvalidation_data\u001B[49m\u001B[38;5;241;43m=\u001B[39;49m\u001B[43m(\u001B[49m\u001B[43mvalid_images\u001B[49m\u001B[43m,\u001B[49m\u001B[43m \u001B[49m\u001B[43mvalid_masks\u001B[49m\u001B[43m)\u001B[49m\u001B[43m,\u001B[49m\u001B[43m \u001B[49m\u001B[43mepochs\u001B[49m\u001B[38;5;241;43m=\u001B[39;49m\u001B[38;5;241;43m1\u001B[39;49m\u001B[43m,\u001B[49m\u001B[43m \u001B[49m\u001B[43mbatch_size\u001B[49m\u001B[38;5;241;43m=\u001B[39;49m\u001B[38;5;241;43m4\u001B[39;49m\u001B[43m)\u001B[49m\n",
      "File \u001B[0;32m~/Important_catalog/SHAD/Python/Hell_Dragon/shad_env/lib/python3.11/site-packages/keras/src/utils/traceback_utils.py:70\u001B[0m, in \u001B[0;36mfilter_traceback.<locals>.error_handler\u001B[0;34m(*args, **kwargs)\u001B[0m\n\u001B[1;32m     67\u001B[0m     filtered_tb \u001B[38;5;241m=\u001B[39m _process_traceback_frames(e\u001B[38;5;241m.\u001B[39m__traceback__)\n\u001B[1;32m     68\u001B[0m     \u001B[38;5;66;03m# To get the full stack trace, call:\u001B[39;00m\n\u001B[1;32m     69\u001B[0m     \u001B[38;5;66;03m# `tf.debugging.disable_traceback_filtering()`\u001B[39;00m\n\u001B[0;32m---> 70\u001B[0m     \u001B[38;5;28;01mraise\u001B[39;00m e\u001B[38;5;241m.\u001B[39mwith_traceback(filtered_tb) \u001B[38;5;28;01mfrom\u001B[39;00m \u001B[38;5;28;01mNone\u001B[39;00m\n\u001B[1;32m     71\u001B[0m \u001B[38;5;28;01mfinally\u001B[39;00m:\n\u001B[1;32m     72\u001B[0m     \u001B[38;5;28;01mdel\u001B[39;00m filtered_tb\n",
      "File \u001B[0;32m/tmp/__autograph_generated_fileccmz104u.py:15\u001B[0m, in \u001B[0;36mouter_factory.<locals>.inner_factory.<locals>.tf__train_function\u001B[0;34m(iterator)\u001B[0m\n\u001B[1;32m     13\u001B[0m \u001B[38;5;28;01mtry\u001B[39;00m:\n\u001B[1;32m     14\u001B[0m     do_return \u001B[38;5;241m=\u001B[39m \u001B[38;5;28;01mTrue\u001B[39;00m\n\u001B[0;32m---> 15\u001B[0m     retval_ \u001B[38;5;241m=\u001B[39m ag__\u001B[38;5;241m.\u001B[39mconverted_call(ag__\u001B[38;5;241m.\u001B[39mld(step_function), (ag__\u001B[38;5;241m.\u001B[39mld(\u001B[38;5;28mself\u001B[39m), ag__\u001B[38;5;241m.\u001B[39mld(iterator)), \u001B[38;5;28;01mNone\u001B[39;00m, fscope)\n\u001B[1;32m     16\u001B[0m \u001B[38;5;28;01mexcept\u001B[39;00m:\n\u001B[1;32m     17\u001B[0m     do_return \u001B[38;5;241m=\u001B[39m \u001B[38;5;28;01mFalse\u001B[39;00m\n",
      "File \u001B[0;32m/tmp/__autograph_generated_file59t64v_5.py:10\u001B[0m, in \u001B[0;36mouter_factory.<locals>.inner_factory.<locals>.tf__bce_dice_loss\u001B[0;34m(y_true, y_pred)\u001B[0m\n\u001B[1;32m      8\u001B[0m do_return \u001B[38;5;241m=\u001B[39m \u001B[38;5;28;01mFalse\u001B[39;00m\n\u001B[1;32m      9\u001B[0m retval_ \u001B[38;5;241m=\u001B[39m ag__\u001B[38;5;241m.\u001B[39mUndefinedReturnValue()\n\u001B[0;32m---> 10\u001B[0m loss \u001B[38;5;241m=\u001B[39m \u001B[43mag__\u001B[49m\u001B[38;5;241;43m.\u001B[39;49m\u001B[43mconverted_call\u001B[49m\u001B[43m(\u001B[49m\u001B[43mag__\u001B[49m\u001B[38;5;241;43m.\u001B[39;49m\u001B[43mld\u001B[49m\u001B[43m(\u001B[49m\u001B[43mbinary_crossentropy\u001B[49m\u001B[43m)\u001B[49m\u001B[43m,\u001B[49m\u001B[43m \u001B[49m\u001B[43m(\u001B[49m\u001B[43mag__\u001B[49m\u001B[38;5;241;43m.\u001B[39;49m\u001B[43mld\u001B[49m\u001B[43m(\u001B[49m\u001B[43my_true\u001B[49m\u001B[43m)\u001B[49m\u001B[43m,\u001B[49m\u001B[43m \u001B[49m\u001B[43mag__\u001B[49m\u001B[38;5;241;43m.\u001B[39;49m\u001B[43mld\u001B[49m\u001B[43m(\u001B[49m\u001B[43my_pred\u001B[49m\u001B[43m)\u001B[49m\u001B[43m)\u001B[49m\u001B[43m,\u001B[49m\u001B[43m \u001B[49m\u001B[38;5;28;43;01mNone\u001B[39;49;00m\u001B[43m,\u001B[49m\u001B[43m \u001B[49m\u001B[43mfscope\u001B[49m\u001B[43m)\u001B[49m \u001B[38;5;241m+\u001B[39m ag__\u001B[38;5;241m.\u001B[39mconverted_call(ag__\u001B[38;5;241m.\u001B[39mld(dice_loss), (ag__\u001B[38;5;241m.\u001B[39mld(y_true), ag__\u001B[38;5;241m.\u001B[39mld(y_pred)), \u001B[38;5;28;01mNone\u001B[39;00m, fscope)\n\u001B[1;32m     11\u001B[0m \u001B[38;5;28;01mtry\u001B[39;00m:\n\u001B[1;32m     12\u001B[0m     do_return \u001B[38;5;241m=\u001B[39m \u001B[38;5;28;01mTrue\u001B[39;00m\n",
      "\u001B[0;31mValueError\u001B[0m: in user code:\n\n    File \"/home/daniil/Important_catalog/SHAD/Python/Hell_Dragon/shad_env/lib/python3.11/site-packages/keras/src/engine/training.py\", line 1401, in train_function  *\n        return step_function(self, iterator)\n    File \"/tmp/ipykernel_62172/26868942.py\", line 20, in bce_dice_loss  *\n        loss = binary_crossentropy(y_true, y_pred) + dice_loss(y_true, y_pred)\n    File \"/home/daniil/Important_catalog/SHAD/Python/Hell_Dragon/shad_env/lib/python3.11/site-packages/keras/src/losses.py\", line 2532, in binary_crossentropy\n        backend.binary_crossentropy(y_true, y_pred, from_logits=from_logits),\n    File \"/home/daniil/Important_catalog/SHAD/Python/Hell_Dragon/shad_env/lib/python3.11/site-packages/keras/src/backend.py\", line 5822, in binary_crossentropy\n        return tf.nn.sigmoid_cross_entropy_with_logits(\n\n    ValueError: `logits` and `labels` must have the same shape, received ((None, 256, 256, 2) vs (None, 256, 256)).\n"
     ]
    }
   ],
   "source": [
    "# Создание и обучение модели U-Net\n",
    "model.fit(train_images, train_masks, validation_data=(valid_images, valid_masks), epochs=1, batch_size=4)\n"
   ],
   "metadata": {
    "collapsed": false,
    "ExecuteTime": {
     "end_time": "2023-12-09T17:38:00.973208048Z",
     "start_time": "2023-12-09T17:38:00.083543866Z"
    }
   }
  },
  {
   "cell_type": "code",
   "execution_count": 40,
   "outputs": [
    {
     "name": "stdout",
     "output_type": "stream",
     "text": [
      "Epoch 1/5\n",
      "90/90 [==============================] - 460s 5s/step - loss: 0.1126 - io_u: 0.4553 - val_loss: -0.0551 - val_io_u: 0.4586\n",
      "Epoch 2/5\n",
      "90/90 [==============================] - 459s 5s/step - loss: 0.0429 - io_u: 0.4553 - val_loss: -0.0628 - val_io_u: 0.4586\n",
      "Epoch 3/5\n",
      "90/90 [==============================] - 459s 5s/step - loss: 0.0141 - io_u: 0.4553 - val_loss: -0.0605 - val_io_u: 0.4586\n",
      "Epoch 4/5\n",
      "90/90 [==============================] - 459s 5s/step - loss: -0.0026 - io_u: 0.4553 - val_loss: -0.0669 - val_io_u: 0.4586\n",
      "Epoch 5/5\n",
      "90/90 [==============================] - 460s 5s/step - loss: -0.0154 - io_u: 0.4553 - val_loss: -0.0580 - val_io_u: 0.4586\n"
     ]
    },
    {
     "data": {
      "text/plain": "<keras.src.callbacks.History at 0x7fb78f20ef90>"
     },
     "execution_count": 40,
     "metadata": {},
     "output_type": "execute_result"
    }
   ],
   "source": [
    "# Создание и обучение модели U-Net\n",
    "model.fit(train_images, train_masks, validation_data=(valid_images, valid_masks), epochs=5, batch_size=4)\n"
   ],
   "metadata": {
    "collapsed": false,
    "ExecuteTime": {
     "end_time": "2023-12-05T11:57:46.312923332Z",
     "start_time": "2023-12-05T11:19:29.492824039Z"
    }
   }
  },
  {
   "cell_type": "code",
   "execution_count": 26,
   "outputs": [
    {
     "name": "stdout",
     "output_type": "stream",
     "text": [
      "Epoch 1/20\n",
      "18/18 [==============================] - 86s 5s/step - loss: 0.0519 - mean_io_u: 0.4319 - val_loss: -0.0203 - val_mean_io_u: 0.4365\n",
      "Epoch 2/20\n",
      "18/18 [==============================] - 86s 5s/step - loss: 0.0308 - mean_io_u: 0.4319 - val_loss: 0.0596 - val_mean_io_u: 0.4365\n",
      "Epoch 3/20\n",
      "18/18 [==============================] - 86s 5s/step - loss: 0.0140 - mean_io_u: 0.4319 - val_loss: 0.0227 - val_mean_io_u: 0.4365\n",
      "Epoch 4/20\n",
      "18/18 [==============================] - 86s 5s/step - loss: 0.0083 - mean_io_u: 0.4319 - val_loss: 0.0867 - val_mean_io_u: 0.4365\n",
      "Epoch 5/20\n",
      "18/18 [==============================] - 86s 5s/step - loss: -0.0017 - mean_io_u: 0.4319 - val_loss: 0.0889 - val_mean_io_u: 0.4365\n",
      "Epoch 6/20\n",
      "18/18 [==============================] - 86s 5s/step - loss: -0.0157 - mean_io_u: 0.4319 - val_loss: 0.0578 - val_mean_io_u: 0.4365\n",
      "Epoch 7/20\n",
      "18/18 [==============================] - 86s 5s/step - loss: -0.0274 - mean_io_u: 0.4319 - val_loss: 0.1524 - val_mean_io_u: 0.4365\n",
      "Epoch 8/20\n",
      "18/18 [==============================] - 86s 5s/step - loss: -0.0350 - mean_io_u: 0.4319 - val_loss: 0.0625 - val_mean_io_u: 0.4365\n",
      "Epoch 9/20\n",
      "18/18 [==============================] - 85s 5s/step - loss: -0.0413 - mean_io_u: 0.4319 - val_loss: 0.0084 - val_mean_io_u: 0.4365\n",
      "Epoch 10/20\n",
      "18/18 [==============================] - 86s 5s/step - loss: -0.0458 - mean_io_u: 0.4319 - val_loss: 0.0250 - val_mean_io_u: 0.4365\n",
      "Epoch 11/20\n",
      "18/18 [==============================] - 86s 5s/step - loss: -0.0526 - mean_io_u: 0.4319 - val_loss: 0.0209 - val_mean_io_u: 0.4365\n",
      "Epoch 12/20\n",
      "18/18 [==============================] - 86s 5s/step - loss: -0.0574 - mean_io_u: 0.4319 - val_loss: 0.0405 - val_mean_io_u: 0.4365\n",
      "Epoch 13/20\n",
      "18/18 [==============================] - 86s 5s/step - loss: -0.0645 - mean_io_u: 0.4319 - val_loss: 0.0608 - val_mean_io_u: 0.4365\n",
      "Epoch 14/20\n",
      "18/18 [==============================] - 86s 5s/step - loss: -0.0684 - mean_io_u: 0.4319 - val_loss: 0.0749 - val_mean_io_u: 0.4365\n",
      "Epoch 15/20\n",
      "18/18 [==============================] - 86s 5s/step - loss: -0.0740 - mean_io_u: 0.4319 - val_loss: 0.0748 - val_mean_io_u: 0.4365\n",
      "Epoch 16/20\n",
      "18/18 [==============================] - 86s 5s/step - loss: -0.0784 - mean_io_u: 0.4319 - val_loss: 0.0725 - val_mean_io_u: 0.4365\n",
      "Epoch 17/20\n",
      "18/18 [==============================] - 86s 5s/step - loss: -0.0843 - mean_io_u: 0.4320 - val_loss: 0.0738 - val_mean_io_u: 0.4365\n",
      "Epoch 18/20\n",
      "18/18 [==============================] - 86s 5s/step - loss: -0.0944 - mean_io_u: 0.4320 - val_loss: 0.1397 - val_mean_io_u: 0.4365\n",
      "Epoch 19/20\n",
      "18/18 [==============================] - 86s 5s/step - loss: -0.1014 - mean_io_u: 0.4321 - val_loss: 0.0707 - val_mean_io_u: 0.4365\n",
      "Epoch 20/20\n",
      "18/18 [==============================] - 86s 5s/step - loss: -0.1224 - mean_io_u: 0.4322 - val_loss: 0.1941 - val_mean_io_u: 0.4365\n"
     ]
    },
    {
     "data": {
      "text/plain": "<keras.src.callbacks.History at 0x7f4c64229010>"
     },
     "execution_count": 26,
     "metadata": {},
     "output_type": "execute_result"
    }
   ],
   "source": [
    "# Создание и обучение модели U-Net\n",
    "model.fit(train_images, train_masks, validation_data=(valid_images, valid_masks), epochs=20, batch_size=8)"
   ],
   "metadata": {
    "collapsed": false,
    "ExecuteTime": {
     "end_time": "2023-12-05T09:39:22.005824384Z",
     "start_time": "2023-12-05T09:10:41.692685728Z"
    }
   }
  },
  {
   "cell_type": "code",
   "execution_count": null,
   "outputs": [],
   "source": [
    "# Создание и обучение модели U-Net\n",
    "model.fit(train_images, train_masks, validation_data=(valid_images, valid_masks), epochs=20, batch_size=4)"
   ],
   "metadata": {
    "collapsed": false
   }
  },
  {
   "cell_type": "code",
   "execution_count": null,
   "outputs": [],
   "source": [
    "# Создание и обучение модели U-Net\n",
    "model.fit(train_images, train_masks, validation_data=(valid_images, valid_masks), epochs=20, batch_size=4)"
   ],
   "metadata": {
    "collapsed": false
   }
  },
  {
   "cell_type": "code",
   "execution_count": 48,
   "outputs": [
    {
     "name": "stdout",
     "output_type": "stream",
     "text": [
      "INFO:tensorflow:Assets written to: model/assets\n"
     ]
    },
    {
     "name": "stderr",
     "output_type": "stream",
     "text": [
      "INFO:tensorflow:Assets written to: model/assets\n"
     ]
    }
   ],
   "source": [
    "tf.saved_model.save(model, 'model')"
   ],
   "metadata": {
    "collapsed": false,
    "ExecuteTime": {
     "end_time": "2023-12-05T12:22:13.334078559Z",
     "start_time": "2023-12-05T12:22:07.128811572Z"
    }
   }
  },
  {
   "cell_type": "code",
   "execution_count": 23,
   "outputs": [
    {
     "name": "stderr",
     "output_type": "stream",
     "text": [
      "2023-12-09 20:20:43.325928: W external/local_tsl/tsl/framework/cpu_allocator_impl.cc:83] Allocation of 805306368 exceeds 10% of free system memory.\n",
      "2023-12-09 20:20:45.168510: W external/local_tsl/tsl/framework/cpu_allocator_impl.cc:83] Allocation of 1073741824 exceeds 10% of free system memory.\n",
      "2023-12-09 20:20:47.122942: W external/local_tsl/tsl/framework/cpu_allocator_impl.cc:83] Allocation of 1342177280 exceeds 10% of free system memory.\n"
     ]
    },
    {
     "name": "stdout",
     "output_type": "stream",
     "text": [
      "1/4 [======>.......................] - ETA: 23s"
     ]
    },
    {
     "name": "stderr",
     "output_type": "stream",
     "text": [
      "2023-12-09 20:20:50.870183: W external/local_tsl/tsl/framework/cpu_allocator_impl.cc:83] Allocation of 805306368 exceeds 10% of free system memory.\n",
      "2023-12-09 20:20:52.929968: W external/local_tsl/tsl/framework/cpu_allocator_impl.cc:83] Allocation of 1073741824 exceeds 10% of free system memory.\n"
     ]
    },
    {
     "name": "stdout",
     "output_type": "stream",
     "text": [
      "4/4 [==============================] - 28s 7s/step\n"
     ]
    }
   ],
   "source": [
    "result = model.predict(test_images)"
   ],
   "metadata": {
    "collapsed": false,
    "ExecuteTime": {
     "end_time": "2023-12-09T17:21:09.076499758Z",
     "start_time": "2023-12-09T17:20:40.641542787Z"
    }
   }
  },
  {
   "cell_type": "code",
   "execution_count": 27,
   "outputs": [
    {
     "name": "stdout",
     "output_type": "stream",
     "text": [
      "[[[0.42203665]\n",
      "  [0.35392913]\n",
      "  [0.3018944 ]\n",
      "  ...\n",
      "  [0.34531984]\n",
      "  [0.34214437]\n",
      "  [0.25687236]]\n",
      "\n",
      " [[0.43551797]\n",
      "  [0.41775978]\n",
      "  [0.36844695]\n",
      "  ...\n",
      "  [0.44380885]\n",
      "  [0.39099336]\n",
      "  [0.19417508]]\n",
      "\n",
      " [[0.47164166]\n",
      "  [0.43103456]\n",
      "  [0.369371  ]\n",
      "  ...\n",
      "  [0.412446  ]\n",
      "  [0.36045402]\n",
      "  [0.18623644]]\n",
      "\n",
      " ...\n",
      "\n",
      " [[0.45005953]\n",
      "  [0.17160515]\n",
      "  [0.19931158]\n",
      "  ...\n",
      "  [0.14693075]\n",
      "  [0.1785332 ]\n",
      "  [0.24441239]]\n",
      "\n",
      " [[0.40026015]\n",
      "  [0.22380106]\n",
      "  [0.18568495]\n",
      "  ...\n",
      "  [0.20004755]\n",
      "  [0.23183423]\n",
      "  [0.24185789]]\n",
      "\n",
      " [[0.5070852 ]\n",
      "  [0.3321939 ]\n",
      "  [0.34704894]\n",
      "  ...\n",
      "  [0.28137147]\n",
      "  [0.32106948]\n",
      "  [0.34892485]]]\n"
     ]
    }
   ],
   "source": [
    "print(result[0])"
   ],
   "metadata": {
    "collapsed": false,
    "ExecuteTime": {
     "end_time": "2023-12-09T17:21:53.495200530Z",
     "start_time": "2023-12-09T17:21:53.465913659Z"
    }
   }
  },
  {
   "cell_type": "code",
   "execution_count": 28,
   "outputs": [],
   "source": [
    "from PIL import Image\n",
    "import numpy as np\n",
    "\n",
    "# Предположим, что результат предсказания модели содержит вероятности пикселей для каждого класса\n",
    "# Размерность результатов предсказания: (batch_size, HEIGHT, WIDTH, num_classes)\n",
    "\n",
    "# Предположим, что результат предсказания модели содержит вероятности пикселей для каждого класса\n",
    "# Размерность результатов предсказания: (batch_size, HEIGHT, WIDTH, num_classes)\n",
    "num_classes = 7  # Количество классов (6 классов + 1 класс \"ничего\")\n",
    "threshold = 0.3  # Порог для принятия решения о наличии объекта на пикселе\n",
    "\n",
    "# Преобразование результатов предсказания в маски с максимальными значениями классов\n",
    "predicted_masks = result\n",
    "# true_masks = test_masks\n",
    "# Создание палитры цветов для каждого класса\n",
    "palette = [\n",
    "    (0, 0, 0),  # Класс \"ничего\" (черный цвет)\n",
    "    (255, 0, 0),  # Класс 1 (красный цвет)\n",
    "    (0, 255, 0),  # Класс 2 (зеленый цвет)\n",
    "    (0, 0, 255),  # Класс 3 (синий цвет)\n",
    "    (255, 255, 0),  # Класс 4 (желтый цвет)\n",
    "    (255, 0, 255),  # Класс 5 (пурпурный цвет)\n",
    "    (0, 255, 255),  # Класс 6 (бирюзовый цвет)\n",
    "    (255, 255, 255)\n",
    "]\n",
    "# \n",
    "# Создание изображений для каждого предсказанного класса\n",
    "for i in range(min(predicted_masks.shape[0], 100)):\n",
    "    image = Image.new(\"RGB\",\n",
    "                      (\n",
    "                          WIDTH, HEIGHT\n",
    "                      )\n",
    "                      )\n",
    "    # true_mask = Image.new(\"RGB\",\n",
    "    #                   (\n",
    "    #                       WIDTH, HEIGHT\n",
    "    #                   )\n",
    "    #                   )\n",
    "    for y in range(\n",
    "            HEIGHT\n",
    "    ):\n",
    "        for x in range(\n",
    "                WIDTH\n",
    "        ):\n",
    "            if predicted_masks[i][y][x] >= threshold:\n",
    "                class_index = 7\n",
    "            else:\n",
    "                class_index = 0\n",
    "            # val = predicted_masks[i][x][y]\n",
    "            image.putpixel((x, y), palette[class_index])  #(int(val * 255), int(val * 255), int(val * 255)))\n",
    "            # if true_masks[i][y][x] >= threshold:\n",
    "            #     true_mask.putpixel((x, y), palette[7])\n",
    "            # else:\n",
    "            #     true_mask.putpixel((x, y), palette[0])\n",
    "    image.save(f\"result_small_5/predicted_image_{i}.png\")\n",
    "    # true_mask.save(f\"result_small_5/predicted_image_{i}_true.png\")\n",
    "\n"
   ],
   "metadata": {
    "collapsed": false,
    "ExecuteTime": {
     "end_time": "2023-12-09T17:22:22.430266493Z",
     "start_time": "2023-12-09T17:22:00.891265460Z"
    }
   }
  },
  {
   "cell_type": "markdown",
   "source": [],
   "metadata": {
    "collapsed": false
   }
  },
  {
   "cell_type": "code",
   "execution_count": null,
   "outputs": [],
   "source": [],
   "metadata": {
    "collapsed": false
   }
  },
  {
   "cell_type": "code",
   "execution_count": null,
   "outputs": [],
   "source": [
    "print(test_masks[0])"
   ],
   "metadata": {
    "collapsed": false
   }
  },
  {
   "cell_type": "code",
   "execution_count": null,
   "outputs": [],
   "source": [],
   "metadata": {
    "collapsed": false
   }
  }
 ],
 "metadata": {
  "kernelspec": {
   "display_name": "Python 3",
   "language": "python",
   "name": "python3"
  },
  "language_info": {
   "codemirror_mode": {
    "name": "ipython",
    "version": 2
   },
   "file_extension": ".py",
   "mimetype": "text/x-python",
   "name": "python",
   "nbconvert_exporter": "python",
   "pygments_lexer": "ipython2",
   "version": "2.7.6"
  }
 },
 "nbformat": 4,
 "nbformat_minor": 0
}
