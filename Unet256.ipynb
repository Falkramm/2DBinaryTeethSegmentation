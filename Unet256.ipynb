{
  "cells": [
    {
      "cell_type": "code",
      "source": [
        "import tensorflow as tf\n",
        "device_name = tf.test.gpu_device_name()\n",
        "if device_name != '/device:GPU:0':\n",
        "  raise SystemError('GPU device not found')\n",
        "print('Found GPU at: {}'.format(device_name))"
      ],
      "metadata": {
        "colab": {
          "base_uri": "https://localhost:8080/"
        },
        "id": "gwAhyeGuDS6s",
        "outputId": "0de852d6-6637-4c59-88bc-d2d6143cd794"
      },
      "execution_count": 113,
      "outputs": [
        {
          "output_type": "stream",
          "name": "stdout",
          "text": [
            "Found GPU at: /device:GPU:0\n"
          ]
        }
      ]
    },
    {
      "cell_type": "code",
      "execution_count": 114,
      "metadata": {
        "collapsed": true,
        "ExecuteTime": {
          "end_time": "2023-12-09T17:11:43.138078349Z",
          "start_time": "2023-12-09T17:11:39.637331338Z"
        },
        "id": "yVBn4fq7-B68"
      },
      "outputs": [],
      "source": [
        "import tensorflow as tf\n",
        "import pandas as pd\n",
        "from PIL import Image\n",
        "import numpy as np\n",
        "import zipfile\n",
        "import os\n",
        "import glob\n",
        "import random\n",
        "import sys\n",
        "\n",
        "import skimage.io  #Used for imshow function\n",
        "import skimage.transform  #Used for resize function\n",
        "from skimage.morphology import label  #Used for Run-Length-Encoding RLE to create final submission\n",
        "import matplotlib.pyplot as plt\n",
        "\n",
        "from tensorflow.keras import *\n",
        "from tensorflow.keras.layers import *\n",
        "from tensorflow.keras.models import Model\n",
        "from tensorflow.keras import backend as K\n",
        "from tensorflow.keras.callbacks import LearningRateScheduler, ModelCheckpoint, EarlyStopping, ReduceLROnPlateau\n",
        "from tensorflow.keras.preprocessing.image import ImageDataGenerator\n",
        "from sklearn.model_selection import train_test_split"
      ]
    },
    {
      "cell_type": "code",
      "execution_count": 114,
      "outputs": [],
      "source": [],
      "metadata": {
        "ExecuteTime": {
          "end_time": "2023-12-09T17:11:43.151142392Z",
          "start_time": "2023-12-09T17:11:43.140617603Z"
        },
        "id": "4L79hnEs-B6-"
      }
    },
    {
      "cell_type": "code",
      "execution_count": 115,
      "outputs": [],
      "source": [
        "# Загрузка данных\n",
        "data_dir = 'data_256/'\n",
        "images_dir = 'images/'\n",
        "masks_dir = 'masks/'\n",
        "WIDTH = 256\n",
        "HEIGHT = 256\n",
        "CLASSES = 1"
      ],
      "metadata": {
        "ExecuteTime": {
          "end_time": "2023-12-09T17:31:45.369811060Z",
          "start_time": "2023-12-09T17:31:45.328125675Z"
        },
        "id": "nXRK_kfw-B6-"
      }
    },
    {
      "cell_type": "code",
      "execution_count": 116,
      "outputs": [],
      "source": [
        "import os\n",
        "from PIL import Image\n",
        "import numpy as np\n",
        "\n",
        "\n",
        "def load_image(image_path):\n",
        "    image = Image.open(data_dir + images_dir + image_path)  #.convert('L')  # Преобразуем в оттенки серого\n",
        "    return np.array(image)\n",
        "\n",
        "\n",
        "import numpy as np\n",
        "from PIL import Image\n",
        "\n",
        "def load_mask(mask_path):\n",
        "    mask = Image.open(data_dir + masks_dir + mask_path).convert('L')  # Преобразуем в оттенки серого\n",
        "    mask_array = np.array(mask)\n",
        "    mask_float = mask_array.astype(float) / 255.0  # Преобразуем в тип float и нормализуем значения до диапазона [0, 1]\n",
        "    return mask_float\n"
      ],
      "metadata": {
        "ExecuteTime": {
          "end_time": "2023-12-09T17:31:46.144671869Z",
          "start_time": "2023-12-09T17:31:46.134829810Z"
        },
        "id": "Ffr9l0Bq-B6_"
      }
    },
    {
      "cell_type": "code",
      "execution_count": 117,
      "outputs": [],
      "source": [
        "# # Подготовка данных\n",
        "image_paths = sorted(os.listdir(data_dir + images_dir))"
      ],
      "metadata": {
        "ExecuteTime": {
          "end_time": "2023-12-09T17:31:47.063987100Z",
          "start_time": "2023-12-09T17:31:47.056756986Z"
        },
        "id": "g_aP5-2o-B6_"
      }
    },
    {
      "cell_type": "code",
      "execution_count": 118,
      "outputs": [
        {
          "output_type": "stream",
          "name": "stdout",
          "text": [
            "['1.png', '10.png', '100.png', '101.png', '102.png', '103.png', '104.png', '105.png', '106.png', '107.png', '108.png', '109.png', '11.png', '110.png', '111.png', '112.png', '113.png', '114.png', '115.png', '116.png', '117.png', '118.png', '119.png', '12.png', '120.png', '121.png', '122.png', '123.png', '124.png', '125.png', '126.png', '127.png', '128.png', '129.png', '13.png', '130.png', '131.png', '132.png', '133.png', '134.png', '135.png', '136.png', '137.png', '138.png', '139.png', '14.png', '140.png', '141.png', '142.png', '143.png', '144.png', '145.png', '146.png', '147.png', '148.png', '149.png', '15.png', '150.png', '151.png', '152.png', '153.png', '154.png', '155.png', '156.png', '157.png', '158.png', '159.png', '16.png', '160.png', '161.png', '162.png', '163.png', '164.png', '165.png', '166.png', '167.png', '168.png', '169.png', '17.png', '170.png', '171.png', '172.png', '173.png', '174.png', '175.png', '176.png', '177.png', '178.png', '179.png', '18.png', '180.png', '181.png', '182.png', '183.png', '184.png', '185.png', '186.png', '187.png', '188.png', '189.png', '19.png', '190.png', '191.png', '192.png', '193.png', '194.png', '195.png', '196.png', '197.png', '198.png', '199.png', '2.png', '20.png', '200.png', '201.png', '202.png', '203.png', '204.png', '205.png', '206.png', '207.png', '208.png', '209.png', '21.png', '210.png', '211.png', '212.png', '213.png', '214.png', '215.png', '216.png', '217.png', '218.png', '219.png', '22.png', '220.png', '221.png', '222.png', '223.png', '224.png', '225.png', '226.png', '227.png', '228.png', '229.png', '23.png', '230.png', '231.png', '232.png', '233.png', '234.png', '235.png', '236.png', '237.png', '238.png', '239.png', '24.png', '240.png', '241.png', '242.png', '243.png', '244.png', '245.png', '246.png', '247.png', '248.png', '249.png', '25.png', '250.png', '251.png', '252.png', '253.png', '254.png', '255.png', '256.png', '257.png', '258.png', '259.png', '26.png', '260.png', '261.png', '262.png', '263.png', '264.png', '265.png', '266.png', '267.png', '268.png', '269.png', '27.png', '270.png', '271.png', '272.png', '273.png', '274.png', '275.png', '276.png', '277.png', '278.png', '279.png', '28.png', '280.png', '281.png', '282.png', '283.png', '284.png', '285.png', '286.png', '287.png', '288.png', '289.png', '29.png', '290.png', '291.png', '292.png', '293.png', '294.png', '295.png', '296.png', '297.png', '298.png', '299.png', '3.png', '30.png', '300.png', '301.png', '302.png', '303.png', '304.png', '305.png', '306.png', '307.png', '308.png', '309.png', '31.png', '310.png', '311.png', '312.png', '313.png', '314.png', '315.png', '316.png', '317.png', '318.png', '319.png', '32.png', '320.png', '321.png', '322.png', '323.png', '324.png', '325.png', '326.png', '327.png', '328.png', '329.png', '33.png', '330.png', '331.png', '332.png', '333.png', '334.png', '335.png', '336.png', '337.png', '338.png', '339.png', '34.png', '340.png', '341.png', '342.png', '343.png', '344.png', '345.png', '346.png', '347.png', '348.png', '349.png', '35.png', '350.png', '351.png', '352.png', '353.png', '354.png', '355.png', '356.png', '357.png', '358.png', '359.png', '36.png', '360.png', '361.png', '362.png', '363.png', '364.png', '365.png', '366.png', '367.png', '368.png', '369.png', '37.png', '370.png', '371.png', '372.png', '373.png', '374.png', '375.png', '376.png', '377.png', '378.png', '379.png', '38.png', '380.png', '381.png', '382.png', '383.png', '384.png', '385.png', '386.png', '387.png', '388.png', '389.png', '39.png', '390.png', '391.png', '392.png', '393.png', '394.png', '395.png', '396.png', '397.png', '398.png', '399.png', '4.png', '40.png', '400.png', '401.png', '402.png', '403.png', '404.png', '405.png', '406.png', '407.png', '408.png', '409.png', '41.png', '410.png', '411.png', '412.png', '413.png', '414.png', '415.png', '416.png', '417.png', '418.png', '419.png', '42.png', '420.png', '421.png', '422.png', '423.png', '424.png', '425.png', '426.png', '427.png', '428.png', '429.png', '43.png', '430.png', '431.png', '432.png', '433.png', '434.png', '435.png', '436.png', '437.png', '438.png', '439.png', '44.png', '440.png', '441.png', '442.png', '443.png', '444.png', '445.png', '446.png', '447.png', '448.png', '449.png', '45.png', '450.png', '451.png', '452.png', '453.png', '454.png', '455.png', '456.png', '457.png', '458.png', '459.png', '46.png', '460.png', '461.png', '462.png', '463.png', '464.png', '465.png', '466.png', '467.png', '468.png', '469.png', '47.png', '470.png', '471.png', '472.png', '473.png', '474.png', '475.png', '476.png', '477.png', '478.png', '479.png', '48.png', '480.png', '481.png', '482.png', '483.png', '484.png', '485.png', '486.png', '487.png', '488.png', '489.png', '49.png', '490.png', '491.png', '492.png', '493.png', '494.png', '495.png', '496.png', '497.png', '498.png', '499.png', '5.png', '50.png', '500.png', '501.png', '502.png', '503.png', '504.png', '505.png', '506.png', '507.png', '508.png', '509.png', '51.png', '510.png', '511.png', '512.png', '513.png', '514.png', '515.png', '516.png', '517.png', '518.png', '519.png', '52.png', '520.png', '521.png', '522.png', '523.png', '524.png', '525.png', '526.png', '527.png', '528.png', '529.png', '53.png', '530.png', '531.png', '532.png', '533.png', '534.png', '535.png', '536.png', '537.png', '538.png', '539.png', '54.png', '540.png', '541.png', '542.png', '543.png', '544.png', '545.png', '546.png', '547.png', '548.png', '549.png', '55.png', '550.png', '551.png', '552.png', '553.png', '554.png', '555.png', '556.png', '557.png', '558.png', '559.png', '56.png', '560.png', '561.png', '562.png', '563.png', '564.png', '565.png', '566.png', '567.png', '568.png', '569.png', '57.png', '570.png', '571.png', '572.png', '573.png', '574.png', '575.png', '576.png', '577.png', '578.png', '579.png', '58.png', '580.png', '581.png', '582.png', '583.png', '584.png', '585.png', '586.png', '587.png', '588.png', '589.png', '59.png', '590.png', '591.png', '592.png', '593.png', '594.png', '595.png', '596.png', '597.png', '598.png', '6.png', '60.png', '61.png', '62.png', '63.png', '64.png', '65.png', '66.png', '67.png', '68.png', '69.png', '7.png', '70.png', '71.png', '72.png', '73.png', '74.png', '75.png', '76.png', '77.png', '78.png', '79.png', '8.png', '80.png', '81.png', '82.png', '83.png', '84.png', '85.png', '86.png', '87.png', '88.png', '89.png', '9.png', '90.png', '91.png', '92.png', '93.png', '94.png', '95.png', '96.png', '97.png', '98.png', '99.png']\n"
          ]
        }
      ],
      "source": [
        "print(image_paths)"
      ],
      "metadata": {
        "ExecuteTime": {
          "end_time": "2023-12-09T17:31:47.541603893Z",
          "start_time": "2023-12-09T17:31:47.537787767Z"
        },
        "colab": {
          "base_uri": "https://localhost:8080/"
        },
        "id": "NkcKblBG-B7A",
        "outputId": "baafcfa5-6e91-40c8-91b8-aba0fed1faad"
      }
    },
    {
      "cell_type": "code",
      "execution_count": 119,
      "outputs": [
        {
          "output_type": "stream",
          "name": "stdout",
          "text": [
            "Train samples: 358\n",
            "Valid samples: 120\n",
            "Test samples: 120\n"
          ]
        }
      ],
      "source": [
        "from sklearn.model_selection import train_test_split\n",
        "\n",
        "# Разделение данных на обучающую, валидационную и тестовую выборки\n",
        "train_paths, test_paths = train_test_split(image_paths, test_size=0.2, random_state=42)\n",
        "train_paths, valid_paths = train_test_split(train_paths, test_size=0.25, random_state=42)  # 0.25 * 0.8 = 0.2\n",
        "\n",
        "# Проверка размеров выборок\n",
        "print(\"Train samples:\", len(train_paths))\n",
        "print(\"Valid samples:\", len(valid_paths))\n",
        "print(\"Test samples:\", len(test_paths))"
      ],
      "metadata": {
        "ExecuteTime": {
          "end_time": "2023-12-09T17:31:50.734029077Z",
          "start_time": "2023-12-09T17:31:50.711396595Z"
        },
        "colab": {
          "base_uri": "https://localhost:8080/"
        },
        "id": "SIazrOok-B7A",
        "outputId": "1d8ad03a-c8a3-4066-be1e-b4caf44cc7d5"
      }
    },
    {
      "cell_type": "code",
      "execution_count": 120,
      "outputs": [],
      "source": [
        "train_images = [load_image(image_path) for image_path in train_paths]\n",
        "train_masks = [load_mask(mask_path) for mask_path in train_paths]\n",
        "train_images = np.array(train_images)\n",
        "train_masks = np.array(train_masks)"
      ],
      "metadata": {
        "ExecuteTime": {
          "end_time": "2023-12-09T17:31:51.949852051Z",
          "start_time": "2023-12-09T17:31:51.037635672Z"
        },
        "id": "N75Ubwyp-B7A"
      }
    },
    {
      "cell_type": "code",
      "execution_count": 121,
      "outputs": [],
      "source": [
        "valid_images = [load_image(image_path) for image_path in valid_paths]\n",
        "valid_masks = [load_mask(mask_path) for mask_path in valid_paths]\n",
        "valid_images = np.array(valid_images)\n",
        "valid_masks = np.array(valid_masks)"
      ],
      "metadata": {
        "ExecuteTime": {
          "end_time": "2023-12-09T17:31:52.224873217Z",
          "start_time": "2023-12-09T17:31:51.951017122Z"
        },
        "id": "Nh_SxOO1-B7B"
      }
    },
    {
      "cell_type": "code",
      "execution_count": 122,
      "outputs": [],
      "source": [
        "test_images = [load_image(image_path) for image_path in test_paths]\n",
        "test_masks = [load_mask(mask_path) for mask_path in test_paths]\n",
        "test_images = np.array(test_images)\n",
        "test_masks = np.array(test_masks)"
      ],
      "metadata": {
        "ExecuteTime": {
          "end_time": "2023-12-09T17:31:52.502350446Z",
          "start_time": "2023-12-09T17:31:52.265328792Z"
        },
        "id": "2eibI7uV-B7B"
      }
    },
    {
      "cell_type": "code",
      "execution_count": 123,
      "outputs": [],
      "source": [
        "\n",
        "def unet_test_model(classes: int = 1):\n",
        "    tf.keras.backend.clear_session()\n",
        "    nb_filter = [32, 64, 128, 256, 512]\n",
        "    # Build U-Net++ model\n",
        "    inputs = Input((WIDTH, HEIGHT, 3))\n",
        "    s = Lambda(lambda x: x / 255)(inputs)\n",
        "\n",
        "    c1 = Conv2D(32, (3, 3), activation='elu', kernel_initializer='he_normal', padding='same')(s)\n",
        "    c1 = Dropout(0.5)(c1)\n",
        "    c1 = Conv2D(32, (3, 3), activation='elu', kernel_initializer='he_normal', padding='same')(c1)\n",
        "    c1 = Dropout(0.5)(c1)\n",
        "    p1 = MaxPooling2D((2, 2), strides=(2, 2))(c1)\n",
        "\n",
        "    c2 = Conv2D(64, (3, 3), activation='elu', kernel_initializer='he_normal', padding='same')(p1)\n",
        "    c2 = Dropout(0.5)(c2)\n",
        "    c2 = Conv2D(64, (3, 3), activation='elu', kernel_initializer='he_normal', padding='same')(c2)\n",
        "    c2 = Dropout(0.5)(c2)\n",
        "    p2 = MaxPooling2D((2, 2), strides=(2, 2))(c2)\n",
        "\n",
        "    up1_2 = Conv2DTranspose(nb_filter[0], (2, 2), strides=(2, 2), name='up12', padding='same')(c2)\n",
        "    conv1_2 = concatenate([up1_2, c1], name='merge12', axis=3)\n",
        "    c3 = Conv2D(32, (3, 3), activation='elu', kernel_initializer='he_normal', padding='same')(conv1_2)\n",
        "    c3 = Dropout(0.5)(c3)\n",
        "    c3 = Conv2D(32, (3, 3), activation='elu', kernel_initializer='he_normal', padding='same')(c3)\n",
        "    c3 = Dropout(0.5)(c3)\n",
        "\n",
        "    conv3_1 = Conv2D(128, (3, 3), activation='elu', kernel_initializer='he_normal', padding='same')(p2)\n",
        "    conv3_1 = Dropout(0.5)(conv3_1)\n",
        "    conv3_1 = Conv2D(128, (3, 3), activation='elu', kernel_initializer='he_normal', padding='same')(conv3_1)\n",
        "    conv3_1 = Dropout(0.5)(conv3_1)\n",
        "    pool3 = MaxPooling2D((2, 2), strides=(2, 2), name='pool3')(conv3_1)\n",
        "\n",
        "    up2_2 = Conv2DTranspose(nb_filter[1], (2, 2), strides=(2, 2), name='up22', padding='same')(conv3_1)\n",
        "    conv2_2 = concatenate([up2_2, c2], name='merge22', axis=3)  #x10\n",
        "    conv2_2 = Conv2D(64, (3, 3), activation='elu', kernel_initializer='he_normal', padding='same')(conv2_2)\n",
        "    conv2_2 = Dropout(0.5)(conv2_2)\n",
        "    conv2_2 = Conv2D(64, (3, 3), activation='elu', kernel_initializer='he_normal', padding='same')(conv2_2)\n",
        "    conv2_2 = Dropout(0.5)(conv2_2)\n",
        "\n",
        "    up1_3 = Conv2DTranspose(nb_filter[0], (2, 2), strides=(2, 2), name='up13', padding='same')(conv2_2)\n",
        "    conv1_3 = concatenate([up1_3, c1, c3], name='merge13', axis=3)\n",
        "    conv1_3 = Conv2D(32, (3, 3), activation='elu', kernel_initializer='he_normal', padding='same')(conv1_3)\n",
        "    conv1_3 = Dropout(0.5)(conv1_3)\n",
        "    conv1_3 = Conv2D(32, (3, 3), activation='elu', kernel_initializer='he_normal', padding='same')(conv1_3)\n",
        "    conv1_3 = Dropout(0.5)(conv1_3)\n",
        "\n",
        "    conv4_1 = Conv2D(256, (3, 3), activation='elu', kernel_initializer='he_normal', padding='same')(pool3)\n",
        "    conv4_1 = Dropout(0.5)(conv4_1)\n",
        "    conv4_1 = Conv2D(256, (3, 3), activation='elu', kernel_initializer='he_normal', padding='same')(conv4_1)\n",
        "    conv4_1 = Dropout(0.5)(conv4_1)\n",
        "    pool4 = MaxPooling2D((2, 2), strides=(2, 2), name='pool4')(conv4_1)\n",
        "\n",
        "    up3_2 = Conv2DTranspose(nb_filter[2], (2, 2), strides=(2, 2), name='up32', padding='same')(conv4_1)\n",
        "    conv3_2 = concatenate([up3_2, conv3_1], name='merge32', axis=3)  #x20\n",
        "    conv3_2 = Conv2D(128, (3, 3), activation='elu', kernel_initializer='he_normal', padding='same')(conv3_2)\n",
        "    conv3_2 = Dropout(0.5)(conv3_2)\n",
        "    conv3_2 = Conv2D(128, (3, 3), activation='elu', kernel_initializer='he_normal', padding='same')(conv3_2)\n",
        "    conv3_2 = Dropout(0.5)(conv3_2)\n",
        "\n",
        "    up2_3 = Conv2DTranspose(nb_filter[1], (2, 2), strides=(2, 2), name='up23', padding='same')(conv3_2)\n",
        "    conv2_3 = concatenate([up2_3, c2, conv2_2], name='merge23', axis=3)\n",
        "    conv2_3 = Conv2D(64, (3, 3), activation='elu', kernel_initializer='he_normal', padding='same')(conv2_3)\n",
        "    conv2_3 = Dropout(0.5)(conv2_3)\n",
        "    conv2_3 = Conv2D(64, (3, 3), activation='elu', kernel_initializer='he_normal', padding='same')(conv2_3)\n",
        "    conv2_3 = Dropout(0.5)(conv2_3)\n",
        "\n",
        "    up1_4 = Conv2DTranspose(nb_filter[0], (2, 2), strides=(2, 2), name='up14', padding='same')(conv2_3)\n",
        "    conv1_4 = concatenate([up1_4, c1, c3, conv1_3], name='merge14', axis=3)\n",
        "    conv1_4 = Conv2D(32, (3, 3), activation='elu', kernel_initializer='he_normal', padding='same')(conv1_4)\n",
        "    conv1_4 = Dropout(0.5)(conv1_4)\n",
        "    conv1_4 = Conv2D(32, (3, 3), activation='elu', kernel_initializer='he_normal', padding='same')(conv1_4)\n",
        "    conv1_4 = Dropout(0.5)(conv1_4)\n",
        "\n",
        "    conv5_1 = Conv2D(512, (3, 3), activation='elu', kernel_initializer='he_normal', padding='same')(pool4)\n",
        "    conv5_1 = Dropout(0.5)(conv5_1)\n",
        "    conv5_1 = Conv2D(512, (3, 3), activation='elu', kernel_initializer='he_normal', padding='same')(conv5_1)\n",
        "    conv5_1 = Dropout(0.5)(conv5_1)\n",
        "\n",
        "    up4_2 = Conv2DTranspose(nb_filter[3], (2, 2), strides=(2, 2), name='up42', padding='same')(conv5_1)\n",
        "    conv4_2 = concatenate([up4_2, conv4_1], name='merge42', axis=3)  #x30\n",
        "    conv4_2 = Conv2D(256, (3, 3), activation='elu', kernel_initializer='he_normal', padding='same')(conv4_2)\n",
        "    conv4_2 = Dropout(0.5)(conv4_2)\n",
        "    conv4_2 = Conv2D(256, (3, 3), activation='elu', kernel_initializer='he_normal', padding='same')(conv4_2)\n",
        "    conv4_2 = Dropout(0.5)(conv4_2)\n",
        "\n",
        "    up3_3 = Conv2DTranspose(nb_filter[2], (2, 2), strides=(2, 2), name='up33', padding='same')(conv4_2)\n",
        "    conv3_3 = concatenate([up3_3, conv3_1, conv3_2], name='merge33', axis=3)\n",
        "    conv3_3 = Conv2D(128, (3, 3), activation='elu', kernel_initializer='he_normal', padding='same')(conv3_3)\n",
        "    conv3_3 = Dropout(0.5)(conv3_3)\n",
        "    conv3_3 = Conv2D(128, (3, 3), activation='elu', kernel_initializer='he_normal', padding='same')(conv3_3)\n",
        "    conv3_3 = Dropout(0.5)(conv3_3)\n",
        "\n",
        "    up2_4 = Conv2DTranspose(nb_filter[1], (2, 2), strides=(2, 2), name='up24', padding='same')(conv3_3)\n",
        "    conv2_4 = concatenate([up2_4, c2, conv2_2, conv2_3], name='merge24', axis=3)\n",
        "    conv2_4 = Conv2D(64, (3, 3), activation='elu', kernel_initializer='he_normal', padding='same')(conv2_4)\n",
        "    conv2_4 = Dropout(0.5)(conv2_4)\n",
        "    conv2_4 = Conv2D(64, (3, 3), activation='elu', kernel_initializer='he_normal', padding='same')(conv2_4)\n",
        "    conv2_4 = Dropout(0.5)(conv2_4)\n",
        "\n",
        "    up1_5 = Conv2DTranspose(nb_filter[0], (2, 2), strides=(2, 2), name='up15', padding='same')(conv2_4)\n",
        "    conv1_5 = concatenate([up1_5, c1, c3, conv1_3, conv1_4], name='merge15', axis=3)\n",
        "    conv1_5 = Conv2D(32, (3, 3), activation='elu', kernel_initializer='he_normal', padding='same')(conv1_5)\n",
        "    conv1_5 = Dropout(0.5)(conv1_5)\n",
        "    conv1_5 = Conv2D(32, (3, 3), activation='elu', kernel_initializer='he_normal', padding='same')(conv1_5)\n",
        "    conv1_5 = Dropout(0.5)(conv1_5)\n",
        "\n",
        "    nestnet_output_4 = Conv2D(classes, (1, 1), activation='sigmoid', kernel_initializer='he_normal', name='output_4',\n",
        "                              padding='same')(conv1_5)\n",
        "    # output = Conv2D(\n",
        "    #     filters=classes,\n",
        "    #     kernel_size=(3, 3),\n",
        "    #     padding='same',\n",
        "    #     activation='softmax',\n",
        "    #     use_bias=True,\n",
        "    #     kernel_initializer='glorot_uniform',\n",
        "    #     name='final_conv',\n",
        "    # )(nestnet_output_4)\n",
        "\n",
        "    # create keras model instance\n",
        "    return Model(inputs=[inputs], outputs=\n",
        "    [nestnet_output_4])\n"
      ],
      "metadata": {
        "ExecuteTime": {
          "end_time": "2023-12-09T17:37:46.485640854Z",
          "start_time": "2023-12-09T17:37:46.440392427Z"
        },
        "id": "ROQ4PVJj-B7B"
      }
    },
    {
      "cell_type": "code",
      "execution_count": 124,
      "outputs": [],
      "source": [
        "LR = 0.0001\n",
        "\n",
        "\n",
        "def dice_coef(y_true, y_pred):\n",
        "    smooth = 1.\n",
        "    y_true_f = K.flatten(y_true)\n",
        "    y_pred_f = K.flatten(y_pred)\n",
        "    intersection = K.sum(y_true_f * y_pred_f)\n",
        "    return (2. * intersection + smooth) / (K.sum(y_true_f) + K.sum(y_pred_f) + smooth)\n",
        "\n",
        "\n",
        "def bce_dice_loss(y_true, y_pred):\n",
        "    return 0.5 * tf.keras.losses.binary_crossentropy(y_true, y_pred) - dice_coef(y_true, y_pred)"
      ],
      "metadata": {
        "ExecuteTime": {
          "end_time": "2023-12-09T17:37:47.364145452Z",
          "start_time": "2023-12-09T17:37:47.352842529Z"
        },
        "id": "fyutaLiH-B7C"
      }
    },
    {
      "cell_type": "code",
      "source": [
        "import numpy as np\n",
        "\n",
        "# Assuming you have a NumPy array called `arr` with shape [?, 256, 256]\n",
        "arr = np.random.random([2, 3, 4])  # Example array\n",
        "\n",
        "# Reshape the array to [?, 3, 4, 1]\n",
        "reshaped_arr = np.reshape(arr, (arr.shape[0], arr.shape[1], arr.shape[2], 1))\n",
        "print(arr)\n",
        "print(reshaped_arr)"
      ],
      "metadata": {
        "id": "DAJGfqplL51_",
        "outputId": "62f7b078-5b85-45ac-9054-d564ae8693c2",
        "colab": {
          "base_uri": "https://localhost:8080/"
        }
      },
      "execution_count": 125,
      "outputs": [
        {
          "output_type": "stream",
          "name": "stdout",
          "text": [
            "[[[0.74543064 0.22634383 0.98927551 0.34800355]\n",
            "  [0.86158893 0.65941974 0.65140386 0.56489983]\n",
            "  [0.31222949 0.51311137 0.99695962 0.19563963]]\n",
            "\n",
            " [[0.01434721 0.47676942 0.75012462 0.47053108]\n",
            "  [0.6465039  0.60908979 0.43289791 0.75904716]\n",
            "  [0.98243139 0.26966165 0.87300977 0.63899997]]]\n",
            "[[[[0.74543064]\n",
            "   [0.22634383]\n",
            "   [0.98927551]\n",
            "   [0.34800355]]\n",
            "\n",
            "  [[0.86158893]\n",
            "   [0.65941974]\n",
            "   [0.65140386]\n",
            "   [0.56489983]]\n",
            "\n",
            "  [[0.31222949]\n",
            "   [0.51311137]\n",
            "   [0.99695962]\n",
            "   [0.19563963]]]\n",
            "\n",
            "\n",
            " [[[0.01434721]\n",
            "   [0.47676942]\n",
            "   [0.75012462]\n",
            "   [0.47053108]]\n",
            "\n",
            "  [[0.6465039 ]\n",
            "   [0.60908979]\n",
            "   [0.43289791]\n",
            "   [0.75904716]]\n",
            "\n",
            "  [[0.98243139]\n",
            "   [0.26966165]\n",
            "   [0.87300977]\n",
            "   [0.63899997]]]]\n"
          ]
        }
      ]
    },
    {
      "cell_type": "code",
      "execution_count": 126,
      "outputs": [],
      "source": [
        "from keras.losses import binary_crossentropy\n",
        "import keras.backend as K\n",
        "\n",
        "\n",
        "def dice_coeff(y_true, y_pred):\n",
        "    smooth = 1.\n",
        "    y_true_f = K.flatten(y_true)\n",
        "    y_pred_f = K.flatten(y_pred)\n",
        "    intersection = K.sum(y_true_f * y_pred_f)\n",
        "    score = (2. * intersection + smooth) / (K.sum(y_true_f) + K.sum(y_pred_f) + smooth)\n",
        "    return score\n",
        "\n",
        "\n",
        "def dice_loss(y_true, y_pred):\n",
        "    loss = 1 - dice_coeff(y_true, y_pred)\n",
        "    return loss\n",
        "\n",
        "\n",
        "def bce_dice_loss(y_true, y_pred):\n",
        "    loss = binary_crossentropy(y_true, y_pred) + dice_loss(y_true, y_pred)\n",
        "    return loss\n",
        "\n",
        "\n",
        "def weighted_dice_coeff(y_true, y_pred, weight):\n",
        "    smooth = 1.\n",
        "    w, m1, m2 = weight * weight, y_true, y_pred\n",
        "    intersection = (m1 * m2)\n",
        "    score = (2. * K.sum(w * intersection) + smooth) / (K.sum(w * m1) + K.sum(w * m2) + smooth)\n",
        "    return score\n",
        "\n",
        "\n",
        "def weighted_dice_loss(y_true, y_pred):\n",
        "    y_true = K.cast(y_true, 'float32')\n",
        "    y_pred = K.cast(y_pred, 'float32')\n",
        "    # if we want to get same size of output, kernel size must be odd number\n",
        "    if K.int_shape(y_pred)[1] == 128:\n",
        "        kernel_size = 11\n",
        "    elif K.int_shape(y_pred)[1] == 256:\n",
        "        kernel_size = 21\n",
        "    elif K.int_shape(y_pred)[1] == 512:\n",
        "        kernel_size = 21\n",
        "    elif K.int_shape(y_pred)[1] == 1024:\n",
        "        kernel_size = 41\n",
        "    else:\n",
        "        raise ValueError('Unexpected image size')\n",
        "    print(kernel_size)\n",
        "    averaged_mask = K.pool2d(\n",
        "        y_true, pool_size=(kernel_size, kernel_size), strides=(1, 1), padding='same', pool_mode='avg')\n",
        "    border = K.cast(K.greater(averaged_mask, 0.005), 'float32') * K.cast(K.less(averaged_mask, 0.995), 'float32')\n",
        "    weight = K.ones_like(averaged_mask)\n",
        "    w0 = K.sum(weight)\n",
        "    weight += border * 2\n",
        "    w1 = K.sum(weight)\n",
        "    weight *= (w0 / w1)\n",
        "    loss = 1 - weighted_dice_coeff(y_true, y_pred, weight)\n",
        "    return loss\n",
        "\n",
        "\n",
        "def weighted_bce_loss(y_true, y_pred, weight=0.5):\n",
        "    # avoiding overflow\n",
        "    epsilon = 1e-7\n",
        "    y_pred = K.clip(y_pred, epsilon, 1. - epsilon)\n",
        "    logit_y_pred = K.log(y_pred / (1. - y_pred))\n",
        "\n",
        "    # https://www.tensorflow.org/api_docs/python/tf/nn/weighted_cross_entropy_with_logits\n",
        "    loss = (1. - y_true) * logit_y_pred + (1. + (weight - 1.) * y_true) * \\\n",
        "           (K.log(1. + K.exp(-K.abs(logit_y_pred))) + K.maximum(-logit_y_pred, 0.))\n",
        "    return K.sum(loss) / K.sum(weight)\n",
        "\n",
        "\n",
        "import tensorflow.keras.backend as K\n",
        "\n",
        "def weighted_bce_dice_loss(y_true, y_pred):\n",
        "    y_true = K.cast(y_true, 'float32')\n",
        "    y_pred = K.cast(y_pred, 'float32')\n",
        "    # Expand dimensions of y_true and y_pred\n",
        "    y_true = K.expand_dims(y_true, axis=-1)\n",
        "    y_pred = K.expand_dims(y_pred, axis=-1)\n",
        "\n",
        "    # Остальной код функции...\n",
        "    if K.int_shape(y_pred)[1] == 128:\n",
        "        kernel_size = 11\n",
        "    elif K.int_shape(y_pred)[1] == 256:\n",
        "        kernel_size = 21\n",
        "    elif K.int_shape(y_pred)[1] == 512:\n",
        "        kernel_size = 21\n",
        "    elif K.int_shape(y_pred)[1] == 1024:\n",
        "        kernel_size = 41\n",
        "    else:\n",
        "        raise ValueError('Unexpected image size')\n",
        "    averaged_mask = K.pool2d(\n",
        "        y_true, pool_size=(kernel_size, kernel_size), strides=(1, 1), padding='same', pool_mode='avg')\n",
        "\n",
        "    border = K.cast(K.greater(averaged_mask, 0.005), 'float32') * K.cast(K.less(averaged_mask, 0.995), 'float32')\n",
        "    weight = K.ones_like(averaged_mask)\n",
        "    w0 = K.sum(weight)\n",
        "    weight += border * 2\n",
        "    w1 = K.sum(weight)\n",
        "    weight *= (w0 / w1)\n",
        "    loss = weighted_bce_loss(y_true, y_pred, weight) + (1 - weighted_dice_coeff(y_true, y_pred, weight))\n",
        "    return loss"
      ],
      "metadata": {
        "ExecuteTime": {
          "end_time": "2023-12-09T17:37:49.520521902Z",
          "start_time": "2023-12-09T17:37:49.491608586Z"
        },
        "id": "OJ05eutz-B7D"
      }
    },
    {
      "cell_type": "code",
      "source": [],
      "metadata": {
        "id": "0fNcTtci5i5t"
      },
      "execution_count": 126,
      "outputs": []
    },
    {
      "cell_type": "code",
      "source": [],
      "metadata": {
        "id": "B_UFxye16VD0"
      },
      "execution_count": 126,
      "outputs": []
    },
    {
      "cell_type": "code",
      "source": [
        "import tensorflow as tf\n",
        "\n",
        "# Определение метрики IoU\n",
        "def iou(y_true, y_pred):\n",
        "    intersection = tf.reduce_sum(y_true * y_pred)\n",
        "    union = tf.reduce_sum(y_true) + tf.reduce_sum(y_pred) - intersection\n",
        "    iou_score = intersection / (union + tf.keras.backend.epsilon())\n",
        "    return iou_score\n",
        "\n",
        "# Определение метрики Pixel Accuracy\n",
        "def pixel_accuracy(y_true, y_pred):\n",
        "    return tf.reduce_mean(tf.cast(tf.equal(y_true, tf.round(y_pred)), tf.float32))\n",
        "\n",
        "# Определение метрики Dice Score\n",
        "def dice_score(y_true, y_pred):\n",
        "    intersection = tf.reduce_sum(y_true * y_pred)\n",
        "    dice = (2.0 * intersection) / (tf.reduce_sum(y_true) + tf.reduce_sum(y_pred) + tf.keras.backend.epsilon())\n",
        "    return dice\n",
        "\n",
        "# Создание списка обратных вызовов с метриками\n",
        "callbacks_list = [\n",
        "    tf.keras.callbacks.ModelCheckpoint(filepath='model.h5', save_best_only=True),\n",
        "    tf.keras.callbacks.EarlyStopping(patience=3),\n",
        "    tf.keras.callbacks.TensorBoard(log_dir='logs'),\n",
        "    tf.keras.callbacks.LambdaCallback(on_epoch_end=lambda epoch, logs: print(f\"IoU: {logs['iou']} - Pixel Accuracy: {logs['pixel_accuracy']} - Dice Score: {logs['dice_score']}\"))\n",
        "]\n"
      ],
      "metadata": {
        "id": "PM6cFHY-6S5A"
      },
      "execution_count": 127,
      "outputs": []
    },
    {
      "cell_type": "code",
      "execution_count": 128,
      "outputs": [],
      "source": [
        "import tensorflow as tf\n",
        "from tensorflow.keras.metrics import IoU\n",
        "\n",
        "model = unet_test_model(CLASSES)\n",
        "model.compile(\n",
        "              optimizer=tf.keras.optimizers.Adam(learning_rate=LR),\n",
        "              loss=weighted_bce_dice_loss,\n",
        "              metrics=[iou, pixel_accuracy, dice_score],\n",
        "            )"
      ],
      "metadata": {
        "ExecuteTime": {
          "end_time": "2023-12-09T17:37:58.599558858Z",
          "start_time": "2023-12-09T17:37:57.757809607Z"
        },
        "id": "lfAvKpw9-B7D"
      }
    },
    {
      "cell_type": "code",
      "source": [
        "NUM_EPOCHS=10"
      ],
      "metadata": {
        "id": "fL3SUBJy9xKa"
      },
      "execution_count": 129,
      "outputs": []
    },
    {
      "cell_type": "code",
      "source": [],
      "metadata": {
        "id": "cKuvVPnLBT83"
      },
      "execution_count": 129,
      "outputs": []
    },
    {
      "cell_type": "code",
      "source": [
        "import matplotlib.pyplot as plt\n",
        "import pandas as pd\n",
        "\n",
        "# Обучение модели\n",
        "history = model.fit(train_images,\n",
        "                    train_masks,\n",
        "                    validation_data=(valid_images, valid_masks),\n",
        "                    steps_per_epoch=len(train_images)/(6),\n",
        "                    validation_steps=10,\n",
        "                    epochs=NUM_EPOCHS,\n",
        "                    batch_size=8,\n",
        "                    callbacks=callbacks_list)\n"
      ],
      "metadata": {
        "colab": {
          "base_uri": "https://localhost:8080/"
        },
        "id": "wCLKfSpH9Hh6",
        "outputId": "9b9c2de4-7c1d-45a0-c780-72e9f2c3839b"
      },
      "execution_count": 130,
      "outputs": [
        {
          "output_type": "stream",
          "name": "stdout",
          "text": [
            "Epoch 1/10\n",
            "60/59 [==============================] - ETA: 0s - loss: 2.1301 - iou: 0.1237 - pixel_accuracy: 0.6277 - dice_score: 0.2182"
          ]
        },
        {
          "output_type": "stream",
          "name": "stderr",
          "text": [
            "/usr/local/lib/python3.10/dist-packages/keras/src/engine/training.py:3103: UserWarning: You are saving your model as an HDF5 file via `model.save()`. This file format is considered legacy. We recommend using instead the native Keras format, e.g. `model.save('my_model.keras')`.\n",
            "  saving_api.save_model(\n"
          ]
        },
        {
          "output_type": "stream",
          "name": "stdout",
          "text": [
            "IoU: 0.12372903525829315 - Pixel Accuracy: 0.6277341246604919 - Dice Score: 0.21816517412662506\n",
            "\b\b\b\b\b\b\b\b\b\b\b\b\b\b\b\b\b\b\b\b\b\b\b\b\b\b\b\b\b\b\b\b\b\b\b\b\b\b\b\b\b\b\b\b\b\b\b\b\b\b\b\b\b\b\b\b\b\b\b\b\b\b\b\b\b\b\b\b\b\b\b\b\b\b\b\b\b\b\b\b\b\b\b\b\b\b\b\b\b\b\b\b\b\b\b\b\b\b\b\b\b\b\b\b\b\b\b\b\b\b\b\b\b\b\b\b\b\b\b\b\b\b\b\r59/59 [==============================] - 60s 633ms/step - loss: 2.1301 - iou: 0.1237 - pixel_accuracy: 0.6277 - dice_score: 0.2182 - val_loss: 0.8365 - val_iou: 0.3013 - val_pixel_accuracy: 0.7946 - val_dice_score: 0.4625\n",
            "Epoch 2/10\n",
            "60/59 [==============================] - ETA: 0s - loss: 1.0960 - iou: 0.2583 - pixel_accuracy: 0.7993 - dice_score: 0.4097IoU: 0.25828713178634644 - Pixel Accuracy: 0.7993381023406982 - Dice Score: 0.4096735119819641\n",
            "59/59 [==============================] - 37s 620ms/step - loss: 1.0960 - iou: 0.2583 - pixel_accuracy: 0.7993 - dice_score: 0.4097 - val_loss: 0.7912 - val_iou: 0.3188 - val_pixel_accuracy: 0.8468 - val_dice_score: 0.4831\n",
            "Epoch 3/10\n",
            "60/59 [==============================] - ETA: 0s - loss: 0.9739 - iou: 0.2839 - pixel_accuracy: 0.8107 - dice_score: 0.4416IoU: 0.28388315439224243 - Pixel Accuracy: 0.8106575608253479 - Dice Score: 0.4416378140449524\n",
            "59/59 [==============================] - 36s 610ms/step - loss: 0.9739 - iou: 0.2839 - pixel_accuracy: 0.8107 - dice_score: 0.4416 - val_loss: 0.8015 - val_iou: 0.2958 - val_pixel_accuracy: 0.8731 - val_dice_score: 0.4564\n",
            "Epoch 4/10\n",
            "60/59 [==============================] - ETA: 0s - loss: 0.9118 - iou: 0.2940 - pixel_accuracy: 0.8162 - dice_score: 0.4535IoU: 0.2939533591270447 - Pixel Accuracy: 0.8161605000495911 - Dice Score: 0.4535212814807892\n",
            "59/59 [==============================] - 36s 599ms/step - loss: 0.9118 - iou: 0.2940 - pixel_accuracy: 0.8162 - dice_score: 0.4535 - val_loss: 0.7288 - val_iou: 0.3196 - val_pixel_accuracy: 0.8421 - val_dice_score: 0.4840\n",
            "Epoch 5/10\n",
            "60/59 [==============================] - ETA: 0s - loss: 0.8576 - iou: 0.3061 - pixel_accuracy: 0.8261 - dice_score: 0.4679IoU: 0.30609509348869324 - Pixel Accuracy: 0.8261039853096008 - Dice Score: 0.46786919236183167\n",
            "59/59 [==============================] - 36s 612ms/step - loss: 0.8576 - iou: 0.3061 - pixel_accuracy: 0.8261 - dice_score: 0.4679 - val_loss: 0.8150 - val_iou: 0.2970 - val_pixel_accuracy: 0.7645 - val_dice_score: 0.4574\n",
            "Epoch 6/10\n",
            "60/59 [==============================] - ETA: 0s - loss: 0.7922 - iou: 0.3452 - pixel_accuracy: 0.8413 - dice_score: 0.5123IoU: 0.3452318608760834 - Pixel Accuracy: 0.8413218855857849 - Dice Score: 0.5122681856155396\n",
            "59/59 [==============================] - 37s 619ms/step - loss: 0.7922 - iou: 0.3452 - pixel_accuracy: 0.8413 - dice_score: 0.5123 - val_loss: 0.6871 - val_iou: 0.3419 - val_pixel_accuracy: 0.8449 - val_dice_score: 0.5092\n",
            "Epoch 7/10\n",
            "60/59 [==============================] - ETA: 0s - loss: 0.7143 - iou: 0.3902 - pixel_accuracy: 0.8646 - dice_score: 0.5607IoU: 0.39024603366851807 - Pixel Accuracy: 0.8646467924118042 - Dice Score: 0.5606670379638672\n",
            "59/59 [==============================] - 36s 612ms/step - loss: 0.7143 - iou: 0.3902 - pixel_accuracy: 0.8646 - dice_score: 0.5607 - val_loss: 0.7141 - val_iou: 0.3751 - val_pixel_accuracy: 0.8383 - val_dice_score: 0.5450\n",
            "Epoch 8/10\n",
            "30/59 [==============>...............] - ETA: 16s - loss: 0.6748 - iou: 0.4216 - pixel_accuracy: 0.8745 - dice_score: 0.5921"
          ]
        },
        {
          "output_type": "stream",
          "name": "stderr",
          "text": [
            "WARNING:tensorflow:Your input ran out of data; interrupting training. Make sure that your dataset or generator can generate at least `steps_per_epoch * epochs` batches (in this case, 596.6666666666666 batches). You may need to use the repeat() function when building your dataset.\n"
          ]
        },
        {
          "output_type": "stream",
          "name": "stdout",
          "text": [
            "IoU: 0.4216063618659973 - Pixel Accuracy: 0.8745210766792297 - Dice Score: 0.5921304821968079\n",
            "\b\b\b\b\b\b\b\b\b\b\b\b\b\b\b\b\b\b\b\b\b\b\b\b\b\b\b\b\b\b\b\b\b\b\b\b\b\b\b\b\b\b\b\b\b\b\b\b\b\b\b\b\b\b\b\b\b\b\b\b\b\b\b\b\b\b\b\b\b\b\b\b\b\b\b\b\b\b\b\b\b\b\b\b\b\b\b\b\b\b\b\b\b\b\b\b\b\b\b\b\b\b\b\b\b\b\b\b\b\b\b\b\b\b\b\b\b\b\b\b\b\b\b\b\r59/59 [==============================] - 19s 314ms/step - loss: 0.6748 - iou: 0.4216 - pixel_accuracy: 0.8745 - dice_score: 0.5921 - val_loss: 0.6754 - val_iou: 0.3983 - val_pixel_accuracy: 0.8649 - val_dice_score: 0.5693\n"
          ]
        }
      ]
    },
    {
      "cell_type": "code",
      "source": [],
      "metadata": {
        "colab": {
          "base_uri": "https://localhost:8080/"
        },
        "id": "ttuDqgbCBU7G",
        "outputId": "e6cbad66-0624-4e71-95dd-4a03cf7c38bd"
      },
      "execution_count": null,
      "outputs": [
        {
          "output_type": "stream",
          "name": "stdout",
          "text": [
            "[0, 1, 2, 3, 4, 5, 6, 7, 8]\n"
          ]
        }
      ]
    },
    {
      "cell_type": "code",
      "execution_count": 131,
      "outputs": [
        {
          "output_type": "display_data",
          "data": {
            "text/plain": [
              "<Figure size 640x480 with 1 Axes>"
            ],
            "image/png": "[encoded data removed]"
          },
          "metadata": {}
        },
        {
          "output_type": "stream",
          "name": "stdout",
          "text": [
            "            IoU  Pixel Accuracy  Dice Score\n",
            "Epoch                                      \n",
            "0      0.123729        0.627734    0.218165\n",
            "1      0.258287        0.799338    0.409674\n",
            "2      0.283883        0.810658    0.441638\n",
            "3      0.293953        0.816161    0.453521\n",
            "4      0.306095        0.826104    0.467869\n",
            "5      0.345232        0.841322    0.512268\n",
            "6      0.390246        0.864647    0.560667\n",
            "7      0.421606        0.874521    0.592130\n"
          ]
        }
      ],
      "source": [
        "import matplotlib.pyplot as plt\n",
        "import pandas as pd\n",
        "# Получение данных обучения из объекта history\n",
        "loss = history.history['loss']\n",
        "val_loss = history.history['val_loss']\n",
        "iou = history.history['iou']\n",
        "pixel_accuracy = history.history['pixel_accuracy']\n",
        "dice_score = history.history['dice_score']\n",
        "\n",
        "# Построение графика функции потерь\n",
        "plt.plot(loss, label='Training Loss')\n",
        "plt.plot(val_loss, label='Validation Loss')\n",
        "plt.title('Loss')\n",
        "plt.xlabel('Epoch')\n",
        "plt.ylabel('Loss')\n",
        "plt.legend()\n",
        "plt.show()\n",
        "\n",
        "# Создание таблицы с метриками\n",
        "metrics_df = pd.DataFrame({'IoU': iou, 'Pixel Accuracy': pixel_accuracy, 'Dice Score': dice_score})\n",
        "metrics_df.index.name = 'Epoch'\n",
        "print(metrics_df)"
      ],
      "metadata": {
        "ExecuteTime": {
          "end_time": "2023-12-09T17:38:00.973208048Z",
          "start_time": "2023-12-09T17:38:00.083543866Z"
        },
        "colab": {
          "base_uri": "https://localhost:8080/",
          "height": 646
        },
        "id": "VwEMo-3P-B7F",
        "outputId": "e4d9ad42-3503-4faf-c2ee-7ced19ee8c3e"
      }
    },
    {
      "cell_type": "code",
      "source": [
        "# Построение графика метрик\n",
        "epochs = range(1, NUM_EPOCHS -1)\n",
        "plt.plot(epochs, iou, label='IoU')\n",
        "plt.plot(epochs, pixel_accuracy, label='Pixel Accuracy')\n",
        "plt.plot(epochs, dice_score, label='Dice Score')\n",
        "plt.title('Metrics')\n",
        "plt.xlabel('Epoch')\n",
        "plt.ylabel('Value')\n",
        "plt.legend()\n",
        "plt.show()"
      ],
      "metadata": {
        "colab": {
          "base_uri": "https://localhost:8080/",
          "height": 472
        },
        "id": "JJ2oOfUC-Prc",
        "outputId": "6eaf8a0c-e2cd-4205-8b9e-9ace5a92d2f8"
      },
      "execution_count": 134,
      "outputs": [
        {
          "output_type": "display_data",
          "data": {
            "text/plain": [
              "<Figure size 640x480 with 1 Axes>"
            ],
            "image/png": "[encoded data removed]"
          },
          "metadata": {}
        }
      ]
    },
    {
      "cell_type": "code",
      "source": [
        "# Создание таблицы с метриками каждые 3 эпохи\n",
        "metrics_df = pd.DataFrame({'IoU': [], 'Pixel Accuracy': [], 'Dice Score': []})\n",
        "\n",
        "for epoch in range(0, NUM_EPOCHS, 10):\n",
        "    metrics_df.loc[epoch] = [iou[epoch], pixel_accuracy[epoch], dice_score[epoch]]\n",
        "\n",
        "print(metrics_df)"
      ],
      "metadata": {
        "colab": {
          "base_uri": "https://localhost:8080/"
        },
        "id": "qI-a0-Ca9ucJ",
        "outputId": "c26e834e-b871-4a14-8131-9c7afa6e4cdd"
      },
      "execution_count": null,
      "outputs": [
        {
          "output_type": "stream",
          "name": "stdout",
          "text": [
            "        IoU  Pixel Accuracy  Dice Score\n",
            "0  0.185532        0.765260    0.312266\n",
            "3  0.261447        0.813107    0.414303\n"
          ]
        }
      ]
    },
    {
      "cell_type": "code",
      "execution_count": null,
      "outputs": [
        {
          "output_type": "stream",
          "name": "stdout",
          "text": [
            "Epoch 1/5\n",
            "23/23 [==============================] - 27s 1s/step - loss: 1.9572 - io_u: 0.4553 - val_loss: 1.3025 - val_io_u: 0.4586\n",
            "Epoch 2/5\n",
            "23/23 [==============================] - 27s 1s/step - loss: 1.6492 - io_u: 0.4553 - val_loss: 1.2413 - val_io_u: 0.4586\n",
            "Epoch 3/5\n",
            "23/23 [==============================] - 27s 1s/step - loss: 1.4987 - io_u: 0.4553 - val_loss: 1.1955 - val_io_u: 0.4586\n",
            "Epoch 4/5\n",
            "23/23 [==============================] - 27s 1s/step - loss: 1.4022 - io_u: 0.4553 - val_loss: 1.1622 - val_io_u: 0.4586\n",
            "Epoch 5/5\n",
            "23/23 [==============================] - 28s 1s/step - loss: 1.3388 - io_u: 0.4553 - val_loss: 1.1623 - val_io_u: 0.4586\n"
          ]
        },
        {
          "output_type": "execute_result",
          "data": {
            "text/plain": [
              "<keras.src.callbacks.History at 0x7ce4150ecc70>"
            ]
          },
          "metadata": {},
          "execution_count": 66
        }
      ],
      "source": [
        "# Создание и обучение модели U-Net\n",
        "model.fit(train_images, train_masks, validation_data=(valid_images, valid_masks), epochs=5, batch_size=16)\n"
      ],
      "metadata": {
        "ExecuteTime": {
          "end_time": "2023-12-05T11:57:46.312923332Z",
          "start_time": "2023-12-05T11:19:29.492824039Z"
        },
        "colab": {
          "base_uri": "https://localhost:8080/"
        },
        "id": "Xll1fPUU-B7F",
        "outputId": "504455ad-9638-40a8-80af-818f73e1db05"
      }
    },
    {
      "cell_type": "code",
      "execution_count": null,
      "outputs": [
        {
          "output_type": "stream",
          "name": "stdout",
          "text": [
            "Epoch 1/20\n",
            "23/23 [==============================] - 28s 1s/step - loss: 1.3060 - io_u: 0.4553 - val_loss: 1.1766 - val_io_u: 0.4586\n",
            "Epoch 2/20\n",
            "23/23 [==============================] - 27s 1s/step - loss: 1.2869 - io_u: 0.4553 - val_loss: 1.1695 - val_io_u: 0.4586\n",
            "Epoch 3/20\n",
            "23/23 [==============================] - 27s 1s/step - loss: 1.2733 - io_u: 0.4553 - val_loss: 1.1476 - val_io_u: 0.4586\n",
            "Epoch 4/20\n",
            "23/23 [==============================] - 27s 1s/step - loss: 1.2604 - io_u: 0.4553 - val_loss: 1.1576 - val_io_u: 0.4586\n",
            "Epoch 5/20\n",
            "23/23 [==============================] - 27s 1s/step - loss: 1.2512 - io_u: 0.4553 - val_loss: 1.1588 - val_io_u: 0.4586\n",
            "Epoch 6/20\n",
            "23/23 [==============================] - 28s 1s/step - loss: 1.2428 - io_u: 0.4553 - val_loss: 1.1433 - val_io_u: 0.4586\n",
            "Epoch 7/20\n",
            "23/23 [==============================] - 28s 1s/step - loss: 1.2366 - io_u: 0.4553 - val_loss: 1.1394 - val_io_u: 0.4586\n",
            "Epoch 8/20\n",
            "23/23 [==============================] - 28s 1s/step - loss: 1.2279 - io_u: 0.4553 - val_loss: 1.1323 - val_io_u: 0.4586\n",
            "Epoch 9/20\n",
            "23/23 [==============================] - 28s 1s/step - loss: 1.2216 - io_u: 0.4553 - val_loss: 1.1626 - val_io_u: 0.4586\n",
            "Epoch 10/20\n",
            "23/23 [==============================] - 27s 1s/step - loss: 1.2162 - io_u: 0.4553 - val_loss: 1.1392 - val_io_u: 0.4586\n",
            "Epoch 11/20\n",
            "23/23 [==============================] - 28s 1s/step - loss: 1.2110 - io_u: 0.4553 - val_loss: 1.1210 - val_io_u: 0.4586\n",
            "Epoch 12/20\n",
            "23/23 [==============================] - 28s 1s/step - loss: 1.2034 - io_u: 0.4553 - val_loss: 1.1508 - val_io_u: 0.4586\n",
            "Epoch 13/20\n",
            "23/23 [==============================] - 28s 1s/step - loss: 1.1971 - io_u: 0.4553 - val_loss: 1.1576 - val_io_u: 0.4586\n",
            "Epoch 14/20\n",
            "23/23 [==============================] - 27s 1s/step - loss: 1.1889 - io_u: 0.4553 - val_loss: 1.2127 - val_io_u: 0.4586\n",
            "Epoch 15/20\n",
            "23/23 [==============================] - 28s 1s/step - loss: 1.1736 - io_u: 0.4553 - val_loss: 1.3596 - val_io_u: 0.4586\n",
            "Epoch 16/20\n",
            "23/23 [==============================] - 28s 1s/step - loss: 1.1737 - io_u: 0.4553 - val_loss: 1.3001 - val_io_u: 0.4586\n",
            "Epoch 17/20\n",
            "23/23 [==============================] - 28s 1s/step - loss: 1.0338 - io_u: 0.4553 - val_loss: 1.8857 - val_io_u: 0.4586\n",
            "Epoch 18/20\n",
            "23/23 [==============================] - 28s 1s/step - loss: 1.1283 - io_u: 0.4552 - val_loss: 1.3621 - val_io_u: 0.4586\n",
            "Epoch 19/20\n",
            "23/23 [==============================] - 28s 1s/step - loss: 1.0874 - io_u: 0.4553 - val_loss: 1.3428 - val_io_u: 0.4586\n",
            "Epoch 20/20\n",
            "23/23 [==============================] - 27s 1s/step - loss: 1.0552 - io_u: 0.4553 - val_loss: 1.5343 - val_io_u: 0.4586\n"
          ]
        },
        {
          "output_type": "execute_result",
          "data": {
            "text/plain": [
              "<keras.src.callbacks.History at 0x7ce42af13040>"
            ]
          },
          "metadata": {},
          "execution_count": 67
        }
      ],
      "source": [
        "# Создание и обучение модели U-Net\n",
        "model.fit(train_images, train_masks, validation_data=(valid_images, valid_masks), epochs=20, batch_size=16)"
      ],
      "metadata": {
        "ExecuteTime": {
          "end_time": "2023-12-05T09:39:22.005824384Z",
          "start_time": "2023-12-05T09:10:41.692685728Z"
        },
        "colab": {
          "base_uri": "https://localhost:8080/"
        },
        "id": "tkL9DDNW-B7G",
        "outputId": "80282422-8c8b-4c7a-8338-d3f12980985e"
      }
    },
    {
      "cell_type": "code",
      "execution_count": null,
      "outputs": [
        {
          "output_type": "stream",
          "name": "stdout",
          "text": [
            "Epoch 1/20\n",
            "23/23 [==============================] - 28s 1s/step - loss: 0.9477 - io_u: 0.4553 - val_loss: 1.5060 - val_io_u: 0.4586\n",
            "Epoch 2/20\n",
            "23/23 [==============================] - 27s 1s/step - loss: 0.8637 - io_u: 0.4553 - val_loss: 1.3611 - val_io_u: 0.4586\n",
            "Epoch 3/20\n",
            "23/23 [==============================] - 27s 1s/step - loss: 0.8248 - io_u: 0.4553 - val_loss: 1.4697 - val_io_u: 0.4586\n",
            "Epoch 4/20\n",
            "23/23 [==============================] - 27s 1s/step - loss: 0.7634 - io_u: 0.4554 - val_loss: 2.0517 - val_io_u: 0.4586\n",
            "Epoch 5/20\n",
            "23/23 [==============================] - 28s 1s/step - loss: 0.7207 - io_u: 0.4554 - val_loss: 0.9921 - val_io_u: 0.4586\n",
            "Epoch 6/20\n",
            "23/23 [==============================] - 28s 1s/step - loss: 0.7070 - io_u: 0.4554 - val_loss: 0.8870 - val_io_u: 0.4586\n",
            "Epoch 7/20\n",
            "23/23 [==============================] - 27s 1s/step - loss: 0.6809 - io_u: 0.4555 - val_loss: 1.0162 - val_io_u: 0.4586\n",
            "Epoch 8/20\n",
            "23/23 [==============================] - 28s 1s/step - loss: 0.6395 - io_u: 0.4555 - val_loss: 0.9956 - val_io_u: 0.4586\n",
            "Epoch 9/20\n",
            "23/23 [==============================] - 28s 1s/step - loss: 0.6226 - io_u: 0.4555 - val_loss: 0.9557 - val_io_u: 0.4586\n",
            "Epoch 10/20\n",
            "23/23 [==============================] - 27s 1s/step - loss: 0.5966 - io_u: 0.4555 - val_loss: 0.9059 - val_io_u: 0.4586\n",
            "Epoch 11/20\n",
            "23/23 [==============================] - 27s 1s/step - loss: 0.5768 - io_u: 0.4556 - val_loss: 0.8502 - val_io_u: 0.4586\n",
            "Epoch 12/20\n",
            "23/23 [==============================] - 28s 1s/step - loss: 0.5665 - io_u: 0.4555 - val_loss: 0.8614 - val_io_u: 0.4586\n",
            "Epoch 13/20\n",
            "23/23 [==============================] - 27s 1s/step - loss: 0.5566 - io_u: 0.4555 - val_loss: 0.8682 - val_io_u: 0.4586\n",
            "Epoch 14/20\n",
            "23/23 [==============================] - 28s 1s/step - loss: 0.5362 - io_u: 0.4556 - val_loss: 0.8490 - val_io_u: 0.4586\n",
            "Epoch 15/20\n",
            "23/23 [==============================] - 27s 1s/step - loss: 0.5276 - io_u: 0.4556 - val_loss: 0.8485 - val_io_u: 0.4586\n",
            "Epoch 16/20\n",
            "23/23 [==============================] - 28s 1s/step - loss: 0.5194 - io_u: 0.4556 - val_loss: 0.8746 - val_io_u: 0.4586\n",
            "Epoch 17/20\n",
            "23/23 [==============================] - 27s 1s/step - loss: 0.5078 - io_u: 0.4557 - val_loss: 0.8448 - val_io_u: 0.4586\n",
            "Epoch 18/20\n",
            "23/23 [==============================] - 27s 1s/step - loss: 0.4981 - io_u: 0.4557 - val_loss: 0.7990 - val_io_u: 0.4586\n",
            "Epoch 19/20\n",
            "23/23 [==============================] - 27s 1s/step - loss: 0.4983 - io_u: 0.4557 - val_loss: 0.6198 - val_io_u: 0.4586\n",
            "Epoch 20/20\n",
            "23/23 [==============================] - 27s 1s/step - loss: 0.4832 - io_u: 0.4558 - val_loss: 0.6557 - val_io_u: 0.4586\n"
          ]
        },
        {
          "output_type": "execute_result",
          "data": {
            "text/plain": [
              "<keras.src.callbacks.History at 0x7ce42af11b70>"
            ]
          },
          "metadata": {},
          "execution_count": 68
        }
      ],
      "source": [
        "# Создание и обучение модели U-Net\n",
        "model.fit(train_images, train_masks, validation_data=(valid_images, valid_masks), epochs=20, batch_size=16)"
      ],
      "metadata": {
        "colab": {
          "base_uri": "https://localhost:8080/"
        },
        "id": "fm5PlXzT-B7G",
        "outputId": "d1be9c1a-f309-481e-e2b6-2fa73e834efc"
      }
    },
    {
      "cell_type": "code",
      "execution_count": null,
      "outputs": [
        {
          "output_type": "stream",
          "name": "stdout",
          "text": [
            "Epoch 1/20\n",
            "23/23 [==============================] - 27s 1s/step - loss: 0.4753 - io_u: 0.4558 - val_loss: 0.5837 - val_io_u: 0.4586\n",
            "Epoch 2/20\n",
            "23/23 [==============================] - 27s 1s/step - loss: 0.4616 - io_u: 0.4561 - val_loss: 0.5500 - val_io_u: 0.4587\n",
            "Epoch 3/20\n",
            "23/23 [==============================] - 27s 1s/step - loss: 0.4547 - io_u: 0.4561 - val_loss: 0.5482 - val_io_u: 0.4587\n",
            "Epoch 4/20\n",
            "23/23 [==============================] - 28s 1s/step - loss: 0.4503 - io_u: 0.4563 - val_loss: 0.5347 - val_io_u: 0.4587\n",
            "Epoch 5/20\n",
            "23/23 [==============================] - 28s 1s/step - loss: 0.4438 - io_u: 0.4565 - val_loss: 0.4850 - val_io_u: 0.4588\n",
            "Epoch 6/20\n",
            "23/23 [==============================] - 27s 1s/step - loss: 0.4331 - io_u: 0.4564 - val_loss: 0.4985 - val_io_u: 0.4599\n",
            "Epoch 7/20\n",
            "23/23 [==============================] - 28s 1s/step - loss: 0.4289 - io_u: 0.4567 - val_loss: 0.4869 - val_io_u: 0.4599\n",
            "Epoch 8/20\n",
            "23/23 [==============================] - 27s 1s/step - loss: 0.4206 - io_u: 0.4569 - val_loss: 0.5024 - val_io_u: 0.4617\n",
            "Epoch 9/20\n",
            "23/23 [==============================] - 27s 1s/step - loss: 0.4149 - io_u: 0.4571 - val_loss: 0.4534 - val_io_u: 0.4602\n",
            "Epoch 10/20\n",
            "23/23 [==============================] - 27s 1s/step - loss: 0.4083 - io_u: 0.4574 - val_loss: 0.4889 - val_io_u: 0.4612\n",
            "Epoch 11/20\n",
            "23/23 [==============================] - 27s 1s/step - loss: 0.4026 - io_u: 0.4572 - val_loss: 0.4714 - val_io_u: 0.4617\n",
            "Epoch 12/20\n",
            "23/23 [==============================] - 27s 1s/step - loss: 0.3956 - io_u: 0.4577 - val_loss: 0.4589 - val_io_u: 0.4608\n",
            "Epoch 13/20\n",
            "23/23 [==============================] - 28s 1s/step - loss: 0.3924 - io_u: 0.4575 - val_loss: 0.4039 - val_io_u: 0.4591\n",
            "Epoch 14/20\n",
            "23/23 [==============================] - 28s 1s/step - loss: 0.3939 - io_u: 0.4575 - val_loss: 0.4412 - val_io_u: 0.4599\n",
            "Epoch 15/20\n",
            "23/23 [==============================] - 28s 1s/step - loss: 0.3801 - io_u: 0.4580 - val_loss: 0.4421 - val_io_u: 0.4596\n",
            "Epoch 16/20\n",
            "23/23 [==============================] - 28s 1s/step - loss: 0.3759 - io_u: 0.4579 - val_loss: 0.4196 - val_io_u: 0.4597\n",
            "Epoch 17/20\n",
            "23/23 [==============================] - 28s 1s/step - loss: 0.3694 - io_u: 0.4585 - val_loss: 0.4319 - val_io_u: 0.4596\n",
            "Epoch 18/20\n",
            "23/23 [==============================] - 27s 1s/step - loss: 0.3680 - io_u: 0.4587 - val_loss: 0.3982 - val_io_u: 0.4589\n",
            "Epoch 19/20\n",
            "23/23 [==============================] - 27s 1s/step - loss: 0.3629 - io_u: 0.4585 - val_loss: 0.3968 - val_io_u: 0.4589\n",
            "Epoch 20/20\n",
            "23/23 [==============================] - 27s 1s/step - loss: 0.3551 - io_u: 0.4593 - val_loss: 0.4042 - val_io_u: 0.4590\n"
          ]
        },
        {
          "output_type": "execute_result",
          "data": {
            "text/plain": [
              "<keras.src.callbacks.History at 0x7ce42af4af50>"
            ]
          },
          "metadata": {},
          "execution_count": 69
        }
      ],
      "source": [
        "# Создание и обучение модели U-Net\n",
        "model.fit(train_images, train_masks, validation_data=(valid_images, valid_masks), epochs=20, batch_size=16)"
      ],
      "metadata": {
        "colab": {
          "base_uri": "https://localhost:8080/"
        },
        "id": "YVbay_VR-B7G",
        "outputId": "13050bf8-9cc9-447d-c358-32c3350a4e95"
      }
    },
    {
      "cell_type": "code",
      "execution_count": null,
      "outputs": [],
      "source": [
        "tf.saved_model.save(model, 'model')"
      ],
      "metadata": {
        "ExecuteTime": {
          "end_time": "2023-12-05T12:22:13.334078559Z",
          "start_time": "2023-12-05T12:22:07.128811572Z"
        },
        "id": "J3cGg8Je-B7G"
      }
    },
    {
      "cell_type": "code",
      "execution_count": null,
      "outputs": [
        {
          "output_type": "stream",
          "name": "stdout",
          "text": [
            "4/4 [==============================] - 43s 6s/step\n"
          ]
        }
      ],
      "source": [
        "result = model.predict(test_images)"
      ],
      "metadata": {
        "ExecuteTime": {
          "end_time": "2023-12-09T17:21:09.076499758Z",
          "start_time": "2023-12-09T17:20:40.641542787Z"
        },
        "colab": {
          "base_uri": "https://localhost:8080/"
        },
        "id": "w29aoheE-B7G",
        "outputId": "9ef286e9-ba6c-43fb-ceda-a1ab60e8e57b"
      }
    },
    {
      "cell_type": "code",
      "execution_count": null,
      "outputs": [
        {
          "output_type": "stream",
          "name": "stdout",
          "text": [
            "[[[0.47826827]\n",
            "  [0.4567435 ]\n",
            "  [0.44960868]\n",
            "  ...\n",
            "  [0.43913844]\n",
            "  [0.44659108]\n",
            "  [0.46055973]]\n",
            "\n",
            " [[0.46718577]\n",
            "  [0.43787858]\n",
            "  [0.42536798]\n",
            "  ...\n",
            "  [0.41276035]\n",
            "  [0.42190522]\n",
            "  [0.442816  ]]\n",
            "\n",
            " [[0.46031493]\n",
            "  [0.42663103]\n",
            "  [0.40714276]\n",
            "  ...\n",
            "  [0.39471728]\n",
            "  [0.40625688]\n",
            "  [0.43720105]]\n",
            "\n",
            " ...\n",
            "\n",
            " [[0.46772075]\n",
            "  [0.44164702]\n",
            "  [0.42195997]\n",
            "  ...\n",
            "  [0.40847135]\n",
            "  [0.42225954]\n",
            "  [0.44574282]]\n",
            "\n",
            " [[0.4658373 ]\n",
            "  [0.44093165]\n",
            "  [0.4232233 ]\n",
            "  ...\n",
            "  [0.41868037]\n",
            "  [0.42743284]\n",
            "  [0.45218676]]\n",
            "\n",
            " [[0.48402107]\n",
            "  [0.4716454 ]\n",
            "  [0.4632017 ]\n",
            "  ...\n",
            "  [0.46032968]\n",
            "  [0.4701092 ]\n",
            "  [0.4765877 ]]]\n"
          ]
        }
      ],
      "source": [
        "print(result[0])"
      ],
      "metadata": {
        "ExecuteTime": {
          "end_time": "2023-12-09T17:21:53.495200530Z",
          "start_time": "2023-12-09T17:21:53.465913659Z"
        },
        "colab": {
          "base_uri": "https://localhost:8080/"
        },
        "id": "zghLwt6l-B7H",
        "outputId": "087ea850-fdae-4288-b6e7-24003e0914b9"
      }
    },
    {
      "cell_type": "code",
      "execution_count": null,
      "outputs": [],
      "source": [
        "from PIL import Image\n",
        "import numpy as np\n",
        "\n",
        "# Предположим, что результат предсказания модели содержит вероятности пикселей для каждого класса\n",
        "# Размерность результатов предсказания: (batch_size, HEIGHT, WIDTH, num_classes)\n",
        "\n",
        "# Предположим, что результат предсказания модели содержит вероятности пикселей для каждого класса\n",
        "# Размерность результатов предсказания: (batch_size, HEIGHT, WIDTH, num_classes)\n",
        "num_classes = 7  # Количество классов (6 классов + 1 класс \"ничего\")\n",
        "  # Порог для принятия решения о наличии объекта на пикселе\n",
        "# Преобразование результатов предсказания в маски с максимальными значениями классов\n",
        "part = 100\n",
        "predicted_masks = result[:part]\n",
        "threshold = 1.5 * np.mean(result)\n",
        "# true_masks = test_masks\n",
        "# Создание палитры цветов для каждого класса\n",
        "palette = [\n",
        "    (0, 0, 0),  # Класс \"ничего\" (черный цвет)\n",
        "    (255, 0, 0),  # Класс 1 (красный цвет)\n",
        "    (0, 255, 0),  # Класс 2 (зеленый цвет)\n",
        "    (0, 0, 255),  # Класс 3 (синий цвет)\n",
        "    (255, 255, 0),  # Класс 4 (желтый цвет)\n",
        "    (255, 0, 255),  # Класс 5 (пурпурный цвет)\n",
        "    (0, 255, 255),  # Класс 6 (бирюзовый цвет)\n",
        "    (255, 255, 255)\n",
        "]\n",
        "#\n",
        "# Создание изображений для каждого предсказанного класса\n",
        "for i in range(min(predicted_masks.shape[0], part)):\n",
        "    image = Image.new(\"RGB\",\n",
        "                      (\n",
        "                          WIDTH, HEIGHT\n",
        "                      )\n",
        "                      )\n",
        "    true = Image.new(\"RGB\",\n",
        "                      (\n",
        "                          WIDTH, HEIGHT\n",
        "                      )\n",
        "                      )\n",
        "    # true_mask = Image.new(\"RGB\",\n",
        "    #                   (\n",
        "    #                       WIDTH, HEIGHT\n",
        "    #                   )\n",
        "    #                   )\n",
        "    for y in range(\n",
        "            HEIGHT\n",
        "    ):\n",
        "        for x in range(\n",
        "                WIDTH\n",
        "        ):\n",
        "            if predicted_masks[i][y][x] >= threshold:\n",
        "                class_index = 7\n",
        "            else:\n",
        "                class_index = 0\n",
        "            # val = predicted_masks[i][x][y]\n",
        "            image.putpixel((x, y), palette[class_index])  #(int(val * 255), int(val * 255), int(val * 255)))\n",
        "            val = test_masks[i][y][x]\n",
        "            true.putpixel((x,y), (int(255 * val), int(255 * val), int(255 * val)))\n",
        "            # if true_masks[i][y][x] >= threshold:\n",
        "            #     true_mask.putpixel((x, y), palette[7])\n",
        "            # else:\n",
        "            #     true_mask.putpixel((x, y), palette[0])\n",
        "    image.save(f\"result/predicted_image_{i}.png\")\n",
        "    true.save(f\"result/predicted_image_{i}_true.png\")\n",
        "\n",
        "    # true_mask.save(f\"result_small_5/predicted_image_{i}_true.png\")\n",
        "\n"
      ],
      "metadata": {
        "ExecuteTime": {
          "end_time": "2023-12-09T17:22:22.430266493Z",
          "start_time": "2023-12-09T17:22:00.891265460Z"
        },
        "id": "CFWDLO-2-B7H"
      }
    },
    {
      "cell_type": "markdown",
      "source": [],
      "metadata": {
        "collapsed": false,
        "id": "yy4Gldre-B7H"
      }
    },
    {
      "cell_type": "code",
      "execution_count": null,
      "outputs": [],
      "source": [],
      "metadata": {
        "id": "gBVsmG4a-B7H"
      }
    },
    {
      "cell_type": "code",
      "execution_count": null,
      "outputs": [],
      "source": [
        "print(test_masks[0])"
      ],
      "metadata": {
        "id": "RR3PBXUM-B7H"
      }
    },
    {
      "cell_type": "code",
      "execution_count": null,
      "outputs": [],
      "source": [],
      "metadata": {
        "id": "AcNx8--i-B7I"
      }
    }
  ],
  "metadata": {
    "kernelspec": {
      "display_name": "Python 3",
      "name": "python3"
    },
    "language_info": {
      "codemirror_mode": {
        "name": "ipython",
        "version": 2
      },
      "file_extension": ".py",
      "mimetype": "text/x-python",
      "name": "python",
      "nbconvert_exporter": "python",
      "pygments_lexer": "ipython2",
      "version": "2.7.6"
    },
    "colab": {
      "provenance": [],
      "gpuType": "T4"
    },
    "accelerator": "GPU"
  },
  "nbformat": 4,
  "nbformat_minor": 0
}